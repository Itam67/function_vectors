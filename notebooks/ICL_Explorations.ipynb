{
 "cells": [
  {
   "cell_type": "markdown",
   "metadata": {
    "id": "P5a-Ozy8sMeM"
   },
   "source": [
    "# Setup Code"
   ]
  },
  {
   "cell_type": "code",
   "execution_count": 1,
   "metadata": {
    "id": "-HESnpt3U0-X"
   },
   "outputs": [],
   "source": [
    "import seaborn as sns\n",
    "import json\n",
    "\n",
    "# Plotly needs a different renderer for VSCode/Notebooks vs Colab argh\n",
    "import plotly.io as pio\n",
    "\n",
    "pio.renderers.default = \"png\"\n",
    "\n",
    "# Import stuff\n",
    "import torch\n",
    "import torch.nn as nn\n",
    "import torch.nn.functional as F\n",
    "import torch.optim as optim\n",
    "import numpy as np\n",
    "import einops\n",
    "from fancy_einsum import einsum\n",
    "import tqdm.notebook as tqdm\n",
    "import random\n",
    "from pathlib import Path\n",
    "import plotly.express as px\n",
    "from torch.utils.data import DataLoader\n",
    "import plotly.graph_objects as go\n",
    "import matplotlib.pyplot as plt"
   ]
  },
  {
   "cell_type": "code",
   "execution_count": 2,
   "metadata": {
    "id": "nGjGqwf7GrgA"
   },
   "outputs": [],
   "source": [
    "from typing import List, Union, Optional\n",
    "from functools import partial\n",
    "import copy\n",
    "\n",
    "import itertools\n",
    "from transformers import AutoModelForCausalLM, AutoConfig, AutoTokenizer\n",
    "import dataclasses\n",
    "import datasets\n",
    "from IPython.display import HTML\n",
    "\n",
    "\n",
    "import transformer_lens\n",
    "import transformer_lens.utils as utils\n",
    "from transformer_lens.hook_points import (\n",
    "    HookedRootModule,\n",
    "    HookPoint,\n",
    ")  # Hooking utilities\n",
    "from transformer_lens import HookedTransformer, HookedTransformerConfig, FactoredMatrix, ActivationCache\n",
    "\n",
    "# We turn automatic differentiation off, to save GPU memory, as this notebook focuses on model inference not model training.\n",
    "torch.set_grad_enabled(False)\n",
    "\n",
    "\n",
    "## Helper and Visual Functions\n",
    "def imshow(tensor, renderer=None, **kwargs):\n",
    "    px.imshow(utils.to_numpy(tensor), color_continuous_midpoint=0.0, color_continuous_scale=\"RdBu\", **kwargs).show(renderer)\n",
    "\n",
    "def line(tensor, renderer=None, **kwargs):\n",
    "    px.line(y=utils.to_numpy(tensor), **kwargs).show(renderer)\n",
    "\n",
    "def scatter(x, y, xaxis=\"\", yaxis=\"\", caxis=\"\", renderer=None, **kwargs):\n",
    "    x = utils.to_numpy(x)\n",
    "    y = utils.to_numpy(y)\n",
    "    px.scatter(y=y, x=x, labels={\"x\":xaxis, \"y\":yaxis, \"color\":caxis}, **kwargs).show(renderer)"
   ]
  },
  {
   "cell_type": "markdown",
   "metadata": {
    "id": "0vBxb7D4s73R"
   },
   "source": [
    "# Prompt Experimenting"
   ]
  },
  {
   "cell_type": "code",
   "execution_count": 3,
   "metadata": {},
   "outputs": [],
   "source": [
    "# Load the function vector for the antonym task\n",
    "FV = torch.load(\"FV_Llama.pt\")"
   ]
  },
  {
   "cell_type": "code",
   "execution_count": 4,
   "metadata": {},
   "outputs": [
    {
     "data": {
      "application/vnd.jupyter.widget-view+json": {
       "model_id": "e15d7da8471b4a64b733cda18d97ae09",
       "version_major": 2,
       "version_minor": 0
      },
      "text/plain": [
       "Loading checkpoint shards:   0%|          | 0/2 [00:00<?, ?it/s]"
      ]
     },
     "metadata": {},
     "output_type": "display_data"
    },
    {
     "name": "stdout",
     "output_type": "stream",
     "text": [
      "Loaded pretrained model meta-llama/Llama-2-7b-hf into HookedTransformer\n"
     ]
    }
   ],
   "source": [
    "from transformer_lens import HookedTransformer, HookedTransformerConfig, FactoredMatrix, ActivationCache\n",
    "\n",
    "# Load the model\n",
    "model = HookedTransformer.from_pretrained(\"meta-llama/Llama-2-7b-hf\", fold_ln=False, center_writing_weights=False, center_unembed=False)"
   ]
  },
  {
   "cell_type": "markdown",
   "metadata": {},
   "source": [
    "# Getting Dataset"
   ]
  },
  {
   "cell_type": "code",
   "execution_count": 5,
   "metadata": {},
   "outputs": [],
   "source": [
    "# Opening JSON file containing Examples\n",
    "f = open('../dataset_files/abstractive/antonym.json')\n",
    " \n",
    "# Returns JSON object \n",
    "examples = json.load(f)\n",
    "\n",
    "# Iterate through Examples\n",
    "dataset = []\n",
    "for example in examples:\n",
    "    dataset.append(example[\"input\"]+':'+example[\"output\"])\n",
    "\n",
    "prompts = []\n",
    "zero_shot_prompts = []\n",
    "answers = []\n",
    "\n",
    "# Split the dataset into prompts and answers with 2 examples per prompt\n",
    "for i in range(0, len(dataset)-5, 5):\n",
    "    # Create prompt and add to list\n",
    "    prompt = dataset[i]+', '+dataset[i+1]+', '+dataset[i+2]+', '+dataset[i+3]+', '+dataset[i+4]+', '+dataset[i+5].split(':')[0]+':'\n",
    "    prompts.append(prompt)\n",
    "\n",
    "    # Create zero-shot prompt\n",
    "    zero_shot_prompts.append(dataset[i+5].split(':')[0]+':')\n",
    "\n",
    "    # Store answer\n",
    "    answers.append(dataset[i+5].split(':')[1])"
   ]
  },
  {
   "cell_type": "markdown",
   "metadata": {},
   "source": [
    "# Convert Datset To Tokens"
   ]
  },
  {
   "cell_type": "code",
   "execution_count": 6,
   "metadata": {},
   "outputs": [],
   "source": [
    "# Set up Tokenizer\n",
    "model.tokenizer.padding_side = 'left'\n",
    "model.tokenizer.pad_token = model.tokenizer.eos_token\n",
    "\n",
    "# Get tokens from prompts\n",
    "#prompts_tokens = model.to_tokens(prompts)\n",
    "#prompts_tokens = prompts_tokens.cuda()\n",
    "zero_shot_tokens = model.to_tokens(zero_shot_prompts, prepend_bos=False)\n",
    "zero_shot_tokens = zero_shot_tokens.cuda()\n",
    "\n",
    "answers_tokens = model.to_tokens(answers, prepend_bos=False)\n",
    "answers_tokens = answers_tokens.cuda()"
   ]
  },
  {
   "cell_type": "markdown",
   "metadata": {},
   "source": [
    "# Run the Model"
   ]
  },
  {
   "cell_type": "code",
   "execution_count": 8,
   "metadata": {},
   "outputs": [],
   "source": [
    "# Run the model\n",
    "logits, c = model.run_with_cache(zero_shot_tokens[0])"
   ]
  },
  {
   "cell_type": "code",
   "execution_count": 56,
   "metadata": {},
   "outputs": [
    {
     "name": "stdout",
     "output_type": "stream",
     "text": [
      "['\\n', '', 'the', 'The', 'a'] ['false', 'true', 'False', \"'',\", 'boolean']\n"
     ]
    }
   ],
   "source": [
    "print(model.to_str_tokens(logits[0,-1].topk(5).indices), \n",
    "      model.to_str_tokens(model.unembed(c['ln_final.hook_normalized'])[0,-1].topk(5).indices))\n",
    "\n",
    "    "
   ]
  },
  {
   "cell_type": "markdown",
   "metadata": {},
   "source": [
    "# Check Accuracy"
   ]
  },
  {
   "cell_type": "code",
   "execution_count": null,
   "metadata": {},
   "outputs": [],
   "source": [
    "correct_examples = 0\n",
    "total = 0\n",
    "\n",
    "for i,x in enumerate(logits[:, -1]):\n",
    "    # Get top token\n",
    "    top_token = x.argmax()\n",
    "\n",
    "    # Check if top token is answer token\n",
    "    if model.tokenizer.decode(top_token) == model.tokenizer.decode(answers_tokens[i, -1]):\n",
    "        # Matches raw answer token\n",
    "        correct_examples+=1\n",
    "        \n",
    "    total += 1\n",
    "\n",
    "# Print average accuracy on the task\n",
    "print(correct_examples / total)"
   ]
  },
  {
   "cell_type": "markdown",
   "metadata": {
    "id": "qkM_mnKpSv09"
   },
   "source": [
    "# FV Hook Intervention"
   ]
  },
  {
   "cell_type": "code",
   "execution_count": 40,
   "metadata": {},
   "outputs": [],
   "source": [
    "# Store prompts that are successful interventions\n",
    "zero_s_cases = []\n",
    "\n",
    "correct_token_rank_prompts = []\n",
    "\n",
    "# Iterate over a batch\n",
    "for example_num in range(20):\n",
    "    \n",
    "    #print(\"________ Prompt: \",zero_shot_prompts[example_num],\"________\")    \n",
    "    \n",
    "    logits, _ = model.run_with_cache(zero_shot_tokens[example_num,:])\n",
    "    \n",
    "    #print(\"CONTROL TOP TOKEN:\",  model.tokenizer.decode(logits[:,-1].argmax()))\n",
    "    \n",
    "    #print(\"Answer token:\", answers[example_num])\n",
    "    \n",
    "    correct_token_rank = []\n",
    "    \n",
    "    for layer in range(25):\n",
    "        #print(\"LAYER:\", i)\n",
    "\n",
    "        # Create hook that adds function vector to the desired layer at last timestep\n",
    "        def FV_Hook(resid_pre, hook):\n",
    "            resid_pre[:, -1, :] += FV\n",
    "            return resid_pre\n",
    "\n",
    "        # Run the model with the hook at the desired layer\n",
    "        interv_logits = model.run_with_hooks(\n",
    "            zero_shot_tokens[example_num,:], \n",
    "            fwd_hooks=[\n",
    "                (utils.get_act_name(\"resid_pre\", layer), FV_Hook)\n",
    "            ]\n",
    "        )\n",
    "\n",
    "        # Store the answer token reciprocal rank\n",
    "        rr = 1/(torch.where(torch.sort(interv_logits[:, -1], descending=True).indices==answers_tokens[example_num, -1])[1].item()+1)\n",
    "        correct_token_rank.append(rr)\n",
    "        \n",
    "        # Store successful prompts\n",
    "        if(rr==1):\n",
    "            if zero_s_cases and zero_s_cases[-1]['id']==example_num:\n",
    "                # Add this layer to dict\n",
    "                zero_s_cases[-1]['layers'].append(layer)\n",
    "            else:\n",
    "                # Create dict with prompts info\n",
    "                prompt_dict = {}\n",
    "                prompt_dict['id'] = example_num\n",
    "                prompt_dict['tokens'] = zero_shot_tokens[example_num,:]\n",
    "                prompt_dict['answer_tk'] = answers_tokens[example_num, -1]\n",
    "                prompt_dict['layers'] = [layer]\n",
    "            \n",
    "                zero_s_cases.append(prompt_dict)\n",
    "        \n",
    "        # Print the top token and answer token rank\n",
    "        #print(model.to_str_tokens(interv_logits[:, -1].argmax()), \"rank:\",torch.where(torch.sort(interv_logits[:, -1], descending=True).indices==answers_tokens[example_num, -1])[1].item())\n",
    "\n",
    "    # Exclude zero-shot prompts where the intervention doesn't work\n",
    "    if max(correct_token_rank)==1:\n",
    "        correct_token_rank_prompts.append(correct_token_rank)"
   ]
  },
  {
   "cell_type": "code",
   "execution_count": 41,
   "metadata": {},
   "outputs": [
    {
     "data": {
      "image/png": "[encoded data removed]",
      "text/plain": [
       "<Figure size 640x480 with 1 Axes>"
      ]
     },
     "metadata": {},
     "output_type": "display_data"
    }
   ],
   "source": [
    "# Plot the results\n",
    "plt.ylim([0,2])\n",
    "for x in correct_token_rank_prompts:\n",
    "    plt.plot(x)\n"
   ]
  },
  {
   "cell_type": "code",
   "execution_count": null,
   "metadata": {},
   "outputs": [],
   "source": []
  },
  {
   "cell_type": "code",
   "execution_count": 42,
   "metadata": {},
   "outputs": [],
   "source": [
    "def get_intervention_activations_diff(model, tokens, layer):\n",
    "    model.reset_hooks()\n",
    "\n",
    "    control_logits, control_cache = model.run_with_cache(tokens)\n",
    "    control_projected = einsum('d_model, d_model d_vocab -> d_vocab', control_cache['ln_final.hook_normalized'][0,-1], model.W_U)\n",
    "    print(model.to_str_tokens(control_logits[0,-1].argmax()), model.to_str_tokens(control_projected.argmax()))\n",
    "\n",
    "    \n",
    "    def FV_Hook(resid_pre, hook):\n",
    "        resid_pre[:, -1, :] += FV\n",
    "        return resid_pre\n",
    "\n",
    "    model.add_hook(f\"blocks.{layer}.hook_resid_pre\", FV_Hook)\n",
    "\n",
    "    logits, interv_cache = model.run_with_cache(tokens)\n",
    "\n",
    "    interv_projected = einsum('d_model, d_model d_vocab -> d_vocab', interv_cache['ln_final.hook_normalized'][0,-1], model.W_U)\n",
    "    print(model.to_str_tokens(logits[0,-1].argmax()), model.to_str_tokens(interv_projected.argmax()))\n",
    "    \n",
    "    diffs = []\n",
    "    labels = []\n",
    "\n",
    "    for i in control_cache.keys():\n",
    "        if 'hook_attn_out' in i or 'hook_mlp_out' in i:\n",
    "            diffs.append((control_cache[i][0,-1] - interv_cache[i][0,-1]).square().sum().sqrt().item())\n",
    "            labels.append(i)\n",
    "\n",
    "    return diffs, labels, interv_cache, logits\n"
   ]
  },
  {
   "cell_type": "markdown",
   "metadata": {
    "id": "qkM_mnKpSv09"
   },
   "source": [
    "# Check Activation Differences"
   ]
  },
  {
   "cell_type": "markdown",
   "metadata": {
    "id": "EqJPVRjTSynF"
   },
   "source": [
    "### Value of answer logit across different layers at last token pos"
   ]
  },
  {
   "cell_type": "code",
   "execution_count": 39,
   "metadata": {},
   "outputs": [
    {
     "ename": "NameError",
     "evalue": "name 'zero_s_cases' is not defined",
     "output_type": "error",
     "traceback": [
      "\u001b[0;31m---------------------------------------------------------------------------\u001b[0m",
      "\u001b[0;31mNameError\u001b[0m                                 Traceback (most recent call last)",
      "Cell \u001b[0;32mIn[39], line 5\u001b[0m\n\u001b[1;32m      2\u001b[0m prompt_num \u001b[38;5;241m=\u001b[39m \u001b[38;5;241m1\u001b[39m\n\u001b[1;32m      4\u001b[0m \u001b[38;5;66;03m# Get tokens from prompt and first layer of intervention\u001b[39;00m\n\u001b[0;32m----> 5\u001b[0m prompt_dict \u001b[38;5;241m=\u001b[39m \u001b[43mzero_s_cases\u001b[49m[prompt_num]\n\u001b[1;32m      6\u001b[0m tks \u001b[38;5;241m=\u001b[39m prompt_dict[\u001b[38;5;124m'\u001b[39m\u001b[38;5;124mtokens\u001b[39m\u001b[38;5;124m'\u001b[39m]\n\u001b[1;32m      7\u001b[0m answer_tk \u001b[38;5;241m=\u001b[39m prompt_dict[\u001b[38;5;124m'\u001b[39m\u001b[38;5;124manswer_tk\u001b[39m\u001b[38;5;124m'\u001b[39m]\n",
      "\u001b[0;31mNameError\u001b[0m: name 'zero_s_cases' is not defined"
     ]
    }
   ],
   "source": [
    "# Select which prompt\n",
    "prompt_num = 1\n",
    "\n",
    "# Get tokens from prompt and first layer of intervention\n",
    "prompt_dict = zero_s_cases[prompt_num]\n",
    "tks = prompt_dict['tokens']\n",
    "answer_tk = prompt_dict['answer_tk']\n",
    "layer = prompt_dict['layers'][0]\n",
    "\n",
    "diffs, labels, cache, logits = get_intervention_activations_diff(model, tks, layer)"
   ]
  },
  {
   "cell_type": "code",
   "execution_count": null,
   "metadata": {},
   "outputs": [],
   "source": [
    "plt.plot(diffs)\n",
    "print([labels[x] for x in torch.tensor(diffs).topk(30).indices])"
   ]
  },
  {
   "cell_type": "code",
   "execution_count": null,
   "metadata": {},
   "outputs": [],
   "source": [
    "logits.shape, projection_vocab_acc.shape, accumulated_residual.shape"
   ]
  },
  {
   "cell_type": "code",
   "execution_count": 36,
   "metadata": {
    "colab": {
     "base_uri": "https://localhost:8080/"
    },
    "id": "p2Co6RpnUvf7",
    "outputId": "476d9fee-2d11-4852-8fc7-de67b3e6d85d"
   },
   "outputs": [
    {
     "ename": "NameError",
     "evalue": "name 'cache' is not defined",
     "output_type": "error",
     "traceback": [
      "\u001b[0;31m---------------------------------------------------------------------------\u001b[0m",
      "\u001b[0;31mNameError\u001b[0m                                 Traceback (most recent call last)",
      "Cell \u001b[0;32mIn[36], line 2\u001b[0m\n\u001b[1;32m      1\u001b[0m \u001b[38;5;66;03m#Project each layer residual at last token onto vocab space\u001b[39;00m\n\u001b[0;32m----> 2\u001b[0m accumulated_residual, labels \u001b[38;5;241m=\u001b[39m \u001b[43mcache\u001b[49m\u001b[38;5;241m.\u001b[39maccumulated_resid(\n\u001b[1;32m      3\u001b[0m     layer\u001b[38;5;241m=\u001b[39m\u001b[38;5;241m-\u001b[39m\u001b[38;5;241m1\u001b[39m, incl_mid\u001b[38;5;241m=\u001b[39m\u001b[38;5;28;01mTrue\u001b[39;00m, return_labels\u001b[38;5;241m=\u001b[39m\u001b[38;5;28;01mTrue\u001b[39;00m, apply_ln\u001b[38;5;241m=\u001b[39m\u001b[38;5;28;01mTrue\u001b[39;00m\n\u001b[1;32m      4\u001b[0m )\n\u001b[1;32m      7\u001b[0m projection_vocab_acc \u001b[38;5;241m=\u001b[39m einsum(\u001b[38;5;124m\"\u001b[39m\u001b[38;5;124mlayer d_model, d_model d_vocab --> layer d_vocab\u001b[39m\u001b[38;5;124m\"\u001b[39m, accumulated_residual[:,\u001b[38;5;241m0\u001b[39m,\u001b[38;5;241m-\u001b[39m\u001b[38;5;241m1\u001b[39m], model\u001b[38;5;241m.\u001b[39mW_U)\n\u001b[1;32m     10\u001b[0m plt\u001b[38;5;241m.\u001b[39mplot(projection_vocab_acc[:,answers_tokens[prompt_num, \u001b[38;5;241m-\u001b[39m\u001b[38;5;241m1\u001b[39m]]\u001b[38;5;241m.\u001b[39mcpu()\u001b[38;5;241m.\u001b[39mnumpy())\n",
      "\u001b[0;31mNameError\u001b[0m: name 'cache' is not defined"
     ]
    }
   ],
   "source": [
    "#Project each layer residual at last token onto vocab space\n",
    "accumulated_residual, labels = cache.accumulated_resid(\n",
    "    layer=-1, incl_mid=True, return_labels=True, apply_ln=True\n",
    ")\n",
    "\n",
    "\n",
    "projection_vocab_acc = einsum(\"layer d_model, d_model d_vocab --> layer d_vocab\", accumulated_residual[:,0,-1], model.W_U)\n",
    "\n",
    "\n",
    "plt.plot(projection_vocab_acc[:,answers_tokens[prompt_num, -1]].cpu().numpy())"
   ]
  },
  {
   "cell_type": "code",
   "execution_count": null,
   "metadata": {},
   "outputs": [],
   "source": [
    "for i, x in enumerate(model.to_str_tokens(projection_vocab_acc.argmax(dim=1))):\n",
    "    print(labels[i], i, \"TOP TOKEN: \" + x)"
   ]
  },
  {
   "cell_type": "code",
   "execution_count": 114,
   "metadata": {},
   "outputs": [
    {
     "data": {
      "text/plain": [
       "(torch.Size([65, 4096]), torch.Size([4096]))"
      ]
     },
     "execution_count": 114,
     "metadata": {},
     "output_type": "execute_result"
    }
   ],
   "source": [
    "per_component_residual[:,-1,:].shape, model.W_U[:,answer_tk].shape"
   ]
  },
  {
   "cell_type": "code",
   "execution_count": 137,
   "metadata": {},
   "outputs": [
    {
     "name": "stdout",
     "output_type": "stream",
     "text": [
      "['19_attn_out', '23_attn_out', '20_mlp_out', '30_mlp_out', '31_attn_out', '29_attn_out', '23_mlp_out', '25_mlp_out', '17_attn_out', '21_attn_out', '16_attn_out', '21_mlp_out', '28_mlp_out', '14_attn_out', '24_mlp_out', '18_attn_out', '15_attn_out', '22_mlp_out', '20_attn_out', '22_attn_out', '18_mlp_out', '28_attn_out', '30_attn_out', '26_attn_out', '27_attn_out', '24_attn_out', '4_attn_out', '14_mlp_out', '3_attn_out', '11_attn_out']\n",
      "None\n"
     ]
    },
    {
     "data": {
      "image/png": "[encoded data removed]",
      "text/plain": [
       "<Figure size 640x480 with 1 Axes>"
      ]
     },
     "metadata": {},
     "output_type": "display_data"
    }
   ],
   "source": [
    "#Project each component contribution residual at last token onto vocab space\n",
    "per_component_residual, decomp_labels = cache.decompose_resid(\n",
    "    layer=-1, pos_slice=-1, return_labels=True\n",
    ")\n",
    "\n",
    "\n",
    "dots_vocab = einsum(\"layer d_model, d_model --> layer\", per_component_residual[:,-1,:], model.W_U[:,answer_tk])\n",
    "\n",
    "\n",
    "plt.plot(dots_vocab.cpu().numpy())\n",
    "\n",
    "print(print([decomp_labels[x] for x in dots_vocab.cpu().topk(30).indices]))"
   ]
  },
  {
   "cell_type": "markdown",
   "metadata": {
    "id": "FYj-DbtzVRX4"
   },
   "source": [
    "### Look at top 1 token of projected residual stream and associated logit value"
   ]
  },
  {
   "cell_type": "code",
   "execution_count": 155,
   "metadata": {
    "colab": {
     "base_uri": "https://localhost:8080/"
    },
    "id": "eQSPfWFDTz3A",
    "outputId": "ed90b04c-81bd-47db-b704-13eeaa456bf6"
   },
   "outputs": [
    {
     "name": "stdout",
     "output_type": "stream",
     "text": [
      "torch.Size([65, 6])\n",
      "[['<s>', '<s>', '<s>', 'ions', 'ovis', '↔'], ['<s>', '<s>', '<s>', 'ions', 'ovis', '↔'], ['<s>', '<s>', '<s>', 'ions', '.', '↔'], ['<s>', '<s>', '<s>', 'idenote', 'ovis', '↔'], ['<s>', '<s>', '<s>', 'sierp', 'ato', '↔'], ['<s>', '<s>', '<s>', 'sierp', 'ato', '↔'], ['<s>', '<s>', '<s>', 'sierp', 'FC', 'шов'], ['<s>', '<s>', '<s>', 'sierp', '(', 'шов'], ['<s>', '<s>', '<s>', 'sierp', '(', 'шов'], ['<s>', '<s>', '<s>', 'sierp', '(', '↔'], ['<s>', '<s>', '<s>', 'sierp', '(', '↔'], ['<s>', '<s>', '<s>', 'sierp', 'pun', '↔'], ['<s>', '<s>', '<s>', 'sierp', 'pair', '↔'], ['<s>', '<s>', '<s>', 'sierp', 'sp', '↔'], ['<s>', '<s>', '<s>', 'sierp', 'р', '↔'], ['<s>', '<s>', '<s>', 'sierp', 'р', '↔'], ['<s>', '<s>', '<s>', 'sierp', 'fla', '↔'], ['<s>', '<s>', '<s>', 'sierp', ',', '↔'], ['<s>', '<s>', '<s>', 'sierp', '(', '↔'], ['<s>', '<s>', '<s>', 'sierp', '(', '↔'], ['<s>', '<s>', '<s>', 'sierp', '(', 'schließ'], ['<s>', '<s>', '<s>', 'sierp', '(', 'eper'], ['<s>', '<s>', '<s>', 'sierp', '(', 'stylesheet'], ['<s>', '<s>', '<s>', 'sierp', '(', 'eper'], ['<s>', '<s>', '<s>', 'sierp', '(', 'stylesheet'], ['<s>', '<s>', '<s>', 'sierp', '(', 'stylesheet'], ['<s>', '<s>', '<s>', 'sierp', 'ness', 'schließ'], ['<s>', '<s>', '<s>', 'sierp', '(', 'schließ'], ['<s>', '<s>', '<s>', 'sierp', 'ness', 'epen'], ['<s>', '<s>', '<s>', 'sierp', '(', 'schließ'], ['<s>', '<s>', '<s>', 'sierp', 'ness', 'ん'], ['<s>', '<s>', '<s>', 'sierp', '(', 'famil'], ['<s>', '<s>', '<s>', 'sierp', 'ness', 'aps'], ['<s>', '<s>', '<s>', 'sierp', 'ness', 'eri'], ['<s>', '<s>', '<s>', 'sierp', 'ness', 'eri'], ['<s>', '<s>', '<s>', 'sierp', 'ness', 'partiellement'], ['<s>', '<s>', '<s>', 'sierp', 'to', 'rum'], ['<s>', '<s>', '<s>', 'sierp', 'to', 'ich'], ['<s>', '<s>', '<s>', 'sierp', 'to', 'famil'], ['<s>', '<s>', '<s>', 'sierp', 'to', 'related'], ['<s>', '<s>', '<s>', 'sierp', 'to', 'related'], ['<s>', '<s>', '<s>', 'sierp', 'to', 'related'], ['<s>', '<s>', '<s>', 'sierp', 'to', 'related'], ['<s>', '<s>', '<s>', 'sierp', 'to', 'related'], ['<s>', '<s>', '<s>', 'sierp', 'to', 'related'], ['<s>', '<s>', '<s>', 'sierp', 'to', 'related'], ['<s>', '<s>', '<s>', 'sierp', 'to', 'related'], ['<s>', '<s>', '<s>', 'sierp', 'to', 'related'], ['<s>', '<s>', '<s>', 'sierp', 'to', 'related'], ['<s>', '<s>', '<s>', 'sierp', 'to', 'related'], ['<s>', '<s>', '<s>', 'sierp', 'to', 'related'], ['<s>', '<s>', '<s>', 'sierp', 'to', 'related'], ['<s>', '<s>', '<s>', 'sierp', 'to', 'related'], ['<s>', '<s>', '<s>', 'sierp', 'to', 'related'], ['<s>', '<s>', '<s>', 'sierp', 'to', 'related'], ['<s>', '<s>', '<s>', 'sierp', 'to', 'related'], ['<s>', '<s>', '<s>', 'sierp', 'to', 'related'], ['<s>', '<s>', '<s>', 'sierp', 'to', 'related'], ['<s>', '<s>', '<s>', 'sierp', 'to', 'related'], ['<s>', '<s>', '<s>', 'sierp', 'to', 'related'], ['<s>', '<s>', '<s>', 'sierp', 'to', 'in'], ['<s>', '<s>', '<s>', 'Unterscheidung', 'to', 'in'], ['<s>', '<s>', '<s>', 'Unterscheidung', 'to', 'in'], ['<s>', '<s>', '<s>', '.', 'to', 'in'], ['<s>', '<s>', '<s>', 'cover', 'to', '.']]\n"
     ]
    },
    {
     "data": {
      "text/plain": [
       "<Axes: >"
      ]
     },
     "execution_count": 155,
     "metadata": {},
     "output_type": "execute_result"
    },
    {
     "data": {
      "image/png": "[encoded data removed]",
      "text/plain": [
       "<Figure size 1200x1000 with 2 Axes>"
      ]
     },
     "metadata": {},
     "output_type": "display_data"
    }
   ],
   "source": [
    "from matplotlib import pyplot as plt\n",
    "import numpy as np\n",
    "\n",
    "\n",
    "# Returns the accumulated residual stream at each layer/sub-layer and apply_ln applies final layer norm\n",
    "accumulated_residual, labels = cache.accumulated_resid(\n",
    "    layer=-1, incl_mid=True, apply_ln=True, return_labels=True\n",
    ")\n",
    "\n",
    "# Project each layer and each position onto vocab space\n",
    "projection_vocab = einsum(\"layer pos d_model, d_model d_vocab --> layer pos d_vocab\", accumulated_residual[:,0,:,:], model.W_U)\n",
    "\n",
    "# Get maximum logit at each layer\n",
    "max_logit, max_index = projection_vocab.max(-1)\n",
    "\n",
    "print(max_index.shape)\n",
    "\n",
    "# Convert max index tokens to strings\n",
    "\n",
    "print(top_preds)\n",
    "# Plot\n",
    "plt.figure(figsize=(12, 10))\n",
    "sns.heatmap(max_logit.cpu(), annot=top_preds, fmt = '', cmap='hot')"
   ]
  },
  {
   "cell_type": "markdown",
   "metadata": {},
   "source": [
    "# Get the specific components that contribute most"
   ]
  },
  {
   "cell_type": "code",
   "execution_count": 138,
   "metadata": {
    "colab": {
     "base_uri": "https://localhost:8080/"
    },
    "id": "OQd_eWQgqLkY",
    "outputId": "de625d9f-d2a4-4cbd-df81-d29b0882694b"
   },
   "outputs": [
    {
     "name": "stdout",
     "output_type": "stream",
     "text": [
      "0 19_attn_out 39\n",
      "1 23_attn_out 47\n",
      "2 20_mlp_out 42\n",
      "3 30_mlp_out 62\n",
      "4 31_attn_out 63\n",
      "5 29_attn_out 59\n",
      "6 23_mlp_out 48\n",
      "7 25_mlp_out 52\n",
      "8 17_attn_out 35\n",
      "9 21_attn_out 43\n"
     ]
    }
   ],
   "source": [
    "for i, x in enumerate(dots_vocab.topk(10).indices):\n",
    "    print(i, decomp_labels[x], x.item())"
   ]
  },
  {
   "cell_type": "code",
   "execution_count": 158,
   "metadata": {},
   "outputs": [
    {
     "name": "stdout",
     "output_type": "stream",
     "text": [
      "torch.Size([1024, 1, 4096])\n"
     ]
    },
    {
     "ename": "ValueError",
     "evalue": "\nImage export using the \"kaleido\" engine requires the kaleido package,\nwhich can be installed using pip:\n    $ pip install -U kaleido\n",
     "output_type": "error",
     "traceback": [
      "\u001b[0;31m---------------------------------------------------------------------------\u001b[0m",
      "\u001b[0;31mValueError\u001b[0m                                Traceback (most recent call last)",
      "Cell \u001b[0;32mIn[158], line 20\u001b[0m\n\u001b[1;32m     13\u001b[0m \u001b[38;5;66;03m# Rearrange for plotting\\\u001b[39;00m\n\u001b[1;32m     14\u001b[0m per_head_dot \u001b[38;5;241m=\u001b[39m einops\u001b[38;5;241m.\u001b[39mrearrange(\n\u001b[1;32m     15\u001b[0m     per_head_dot,\n\u001b[1;32m     16\u001b[0m     \u001b[38;5;124m\"\u001b[39m\u001b[38;5;124m(layer head_index) -> layer head_index\u001b[39m\u001b[38;5;124m\"\u001b[39m,\n\u001b[1;32m     17\u001b[0m     layer\u001b[38;5;241m=\u001b[39mmodel\u001b[38;5;241m.\u001b[39mcfg\u001b[38;5;241m.\u001b[39mn_layers,\n\u001b[1;32m     18\u001b[0m     head_index\u001b[38;5;241m=\u001b[39mmodel\u001b[38;5;241m.\u001b[39mcfg\u001b[38;5;241m.\u001b[39mn_heads,\n\u001b[1;32m     19\u001b[0m )\n\u001b[0;32m---> 20\u001b[0m \u001b[43mimshow\u001b[49m\u001b[43m(\u001b[49m\n\u001b[1;32m     21\u001b[0m \u001b[43m    \u001b[49m\u001b[43mper_head_dot\u001b[49m\u001b[43m,\u001b[49m\n\u001b[1;32m     22\u001b[0m \u001b[43m    \u001b[49m\u001b[43mlabels\u001b[49m\u001b[38;5;241;43m=\u001b[39;49m\u001b[43m{\u001b[49m\u001b[38;5;124;43m\"\u001b[39;49m\u001b[38;5;124;43mx\u001b[39;49m\u001b[38;5;124;43m\"\u001b[39;49m\u001b[43m:\u001b[49m\u001b[43m \u001b[49m\u001b[38;5;124;43m\"\u001b[39;49m\u001b[38;5;124;43mHead\u001b[39;49m\u001b[38;5;124;43m\"\u001b[39;49m\u001b[43m,\u001b[49m\u001b[43m \u001b[49m\u001b[38;5;124;43m\"\u001b[39;49m\u001b[38;5;124;43my\u001b[39;49m\u001b[38;5;124;43m\"\u001b[39;49m\u001b[43m:\u001b[49m\u001b[43m \u001b[49m\u001b[38;5;124;43m\"\u001b[39;49m\u001b[38;5;124;43mLayer\u001b[39;49m\u001b[38;5;124;43m\"\u001b[39;49m\u001b[43m}\u001b[49m\u001b[43m,\u001b[49m\n\u001b[1;32m     23\u001b[0m \u001b[43m    \u001b[49m\u001b[43mtitle\u001b[49m\u001b[38;5;241;43m=\u001b[39;49m\u001b[38;5;124;43m\"\u001b[39;49m\u001b[38;5;124;43mLogit Difference From Each Head\u001b[39;49m\u001b[38;5;124;43m\"\u001b[39;49m\u001b[43m,\u001b[49m\n\u001b[1;32m     24\u001b[0m \u001b[43m)\u001b[49m\n",
      "Cell \u001b[0;32mIn[2], line 26\u001b[0m, in \u001b[0;36mimshow\u001b[0;34m(tensor, renderer, **kwargs)\u001b[0m\n\u001b[1;32m     25\u001b[0m \u001b[38;5;28;01mdef\u001b[39;00m \u001b[38;5;21mimshow\u001b[39m(tensor, renderer\u001b[38;5;241m=\u001b[39m\u001b[38;5;28;01mNone\u001b[39;00m, \u001b[38;5;241m*\u001b[39m\u001b[38;5;241m*\u001b[39mkwargs):\n\u001b[0;32m---> 26\u001b[0m     \u001b[43mpx\u001b[49m\u001b[38;5;241;43m.\u001b[39;49m\u001b[43mimshow\u001b[49m\u001b[43m(\u001b[49m\u001b[43mutils\u001b[49m\u001b[38;5;241;43m.\u001b[39;49m\u001b[43mto_numpy\u001b[49m\u001b[43m(\u001b[49m\u001b[43mtensor\u001b[49m\u001b[43m)\u001b[49m\u001b[43m,\u001b[49m\u001b[43m \u001b[49m\u001b[43mcolor_continuous_midpoint\u001b[49m\u001b[38;5;241;43m=\u001b[39;49m\u001b[38;5;241;43m0.0\u001b[39;49m\u001b[43m,\u001b[49m\u001b[43m \u001b[49m\u001b[43mcolor_continuous_scale\u001b[49m\u001b[38;5;241;43m=\u001b[39;49m\u001b[38;5;124;43m\"\u001b[39;49m\u001b[38;5;124;43mRdBu\u001b[39;49m\u001b[38;5;124;43m\"\u001b[39;49m\u001b[43m,\u001b[49m\u001b[43m \u001b[49m\u001b[38;5;241;43m*\u001b[39;49m\u001b[38;5;241;43m*\u001b[39;49m\u001b[43mkwargs\u001b[49m\u001b[43m)\u001b[49m\u001b[38;5;241;43m.\u001b[39;49m\u001b[43mshow\u001b[49m\u001b[43m(\u001b[49m\u001b[43mrenderer\u001b[49m\u001b[43m)\u001b[49m\n",
      "File \u001b[0;32m~/miniconda3/envs/myenv/lib/python3.10/site-packages/plotly/basedatatypes.py:3410\u001b[0m, in \u001b[0;36mBaseFigure.show\u001b[0;34m(self, *args, **kwargs)\u001b[0m\n\u001b[1;32m   3377\u001b[0m \u001b[38;5;250m\u001b[39m\u001b[38;5;124;03m\"\"\"\u001b[39;00m\n\u001b[1;32m   3378\u001b[0m \u001b[38;5;124;03mShow a figure using either the default renderer(s) or the renderer(s)\u001b[39;00m\n\u001b[1;32m   3379\u001b[0m \u001b[38;5;124;03mspecified by the renderer argument\u001b[39;00m\n\u001b[0;32m   (...)\u001b[0m\n\u001b[1;32m   3406\u001b[0m \u001b[38;5;124;03mNone\u001b[39;00m\n\u001b[1;32m   3407\u001b[0m \u001b[38;5;124;03m\"\"\"\u001b[39;00m\n\u001b[1;32m   3408\u001b[0m \u001b[38;5;28;01mimport\u001b[39;00m \u001b[38;5;21;01mplotly\u001b[39;00m\u001b[38;5;21;01m.\u001b[39;00m\u001b[38;5;21;01mio\u001b[39;00m \u001b[38;5;28;01mas\u001b[39;00m \u001b[38;5;21;01mpio\u001b[39;00m\n\u001b[0;32m-> 3410\u001b[0m \u001b[38;5;28;01mreturn\u001b[39;00m \u001b[43mpio\u001b[49m\u001b[38;5;241;43m.\u001b[39;49m\u001b[43mshow\u001b[49m\u001b[43m(\u001b[49m\u001b[38;5;28;43mself\u001b[39;49m\u001b[43m,\u001b[49m\u001b[43m \u001b[49m\u001b[38;5;241;43m*\u001b[39;49m\u001b[43margs\u001b[49m\u001b[43m,\u001b[49m\u001b[43m \u001b[49m\u001b[38;5;241;43m*\u001b[39;49m\u001b[38;5;241;43m*\u001b[39;49m\u001b[43mkwargs\u001b[49m\u001b[43m)\u001b[49m\n",
      "File \u001b[0;32m~/miniconda3/envs/myenv/lib/python3.10/site-packages/plotly/io/_renderers.py:386\u001b[0m, in \u001b[0;36mshow\u001b[0;34m(fig, renderer, validate, **kwargs)\u001b[0m\n\u001b[1;32m    383\u001b[0m fig_dict \u001b[38;5;241m=\u001b[39m validate_coerce_fig_to_dict(fig, validate)\n\u001b[1;32m    385\u001b[0m \u001b[38;5;66;03m# Mimetype renderers\u001b[39;00m\n\u001b[0;32m--> 386\u001b[0m bundle \u001b[38;5;241m=\u001b[39m \u001b[43mrenderers\u001b[49m\u001b[38;5;241;43m.\u001b[39;49m\u001b[43m_build_mime_bundle\u001b[49m\u001b[43m(\u001b[49m\u001b[43mfig_dict\u001b[49m\u001b[43m,\u001b[49m\u001b[43m \u001b[49m\u001b[43mrenderers_string\u001b[49m\u001b[38;5;241;43m=\u001b[39;49m\u001b[43mrenderer\u001b[49m\u001b[43m,\u001b[49m\u001b[43m \u001b[49m\u001b[38;5;241;43m*\u001b[39;49m\u001b[38;5;241;43m*\u001b[39;49m\u001b[43mkwargs\u001b[49m\u001b[43m)\u001b[49m\n\u001b[1;32m    387\u001b[0m \u001b[38;5;28;01mif\u001b[39;00m bundle:\n\u001b[1;32m    388\u001b[0m     \u001b[38;5;28;01mif\u001b[39;00m \u001b[38;5;129;01mnot\u001b[39;00m ipython_display:\n",
      "File \u001b[0;32m~/miniconda3/envs/myenv/lib/python3.10/site-packages/plotly/io/_renderers.py:294\u001b[0m, in \u001b[0;36mRenderersConfig._build_mime_bundle\u001b[0;34m(self, fig_dict, renderers_string, **kwargs)\u001b[0m\n\u001b[1;32m    291\u001b[0m             \u001b[38;5;28;01mif\u001b[39;00m \u001b[38;5;28mhasattr\u001b[39m(renderer, k):\n\u001b[1;32m    292\u001b[0m                 \u001b[38;5;28msetattr\u001b[39m(renderer, k, v)\n\u001b[0;32m--> 294\u001b[0m         bundle\u001b[38;5;241m.\u001b[39mupdate(\u001b[43mrenderer\u001b[49m\u001b[38;5;241;43m.\u001b[39;49m\u001b[43mto_mimebundle\u001b[49m\u001b[43m(\u001b[49m\u001b[43mfig_dict\u001b[49m\u001b[43m)\u001b[49m)\n\u001b[1;32m    296\u001b[0m \u001b[38;5;28;01mreturn\u001b[39;00m bundle\n",
      "File \u001b[0;32m~/miniconda3/envs/myenv/lib/python3.10/site-packages/plotly/io/_base_renderers.py:126\u001b[0m, in \u001b[0;36mImageRenderer.to_mimebundle\u001b[0;34m(self, fig_dict)\u001b[0m\n\u001b[1;32m    125\u001b[0m \u001b[38;5;28;01mdef\u001b[39;00m \u001b[38;5;21mto_mimebundle\u001b[39m(\u001b[38;5;28mself\u001b[39m, fig_dict):\n\u001b[0;32m--> 126\u001b[0m     image_bytes \u001b[38;5;241m=\u001b[39m \u001b[43mto_image\u001b[49m\u001b[43m(\u001b[49m\n\u001b[1;32m    127\u001b[0m \u001b[43m        \u001b[49m\u001b[43mfig_dict\u001b[49m\u001b[43m,\u001b[49m\n\u001b[1;32m    128\u001b[0m \u001b[43m        \u001b[49m\u001b[38;5;28;43mformat\u001b[39;49m\u001b[38;5;241;43m=\u001b[39;49m\u001b[38;5;28;43mself\u001b[39;49m\u001b[38;5;241;43m.\u001b[39;49m\u001b[43mformat\u001b[49m\u001b[43m,\u001b[49m\n\u001b[1;32m    129\u001b[0m \u001b[43m        \u001b[49m\u001b[43mwidth\u001b[49m\u001b[38;5;241;43m=\u001b[39;49m\u001b[38;5;28;43mself\u001b[39;49m\u001b[38;5;241;43m.\u001b[39;49m\u001b[43mwidth\u001b[49m\u001b[43m,\u001b[49m\n\u001b[1;32m    130\u001b[0m \u001b[43m        \u001b[49m\u001b[43mheight\u001b[49m\u001b[38;5;241;43m=\u001b[39;49m\u001b[38;5;28;43mself\u001b[39;49m\u001b[38;5;241;43m.\u001b[39;49m\u001b[43mheight\u001b[49m\u001b[43m,\u001b[49m\n\u001b[1;32m    131\u001b[0m \u001b[43m        \u001b[49m\u001b[43mscale\u001b[49m\u001b[38;5;241;43m=\u001b[39;49m\u001b[38;5;28;43mself\u001b[39;49m\u001b[38;5;241;43m.\u001b[39;49m\u001b[43mscale\u001b[49m\u001b[43m,\u001b[49m\n\u001b[1;32m    132\u001b[0m \u001b[43m        \u001b[49m\u001b[43mvalidate\u001b[49m\u001b[38;5;241;43m=\u001b[39;49m\u001b[38;5;28;43;01mFalse\u001b[39;49;00m\u001b[43m,\u001b[49m\n\u001b[1;32m    133\u001b[0m \u001b[43m        \u001b[49m\u001b[43mengine\u001b[49m\u001b[38;5;241;43m=\u001b[39;49m\u001b[38;5;28;43mself\u001b[39;49m\u001b[38;5;241;43m.\u001b[39;49m\u001b[43mengine\u001b[49m\u001b[43m,\u001b[49m\n\u001b[1;32m    134\u001b[0m \u001b[43m    \u001b[49m\u001b[43m)\u001b[49m\n\u001b[1;32m    136\u001b[0m     \u001b[38;5;28;01mif\u001b[39;00m \u001b[38;5;28mself\u001b[39m\u001b[38;5;241m.\u001b[39mb64_encode:\n\u001b[1;32m    137\u001b[0m         image_str \u001b[38;5;241m=\u001b[39m base64\u001b[38;5;241m.\u001b[39mb64encode(image_bytes)\u001b[38;5;241m.\u001b[39mdecode(\u001b[38;5;124m\"\u001b[39m\u001b[38;5;124mutf8\u001b[39m\u001b[38;5;124m\"\u001b[39m)\n",
      "File \u001b[0;32m~/miniconda3/envs/myenv/lib/python3.10/site-packages/plotly/io/_kaleido.py:132\u001b[0m, in \u001b[0;36mto_image\u001b[0;34m(fig, format, width, height, scale, validate, engine)\u001b[0m\n\u001b[1;32m    130\u001b[0m     \u001b[38;5;66;03m# Raise informative error message if Kaleido is not installed\u001b[39;00m\n\u001b[1;32m    131\u001b[0m     \u001b[38;5;28;01mif\u001b[39;00m scope \u001b[38;5;129;01mis\u001b[39;00m \u001b[38;5;28;01mNone\u001b[39;00m:\n\u001b[0;32m--> 132\u001b[0m         \u001b[38;5;28;01mraise\u001b[39;00m \u001b[38;5;167;01mValueError\u001b[39;00m(\n\u001b[1;32m    133\u001b[0m \u001b[38;5;250m            \u001b[39m\u001b[38;5;124;03m\"\"\"\u001b[39;00m\n\u001b[1;32m    134\u001b[0m \u001b[38;5;124;03mImage export using the \"kaleido\" engine requires the kaleido package,\u001b[39;00m\n\u001b[1;32m    135\u001b[0m \u001b[38;5;124;03mwhich can be installed using pip:\u001b[39;00m\n\u001b[1;32m    136\u001b[0m \u001b[38;5;124;03m    $ pip install -U kaleido\u001b[39;00m\n\u001b[1;32m    137\u001b[0m \u001b[38;5;124;03m\"\"\"\u001b[39;00m\n\u001b[1;32m    138\u001b[0m         )\n\u001b[1;32m    140\u001b[0m     \u001b[38;5;66;03m# Validate figure\u001b[39;00m\n\u001b[1;32m    141\u001b[0m     \u001b[38;5;66;03m# ---------------\u001b[39;00m\n\u001b[1;32m    142\u001b[0m     fig_dict \u001b[38;5;241m=\u001b[39m validate_coerce_fig_to_dict(fig, validate)\n",
      "\u001b[0;31mValueError\u001b[0m: \nImage export using the \"kaleido\" engine requires the kaleido package,\nwhich can be installed using pip:\n    $ pip install -U kaleido\n"
     ]
    }
   ],
   "source": [
    "# Get head residuals\n",
    "per_head_residual, labels = cache.stack_head_results(\n",
    "    layer=-1, pos_slice=-1, apply_ln=True, return_labels=True\n",
    ")\n",
    "print(per_head_residual.shape)\n",
    "\n",
    "# Get the dot product of these with correct answer token\n",
    "per_head_dot = einsum(\"head d_model, d_model -> head\", per_head_residual[:,0,:], model.W_U[:, answer_tk])\n",
    "\n",
    "# Store top 10 heads\n",
    "top_heads = per_head_dot.topk(10).indices\n",
    "\n",
    "# Rearrange for plotting\\\n",
    "per_head_dot = einops.rearrange(\n",
    "    per_head_dot,\n",
    "    \"(layer head_index) -> layer head_index\",\n",
    "    layer=model.cfg.n_layers,\n",
    "    head_index=model.cfg.n_heads,\n",
    ")\n",
    "imshow(\n",
    "    per_head_dot,\n",
    "    labels={\"x\": \"Head\", \"y\": \"Layer\"},\n",
    "    title=\"Logit Difference From Each Head\",\n",
    ")"
   ]
  },
  {
   "cell_type": "code",
   "execution_count": null,
   "metadata": {},
   "outputs": [
    {
     "data": {
      "image/png": "[encoded data removed]"
     },
     "metadata": {},
     "output_type": "display_data"
    },
    {
     "name": "stdout",
     "output_type": "stream",
     "text": [
      "Layer 15, Head 5\n",
      "['<|endoftext|>', 'incre', 'ase', ':', 'dec', 're', 'ase', ',', ' good', ':', 'bad', ',', ' fast', ':']\n"
     ]
    },
    {
     "data": {
      "image/png": "[encoded data removed]"
     },
     "metadata": {},
     "output_type": "display_data"
    },
    {
     "name": "stdout",
     "output_type": "stream",
     "text": [
      "Layer 13, Head 2\n",
      "['<|endoftext|>', 'incre', 'ase', ':', 'dec', 're', 'ase', ',', ' good', ':', 'bad', ',', ' fast', ':']\n"
     ]
    },
    {
     "data": {
      "image/png": "[encoded data removed]"
     },
     "metadata": {},
     "output_type": "display_data"
    },
    {
     "name": "stdout",
     "output_type": "stream",
     "text": [
      "Layer 21, Head 0\n",
      "['<|endoftext|>', 'incre', 'ase', ':', 'dec', 're', 'ase', ',', ' good', ':', 'bad', ',', ' fast', ':']\n"
     ]
    },
    {
     "data": {
      "image/png": "[encoded data removed]"
     },
     "metadata": {},
     "output_type": "display_data"
    },
    {
     "name": "stdout",
     "output_type": "stream",
     "text": [
      "Layer 20, Head 11\n",
      "['<|endoftext|>', 'incre', 'ase', ':', 'dec', 're', 'ase', ',', ' good', ':', 'bad', ',', ' fast', ':']\n"
     ]
    },
    {
     "data": {
      "image/png": "[encoded data removed]"
     },
     "metadata": {},
     "output_type": "display_data"
    },
    {
     "name": "stdout",
     "output_type": "stream",
     "text": [
      "Layer 17, Head 1\n",
      "['<|endoftext|>', 'incre', 'ase', ':', 'dec', 're', 'ase', ',', ' good', ':', 'bad', ',', ' fast', ':']\n"
     ]
    },
    {
     "data": {
      "image/png": "[encoded data removed]"
     },
     "metadata": {},
     "output_type": "display_data"
    },
    {
     "name": "stdout",
     "output_type": "stream",
     "text": [
      "Layer 17, Head 2\n",
      "['<|endoftext|>', 'incre', 'ase', ':', 'dec', 're', 'ase', ',', ' good', ':', 'bad', ',', ' fast', ':']\n"
     ]
    },
    {
     "data": {
      "image/png": "[encoded data removed]"
     },
     "metadata": {},
     "output_type": "display_data"
    },
    {
     "name": "stdout",
     "output_type": "stream",
     "text": [
      "Layer 13, Head 12\n",
      "['<|endoftext|>', 'incre', 'ase', ':', 'dec', 're', 'ase', ',', ' good', ':', 'bad', ',', ' fast', ':']\n"
     ]
    },
    {
     "data": {
      "image/png": "[encoded data removed]"
     },
     "metadata": {},
     "output_type": "display_data"
    },
    {
     "name": "stdout",
     "output_type": "stream",
     "text": [
      "Layer 18, Head 1\n",
      "['<|endoftext|>', 'incre', 'ase', ':', 'dec', 're', 'ase', ',', ' good', ':', 'bad', ',', ' fast', ':']\n"
     ]
    },
    {
     "data": {
      "image/png": "[encoded data removed]"
     },
     "metadata": {},
     "output_type": "display_data"
    },
    {
     "name": "stdout",
     "output_type": "stream",
     "text": [
      "Layer 12, Head 15\n",
      "['<|endoftext|>', 'incre', 'ase', ':', 'dec', 're', 'ase', ',', ' good', ':', 'bad', ',', ' fast', ':']\n"
     ]
    },
    {
     "data": {
      "image/png": "[encoded data removed]"
     },
     "metadata": {},
     "output_type": "display_data"
    },
    {
     "name": "stdout",
     "output_type": "stream",
     "text": [
      "Layer 13, Head 3\n",
      "['<|endoftext|>', 'incre', 'ase', ':', 'dec', 're', 'ase', ',', ' good', ':', 'bad', ',', ' fast', ':']\n"
     ]
    }
   ],
   "source": [
    "for i in range(10):\n",
    "    layer = top_heads[i]//model.cfg.n_heads\n",
    "    index = top_heads[i]%model.cfg.n_heads\n",
    "    imshow(cache[f'blocks.{layer}.attn.hook_pattern'][prompt_num][index])\n",
    "    labels={\"x\": \"Head\", \"y\": \"Layer\"}\n",
    "    print(f\"Layer {layer}, Head {index}\")\n",
    "    print(model.to_str_tokens(tokens[prompt_num]))"
   ]
  },
  {
   "cell_type": "markdown",
   "metadata": {},
   "source": [
    "# Looking at the top MLPs"
   ]
  },
  {
   "cell_type": "code",
   "execution_count": null,
   "metadata": {},
   "outputs": [
    {
     "name": "stdout",
     "output_type": "stream",
     "text": [
      "['<|endoftext|>', 'incre', 'ase', ':', 'dec', 're', 'ase', ',', ' good', ':', 'bad', ',', ' fast', ':']\n",
      "__________16__________\n",
      "Neuron:  1643 Contribution:  3.348935842514038\n",
      "[' inability', ' insufficient', 'failed', ' ineffective', ' failed', ' failures', ' unable', ' lackluster', ' lacks', ' lose']\n",
      "Neuron:  591 Contribution:  2.997021436691284\n",
      "['National', 'Ent', 'Strong', 'Individual', 'Member', 'Hall', 'Elect', 'Church', 'Trans', 'Tax']\n",
      "Neuron:  2924 Contribution:  2.8960635662078857\n",
      "[' negatively', 'appropriately', ' cautiously', ' differently', ' creatively', ' responsibly', ' objectively', ' wisely', ' positively', ' offensively']\n",
      "Neuron:  486 Contribution:  2.8068737983703613\n",
      "[' ardu', ' tedious', ' painstaking', ' costly', 'intensive', 'expensive', ' labor', 'cost', ' exhausting', 'requires']\n",
      "Neuron:  3524 Contribution:  2.6780171394348145\n",
      "['_', '@', 'kid', 'boss', 'Mex', 'Mc', 'oft', '1992', 'Dr', '1986']\n",
      "Neuron:  3950 Contribution:  2.586076498031616\n",
      "['prem', 'dec', 'positive', 'custom', 'educ', 'matter', 'those', 'imm', 'prov', 'obs']\n",
      "Neuron:  2634 Contribution:  2.1820485591888428\n",
      "['gener', 'del', 'prom', 'changed', 'sn', 'kind', 'supported', 'concept', 'default', 'classified']\n",
      "Neuron:  2850 Contribution:  2.1238763332366943\n",
      "['Rated', 'span', 'Steam', 'leaf', '00200000', 'north', 'Cold', 'Spr', 'Ban', 'spl']\n",
      "Neuron:  507 Contribution:  2.121302604675293\n",
      "['meet', 'cle', 'physical', '�', 'conserv', 'forward', 'pres', 'Physical', 'uria', 'mens']\n",
      "Neuron:  2296 Contribution:  2.0238616466522217\n",
      "['Pokémon', ' pokemon', ' Poké', 'Poké', ' EVs', ' Pokémon', 'Magikarp', 'oké', 'Pokemon', 'lvl']\n",
      "__________20__________\n",
      "Neuron:  2352 Contribution:  4.958651065826416\n",
      "['specific', 'carry', 'great', 'turned', 'straight', 'first', 'large', 'dep', 'prem', 'susp']\n",
      "Neuron:  370 Contribution:  4.913480758666992\n",
      "['H', 'O', 'B', 'W', 'w', 'K', 'J', 'X', 'V', 'F']\n",
      "Neuron:  1211 Contribution:  4.157751560211182\n",
      "['advertising', 'Advertisement', 'Spoiler', 'favorite', 'Premium', 'Advertisements', 'Contribut', 'Offline', 'Cert', 'advertisement']\n",
      "Neuron:  2951 Contribution:  3.7721269130706787\n",
      "['fast', ' fast', 'hot', 'high', 'low', 'big', ' quick', ' Fast', 'Slow', ' HIGH']\n",
      "Neuron:  2376 Contribution:  3.008261203765869\n",
      "[' careful', ' keen', ' intense', ' steady', ' accurate', ' rigorous', ' sturdy', ' robust', ' speedy', ' thorough']\n",
      "Neuron:  1960 Contribution:  2.8091371059417725\n",
      "['pull', 'properties', 'analy', 'selected', 'input', 'iframe', 'annot', 'pattern', 'gradient', 'method']\n",
      "Neuron:  2579 Contribution:  2.659097909927368\n",
      "['ts', 'sw', 'y', 'product', 'dh', 'sche', 'meal', 'sen', 'tem', 'nation']\n",
      "Neuron:  2867 Contribution:  2.627462863922119\n",
      "['merce', 'Austral', 'ombo', 'orth', 'verty', 'ELD', 'ovi', 'itzer', 'onder', 'chio']\n",
      "Neuron:  1310 Contribution:  2.452979564666748\n",
      "['over', 'tg', 'ride', 'OTUS', 'oliath', 'rail', 'anting', 'zee', 'court', 'chell']\n",
      "Neuron:  1448 Contribution:  2.443237543106079\n",
      "['2016', 'Family', '2017', '2014', '2013', '2018', 'Reply', 'Death', 'Important', 'Chall']\n",
      "__________21__________\n",
      "Neuron:  868 Contribution:  5.240795135498047\n",
      "['s', 'a', 'inventory', 'gar', 'source', 'some', 'sky', 'save', 'code', 'new']\n",
      "Neuron:  3758 Contribution:  4.281700611114502\n",
      "['Austral', 'Statistics', 'Spanish', 'Franc', 'Emb', 'Fel', 'Liverpool', 'Against', 'Rober', 'Redd']\n",
      "Neuron:  238 Contribution:  3.5610594749450684\n",
      "['¯¯¯¯', '¯¯', ' 神', ' CHR', ' 4090', 'gest', 'older', '¯', '*=-', ' DRAGON']\n",
      "Neuron:  2765 Contribution:  3.310861587524414\n",
      "['rim', 'sc', 'sh', 'sy', 'sw', 'qu', 'n', 'op', 'ew', 'ker']\n",
      "Neuron:  2096 Contribution:  2.9358842372894287\n",
      "['vor', 'cher', 'lock', 'l', 'c', 'nor', 'nel', 'rans', 'ched', 'cs']\n",
      "Neuron:  3876 Contribution:  2.5708935260772705\n",
      "['CO', 'Kal', 'ajor', 'pace', 'Kn', 'rogen', 'Dynamic', 'BRE', 'ELF', 'overe']\n",
      "Neuron:  2962 Contribution:  2.530151128768921\n",
      "['ESE', 'CHO', 'CHA', 'uj', 'GR', 'dj', 'ARCH', 'ends', 'dark', ' Hayden']\n",
      "Neuron:  4006 Contribution:  2.5003886222839355\n",
      "['paralle', 'cest', ' suspic', 'sing', ' Situation', 'uay', 'National', 'turn', 'secure', 'Campaign']\n",
      "Neuron:  3714 Contribution:  2.496466875076294\n",
      "['osh', 'iel', 'ona', 'avis', 'ora', 'oh', 'ovan', 'rod', 'ius', 'orio']\n",
      "Neuron:  1705 Contribution:  2.4806811809539795\n",
      "[' aug', 'croft', ' veter', 'Uncommon', '�', 'tons', ' Agric', '50', 'imedia', 'icably']\n"
     ]
    }
   ],
   "source": [
    "# Print the prompt\n",
    "print(model.to_str_tokens(tokens[prompt_num]))\n",
    "\n",
    "# Taken from figure\n",
    "top_mlp_layers = [16, 20, 21]\n",
    "\n",
    "# Iterate over top contributing MLP Layers\n",
    "for layer in top_mlp_layers:\n",
    "    # For each layer, get the top contributing neurons\n",
    "    neuron_contr = einsum('d_mlp d_model, d_model -> d_mlp', model.blocks[layer].mlp.W_out.detach(), model.W_U[:,answer_tokens.flatten()[prompt_num]])\n",
    "    top_neurons = neuron_contr.topk(10).indices\n",
    "\n",
    "    # Project the top contributing neurons onto the vocab space\n",
    "    projected_val = einsum('top d_model, d_model d_vocab-> top d_vocab', model.blocks[layer].mlp.W_out[top_neurons, :].detach(), model.W_U)\n",
    "\n",
    "    print(f\"__________{layer}__________\")\n",
    "    for x in range(10):\n",
    "        # Print the vocab projection of the top contributing neurons\n",
    "        print(\"Neuron: \", top_neurons[x].item(), \"Contribution: \",neuron_contr[top_neurons[x]].item())\n",
    "        print(model.to_str_tokens(projected_val[x, :].topk(10).indices))\n",
    "              "
   ]
  },
  {
   "cell_type": "markdown",
   "metadata": {},
   "source": [
    "# Looking at Function Vectors Causal Impact"
   ]
  },
  {
   "cell_type": "code",
   "execution_count": null,
   "metadata": {},
   "outputs": [],
   "source": [
    "# Zero shot prompt\n",
    "prompt = \"increase:\"\n",
    "\n",
    "# Retrieve Function Vectors\n",
    "FV = np.load(\"Antonym_FV.npy\", allow_pickle=True)\n",
    "\n",
    "# Find the layer of most impact\n"
   ]
  },
  {
   "cell_type": "code",
   "execution_count": null,
   "metadata": {},
   "outputs": [],
   "source": [
    "# "
   ]
  }
 ],
 "metadata": {
  "accelerator": "GPU",
  "colab": {
   "collapsed_sections": [
    "P5a-Ozy8sMeM",
    "0vBxb7D4s73R",
    "qkM_mnKpSv09"
   ],
   "provenance": []
  },
  "gpuClass": "standard",
  "kernelspec": {
   "display_name": "myenv",
   "language": "python",
   "name": "myenv"
  },
  "language_info": {
   "codemirror_mode": {
    "name": "ipython",
    "version": 3
   },
   "file_extension": ".py",
   "mimetype": "text/x-python",
   "name": "python",
   "nbconvert_exporter": "python",
   "pygments_lexer": "ipython3",
   "version": "3.10.13"
  },
  "widgets": {
   "application/vnd.jupyter.widget-state+json": {
    "011f9dc606734b4e85930977cc566caa": {
     "model_module": "@jupyter-widgets/controls",
     "model_module_version": "1.5.0",
     "model_name": "DescriptionStyleModel",
     "state": {
      "_model_module": "@jupyter-widgets/controls",
      "_model_module_version": "1.5.0",
      "_model_name": "DescriptionStyleModel",
      "_view_count": null,
      "_view_module": "@jupyter-widgets/base",
      "_view_module_version": "1.2.0",
      "_view_name": "StyleView",
      "description_width": ""
     }
    },
    "0357de1638b04191b741d68b91d22716": {
     "model_module": "@jupyter-widgets/controls",
     "model_module_version": "1.5.0",
     "model_name": "FloatProgressModel",
     "state": {
      "_dom_classes": [],
      "_model_module": "@jupyter-widgets/controls",
      "_model_module_version": "1.5.0",
      "_model_name": "FloatProgressModel",
      "_view_count": null,
      "_view_module": "@jupyter-widgets/controls",
      "_view_module_version": "1.5.0",
      "_view_name": "ProgressView",
      "bar_style": "success",
      "description": "",
      "description_tooltip": null,
      "layout": "IPY_MODEL_8481548a099b418eb75c2a58bf1c0392",
      "max": 1519984962,
      "min": 0,
      "orientation": "horizontal",
      "style": "IPY_MODEL_697e7b22a2874a509b8c4f8a28adfe6d",
      "value": 1519984962
     }
    },
    "0b25769b5a434e11929070628db95c85": {
     "model_module": "@jupyter-widgets/base",
     "model_module_version": "1.2.0",
     "model_name": "LayoutModel",
     "state": {
      "_model_module": "@jupyter-widgets/base",
      "_model_module_version": "1.2.0",
      "_model_name": "LayoutModel",
      "_view_count": null,
      "_view_module": "@jupyter-widgets/base",
      "_view_module_version": "1.2.0",
      "_view_name": "LayoutView",
      "align_content": null,
      "align_items": null,
      "align_self": null,
      "border": null,
      "bottom": null,
      "display": null,
      "flex": null,
      "flex_flow": null,
      "grid_area": null,
      "grid_auto_columns": null,
      "grid_auto_flow": null,
      "grid_auto_rows": null,
      "grid_column": null,
      "grid_gap": null,
      "grid_row": null,
      "grid_template_areas": null,
      "grid_template_columns": null,
      "grid_template_rows": null,
      "height": null,
      "justify_content": null,
      "justify_items": null,
      "left": null,
      "margin": null,
      "max_height": null,
      "max_width": null,
      "min_height": null,
      "min_width": null,
      "object_fit": null,
      "object_position": null,
      "order": null,
      "overflow": null,
      "overflow_x": null,
      "overflow_y": null,
      "padding": null,
      "right": null,
      "top": null,
      "visibility": null,
      "width": null
     }
    },
    "0b88ca6bae95407fa037749e9158f14a": {
     "model_module": "@jupyter-widgets/base",
     "model_module_version": "1.2.0",
     "model_name": "LayoutModel",
     "state": {
      "_model_module": "@jupyter-widgets/base",
      "_model_module_version": "1.2.0",
      "_model_name": "LayoutModel",
      "_view_count": null,
      "_view_module": "@jupyter-widgets/base",
      "_view_module_version": "1.2.0",
      "_view_name": "LayoutView",
      "align_content": null,
      "align_items": null,
      "align_self": null,
      "border": null,
      "bottom": null,
      "display": null,
      "flex": null,
      "flex_flow": null,
      "grid_area": null,
      "grid_auto_columns": null,
      "grid_auto_flow": null,
      "grid_auto_rows": null,
      "grid_column": null,
      "grid_gap": null,
      "grid_row": null,
      "grid_template_areas": null,
      "grid_template_columns": null,
      "grid_template_rows": null,
      "height": null,
      "justify_content": null,
      "justify_items": null,
      "left": null,
      "margin": null,
      "max_height": null,
      "max_width": null,
      "min_height": null,
      "min_width": null,
      "object_fit": null,
      "object_position": null,
      "order": null,
      "overflow": null,
      "overflow_x": null,
      "overflow_y": null,
      "padding": null,
      "right": null,
      "top": null,
      "visibility": null,
      "width": null
     }
    },
    "0e3dd9b014904695bd80bdc5725b4281": {
     "model_module": "@jupyter-widgets/base",
     "model_module_version": "1.2.0",
     "model_name": "LayoutModel",
     "state": {
      "_model_module": "@jupyter-widgets/base",
      "_model_module_version": "1.2.0",
      "_model_name": "LayoutModel",
      "_view_count": null,
      "_view_module": "@jupyter-widgets/base",
      "_view_module_version": "1.2.0",
      "_view_name": "LayoutView",
      "align_content": null,
      "align_items": null,
      "align_self": null,
      "border": null,
      "bottom": null,
      "display": null,
      "flex": null,
      "flex_flow": null,
      "grid_area": null,
      "grid_auto_columns": null,
      "grid_auto_flow": null,
      "grid_auto_rows": null,
      "grid_column": null,
      "grid_gap": null,
      "grid_row": null,
      "grid_template_areas": null,
      "grid_template_columns": null,
      "grid_template_rows": null,
      "height": null,
      "justify_content": null,
      "justify_items": null,
      "left": null,
      "margin": null,
      "max_height": null,
      "max_width": null,
      "min_height": null,
      "min_width": null,
      "object_fit": null,
      "object_position": null,
      "order": null,
      "overflow": null,
      "overflow_x": null,
      "overflow_y": null,
      "padding": null,
      "right": null,
      "top": null,
      "visibility": null,
      "width": null
     }
    },
    "135bd910db8343b098434946aca60ba6": {
     "model_module": "@jupyter-widgets/base",
     "model_module_version": "1.2.0",
     "model_name": "LayoutModel",
     "state": {
      "_model_module": "@jupyter-widgets/base",
      "_model_module_version": "1.2.0",
      "_model_name": "LayoutModel",
      "_view_count": null,
      "_view_module": "@jupyter-widgets/base",
      "_view_module_version": "1.2.0",
      "_view_name": "LayoutView",
      "align_content": null,
      "align_items": null,
      "align_self": null,
      "border": null,
      "bottom": null,
      "display": null,
      "flex": null,
      "flex_flow": null,
      "grid_area": null,
      "grid_auto_columns": null,
      "grid_auto_flow": null,
      "grid_auto_rows": null,
      "grid_column": null,
      "grid_gap": null,
      "grid_row": null,
      "grid_template_areas": null,
      "grid_template_columns": null,
      "grid_template_rows": null,
      "height": null,
      "justify_content": null,
      "justify_items": null,
      "left": null,
      "margin": null,
      "max_height": null,
      "max_width": null,
      "min_height": null,
      "min_width": null,
      "object_fit": null,
      "object_position": null,
      "order": null,
      "overflow": null,
      "overflow_x": null,
      "overflow_y": null,
      "padding": null,
      "right": null,
      "top": null,
      "visibility": null,
      "width": null
     }
    },
    "13cf927cd283441281976fef17f324c6": {
     "model_module": "@jupyter-widgets/controls",
     "model_module_version": "1.5.0",
     "model_name": "HTMLModel",
     "state": {
      "_dom_classes": [],
      "_model_module": "@jupyter-widgets/controls",
      "_model_module_version": "1.5.0",
      "_model_name": "HTMLModel",
      "_view_count": null,
      "_view_module": "@jupyter-widgets/controls",
      "_view_module_version": "1.5.0",
      "_view_name": "HTMLView",
      "description": "",
      "description_tooltip": null,
      "layout": "IPY_MODEL_d060b1abad764e35a04a07cf436ffc11",
      "placeholder": "​",
      "style": "IPY_MODEL_011f9dc606734b4e85930977cc566caa",
      "value": "Downloading model.safetensors: 100%"
     }
    },
    "1e82faf434d4408e9fe0e999f192a907": {
     "model_module": "@jupyter-widgets/base",
     "model_module_version": "1.2.0",
     "model_name": "LayoutModel",
     "state": {
      "_model_module": "@jupyter-widgets/base",
      "_model_module_version": "1.2.0",
      "_model_name": "LayoutModel",
      "_view_count": null,
      "_view_module": "@jupyter-widgets/base",
      "_view_module_version": "1.2.0",
      "_view_name": "LayoutView",
      "align_content": null,
      "align_items": null,
      "align_self": null,
      "border": null,
      "bottom": null,
      "display": null,
      "flex": null,
      "flex_flow": null,
      "grid_area": null,
      "grid_auto_columns": null,
      "grid_auto_flow": null,
      "grid_auto_rows": null,
      "grid_column": null,
      "grid_gap": null,
      "grid_row": null,
      "grid_template_areas": null,
      "grid_template_columns": null,
      "grid_template_rows": null,
      "height": null,
      "justify_content": null,
      "justify_items": null,
      "left": null,
      "margin": null,
      "max_height": null,
      "max_width": null,
      "min_height": null,
      "min_width": null,
      "object_fit": null,
      "object_position": null,
      "order": null,
      "overflow": null,
      "overflow_x": null,
      "overflow_y": null,
      "padding": null,
      "right": null,
      "top": null,
      "visibility": null,
      "width": null
     }
    },
    "247b5009504a4b078ee592e4431cc5cc": {
     "model_module": "@jupyter-widgets/controls",
     "model_module_version": "1.5.0",
     "model_name": "HBoxModel",
     "state": {
      "_dom_classes": [],
      "_model_module": "@jupyter-widgets/controls",
      "_model_module_version": "1.5.0",
      "_model_name": "HBoxModel",
      "_view_count": null,
      "_view_module": "@jupyter-widgets/controls",
      "_view_module_version": "1.5.0",
      "_view_name": "HBoxView",
      "box_style": "",
      "children": [
       "IPY_MODEL_13cf927cd283441281976fef17f324c6",
       "IPY_MODEL_0357de1638b04191b741d68b91d22716",
       "IPY_MODEL_f6dfc55099e94f8bbdb3c2efcdea1fb7"
      ],
      "layout": "IPY_MODEL_6b3bfd58ebaf4582a4f203eebbef28c2"
     }
    },
    "26bfde2260dd4d12b6c2ecf7043859bf": {
     "model_module": "@jupyter-widgets/controls",
     "model_module_version": "1.5.0",
     "model_name": "FloatProgressModel",
     "state": {
      "_dom_classes": [],
      "_model_module": "@jupyter-widgets/controls",
      "_model_module_version": "1.5.0",
      "_model_name": "FloatProgressModel",
      "_view_count": null,
      "_view_module": "@jupyter-widgets/controls",
      "_view_module_version": "1.5.0",
      "_view_name": "ProgressView",
      "bar_style": "success",
      "description": "",
      "description_tooltip": null,
      "layout": "IPY_MODEL_4e1932fcfe5c48eca76ab685e50cd758",
      "max": 456318,
      "min": 0,
      "orientation": "horizontal",
      "style": "IPY_MODEL_ce7a89c45712483eabdfd726e97b71c5",
      "value": 456318
     }
    },
    "2ad2a0ff6006407283d0648bb82062c6": {
     "model_module": "@jupyter-widgets/controls",
     "model_module_version": "1.5.0",
     "model_name": "HTMLModel",
     "state": {
      "_dom_classes": [],
      "_model_module": "@jupyter-widgets/controls",
      "_model_module_version": "1.5.0",
      "_model_name": "HTMLModel",
      "_view_count": null,
      "_view_module": "@jupyter-widgets/controls",
      "_view_module_version": "1.5.0",
      "_view_name": "HTMLView",
      "description": "",
      "description_tooltip": null,
      "layout": "IPY_MODEL_1e82faf434d4408e9fe0e999f192a907",
      "placeholder": "​",
      "style": "IPY_MODEL_94215200942f4917a399699009c77e81",
      "value": " 1.04M/1.04M [00:00&lt;00:00, 6.39MB/s]"
     }
    },
    "2b578b058aff403087bd91a7cd880f17": {
     "model_module": "@jupyter-widgets/controls",
     "model_module_version": "1.5.0",
     "model_name": "HTMLModel",
     "state": {
      "_dom_classes": [],
      "_model_module": "@jupyter-widgets/controls",
      "_model_module_version": "1.5.0",
      "_model_name": "HTMLModel",
      "_view_count": null,
      "_view_module": "@jupyter-widgets/controls",
      "_view_module_version": "1.5.0",
      "_view_name": "HTMLView",
      "description": "",
      "description_tooltip": null,
      "layout": "IPY_MODEL_d0f58bd18a124c628a1333d087c07f32",
      "placeholder": "​",
      "style": "IPY_MODEL_827561765d7d449d88e4e081f29ecf94",
      "value": " 1.36M/1.36M [00:00&lt;00:00, 24.3MB/s]"
     }
    },
    "2b9a40748c8d4db3b95ff1ee8a9c6997": {
     "model_module": "@jupyter-widgets/controls",
     "model_module_version": "1.5.0",
     "model_name": "DescriptionStyleModel",
     "state": {
      "_model_module": "@jupyter-widgets/controls",
      "_model_module_version": "1.5.0",
      "_model_name": "DescriptionStyleModel",
      "_view_count": null,
      "_view_module": "@jupyter-widgets/base",
      "_view_module_version": "1.2.0",
      "_view_name": "StyleView",
      "description_width": ""
     }
    },
    "2fd09874949c47a79c624b1074ae70ae": {
     "model_module": "@jupyter-widgets/controls",
     "model_module_version": "1.5.0",
     "model_name": "FloatProgressModel",
     "state": {
      "_dom_classes": [],
      "_model_module": "@jupyter-widgets/controls",
      "_model_module_version": "1.5.0",
      "_model_name": "FloatProgressModel",
      "_view_count": null,
      "_view_module": "@jupyter-widgets/controls",
      "_view_module_version": "1.5.0",
      "_view_name": "ProgressView",
      "bar_style": "success",
      "description": "",
      "description_tooltip": null,
      "layout": "IPY_MODEL_0b25769b5a434e11929070628db95c85",
      "max": 718,
      "min": 0,
      "orientation": "horizontal",
      "style": "IPY_MODEL_eca4427e45124269b9ef9897dc030f1f",
      "value": 718
     }
    },
    "310484fc73294461a648893684bcc83f": {
     "model_module": "@jupyter-widgets/base",
     "model_module_version": "1.2.0",
     "model_name": "LayoutModel",
     "state": {
      "_model_module": "@jupyter-widgets/base",
      "_model_module_version": "1.2.0",
      "_model_name": "LayoutModel",
      "_view_count": null,
      "_view_module": "@jupyter-widgets/base",
      "_view_module_version": "1.2.0",
      "_view_name": "LayoutView",
      "align_content": null,
      "align_items": null,
      "align_self": null,
      "border": null,
      "bottom": null,
      "display": null,
      "flex": null,
      "flex_flow": null,
      "grid_area": null,
      "grid_auto_columns": null,
      "grid_auto_flow": null,
      "grid_auto_rows": null,
      "grid_column": null,
      "grid_gap": null,
      "grid_row": null,
      "grid_template_areas": null,
      "grid_template_columns": null,
      "grid_template_rows": null,
      "height": null,
      "justify_content": null,
      "justify_items": null,
      "left": null,
      "margin": null,
      "max_height": null,
      "max_width": null,
      "min_height": null,
      "min_width": null,
      "object_fit": null,
      "object_position": null,
      "order": null,
      "overflow": null,
      "overflow_x": null,
      "overflow_y": null,
      "padding": null,
      "right": null,
      "top": null,
      "visibility": null,
      "width": null
     }
    },
    "414c8705b70b49d6a185dc571f194a6f": {
     "model_module": "@jupyter-widgets/controls",
     "model_module_version": "1.5.0",
     "model_name": "DescriptionStyleModel",
     "state": {
      "_model_module": "@jupyter-widgets/controls",
      "_model_module_version": "1.5.0",
      "_model_name": "DescriptionStyleModel",
      "_view_count": null,
      "_view_module": "@jupyter-widgets/base",
      "_view_module_version": "1.2.0",
      "_view_name": "StyleView",
      "description_width": ""
     }
    },
    "44a8057aed0f4582ba4da9e21627a64e": {
     "model_module": "@jupyter-widgets/controls",
     "model_module_version": "1.5.0",
     "model_name": "DescriptionStyleModel",
     "state": {
      "_model_module": "@jupyter-widgets/controls",
      "_model_module_version": "1.5.0",
      "_model_name": "DescriptionStyleModel",
      "_view_count": null,
      "_view_module": "@jupyter-widgets/base",
      "_view_module_version": "1.2.0",
      "_view_name": "StyleView",
      "description_width": ""
     }
    },
    "4cd9ab6b5c614035b29efb04d9b9d71b": {
     "model_module": "@jupyter-widgets/controls",
     "model_module_version": "1.5.0",
     "model_name": "HBoxModel",
     "state": {
      "_dom_classes": [],
      "_model_module": "@jupyter-widgets/controls",
      "_model_module_version": "1.5.0",
      "_model_name": "HBoxModel",
      "_view_count": null,
      "_view_module": "@jupyter-widgets/controls",
      "_view_module_version": "1.5.0",
      "_view_name": "HBoxView",
      "box_style": "",
      "children": [
       "IPY_MODEL_707af47d24814cda92254bc0d5b0829d",
       "IPY_MODEL_2fd09874949c47a79c624b1074ae70ae",
       "IPY_MODEL_76293d449e3d4079afe8cbb61b557f1c"
      ],
      "layout": "IPY_MODEL_e62fc02601724750b6a03cab763a3547"
     }
    },
    "4e1932fcfe5c48eca76ab685e50cd758": {
     "model_module": "@jupyter-widgets/base",
     "model_module_version": "1.2.0",
     "model_name": "LayoutModel",
     "state": {
      "_model_module": "@jupyter-widgets/base",
      "_model_module_version": "1.2.0",
      "_model_name": "LayoutModel",
      "_view_count": null,
      "_view_module": "@jupyter-widgets/base",
      "_view_module_version": "1.2.0",
      "_view_name": "LayoutView",
      "align_content": null,
      "align_items": null,
      "align_self": null,
      "border": null,
      "bottom": null,
      "display": null,
      "flex": null,
      "flex_flow": null,
      "grid_area": null,
      "grid_auto_columns": null,
      "grid_auto_flow": null,
      "grid_auto_rows": null,
      "grid_column": null,
      "grid_gap": null,
      "grid_row": null,
      "grid_template_areas": null,
      "grid_template_columns": null,
      "grid_template_rows": null,
      "height": null,
      "justify_content": null,
      "justify_items": null,
      "left": null,
      "margin": null,
      "max_height": null,
      "max_width": null,
      "min_height": null,
      "min_width": null,
      "object_fit": null,
      "object_position": null,
      "order": null,
      "overflow": null,
      "overflow_x": null,
      "overflow_y": null,
      "padding": null,
      "right": null,
      "top": null,
      "visibility": null,
      "width": null
     }
    },
    "5203fd81d8714f2eb2381ff0107d90fd": {
     "model_module": "@jupyter-widgets/controls",
     "model_module_version": "1.5.0",
     "model_name": "HBoxModel",
     "state": {
      "_dom_classes": [],
      "_model_module": "@jupyter-widgets/controls",
      "_model_module_version": "1.5.0",
      "_model_name": "HBoxModel",
      "_view_count": null,
      "_view_module": "@jupyter-widgets/controls",
      "_view_module_version": "1.5.0",
      "_view_name": "HBoxView",
      "box_style": "",
      "children": [
       "IPY_MODEL_9686d51a82b24193ab6613faa05ca399",
       "IPY_MODEL_b2b282ae9a5440ebac487bfcfb6337f4",
       "IPY_MODEL_2ad2a0ff6006407283d0648bb82062c6"
      ],
      "layout": "IPY_MODEL_0e3dd9b014904695bd80bdc5725b4281"
     }
    },
    "59a0ec026e2f4c38bd465cc698dc7558": {
     "model_module": "@jupyter-widgets/base",
     "model_module_version": "1.2.0",
     "model_name": "LayoutModel",
     "state": {
      "_model_module": "@jupyter-widgets/base",
      "_model_module_version": "1.2.0",
      "_model_name": "LayoutModel",
      "_view_count": null,
      "_view_module": "@jupyter-widgets/base",
      "_view_module_version": "1.2.0",
      "_view_name": "LayoutView",
      "align_content": null,
      "align_items": null,
      "align_self": null,
      "border": null,
      "bottom": null,
      "display": null,
      "flex": null,
      "flex_flow": null,
      "grid_area": null,
      "grid_auto_columns": null,
      "grid_auto_flow": null,
      "grid_auto_rows": null,
      "grid_column": null,
      "grid_gap": null,
      "grid_row": null,
      "grid_template_areas": null,
      "grid_template_columns": null,
      "grid_template_rows": null,
      "height": null,
      "justify_content": null,
      "justify_items": null,
      "left": null,
      "margin": null,
      "max_height": null,
      "max_width": null,
      "min_height": null,
      "min_width": null,
      "object_fit": null,
      "object_position": null,
      "order": null,
      "overflow": null,
      "overflow_x": null,
      "overflow_y": null,
      "padding": null,
      "right": null,
      "top": null,
      "visibility": null,
      "width": null
     }
    },
    "5dade36200974c67bf850860f63da08d": {
     "model_module": "@jupyter-widgets/controls",
     "model_module_version": "1.5.0",
     "model_name": "FloatProgressModel",
     "state": {
      "_dom_classes": [],
      "_model_module": "@jupyter-widgets/controls",
      "_model_module_version": "1.5.0",
      "_model_name": "FloatProgressModel",
      "_view_count": null,
      "_view_module": "@jupyter-widgets/controls",
      "_view_module_version": "1.5.0",
      "_view_name": "ProgressView",
      "bar_style": "success",
      "description": "",
      "description_tooltip": null,
      "layout": "IPY_MODEL_710eeac0715441aaaa4eeecafadee09b",
      "max": 1355256,
      "min": 0,
      "orientation": "horizontal",
      "style": "IPY_MODEL_7b61089478354ca1b107cf52e14fe3f4",
      "value": 1355256
     }
    },
    "60b59cb0e02c425fa9a3c8797d3e7737": {
     "model_module": "@jupyter-widgets/base",
     "model_module_version": "1.2.0",
     "model_name": "LayoutModel",
     "state": {
      "_model_module": "@jupyter-widgets/base",
      "_model_module_version": "1.2.0",
      "_model_name": "LayoutModel",
      "_view_count": null,
      "_view_module": "@jupyter-widgets/base",
      "_view_module_version": "1.2.0",
      "_view_name": "LayoutView",
      "align_content": null,
      "align_items": null,
      "align_self": null,
      "border": null,
      "bottom": null,
      "display": null,
      "flex": null,
      "flex_flow": null,
      "grid_area": null,
      "grid_auto_columns": null,
      "grid_auto_flow": null,
      "grid_auto_rows": null,
      "grid_column": null,
      "grid_gap": null,
      "grid_row": null,
      "grid_template_areas": null,
      "grid_template_columns": null,
      "grid_template_rows": null,
      "height": null,
      "justify_content": null,
      "justify_items": null,
      "left": null,
      "margin": null,
      "max_height": null,
      "max_width": null,
      "min_height": null,
      "min_width": null,
      "object_fit": null,
      "object_position": null,
      "order": null,
      "overflow": null,
      "overflow_x": null,
      "overflow_y": null,
      "padding": null,
      "right": null,
      "top": null,
      "visibility": null,
      "width": null
     }
    },
    "61ab21f5d60c4c2092341ff865955e0e": {
     "model_module": "@jupyter-widgets/base",
     "model_module_version": "1.2.0",
     "model_name": "LayoutModel",
     "state": {
      "_model_module": "@jupyter-widgets/base",
      "_model_module_version": "1.2.0",
      "_model_name": "LayoutModel",
      "_view_count": null,
      "_view_module": "@jupyter-widgets/base",
      "_view_module_version": "1.2.0",
      "_view_name": "LayoutView",
      "align_content": null,
      "align_items": null,
      "align_self": null,
      "border": null,
      "bottom": null,
      "display": null,
      "flex": null,
      "flex_flow": null,
      "grid_area": null,
      "grid_auto_columns": null,
      "grid_auto_flow": null,
      "grid_auto_rows": null,
      "grid_column": null,
      "grid_gap": null,
      "grid_row": null,
      "grid_template_areas": null,
      "grid_template_columns": null,
      "grid_template_rows": null,
      "height": null,
      "justify_content": null,
      "justify_items": null,
      "left": null,
      "margin": null,
      "max_height": null,
      "max_width": null,
      "min_height": null,
      "min_width": null,
      "object_fit": null,
      "object_position": null,
      "order": null,
      "overflow": null,
      "overflow_x": null,
      "overflow_y": null,
      "padding": null,
      "right": null,
      "top": null,
      "visibility": null,
      "width": null
     }
    },
    "66a2157629b941a7a7d5cbd25a780047": {
     "model_module": "@jupyter-widgets/controls",
     "model_module_version": "1.5.0",
     "model_name": "HBoxModel",
     "state": {
      "_dom_classes": [],
      "_model_module": "@jupyter-widgets/controls",
      "_model_module_version": "1.5.0",
      "_model_name": "HBoxModel",
      "_view_count": null,
      "_view_module": "@jupyter-widgets/controls",
      "_view_module_version": "1.5.0",
      "_view_name": "HBoxView",
      "box_style": "",
      "children": [
       "IPY_MODEL_80b566f67f6140fdaf35fc37444e3244",
       "IPY_MODEL_26bfde2260dd4d12b6c2ecf7043859bf",
       "IPY_MODEL_ea97603c635744e4a43d44f22738925a"
      ],
      "layout": "IPY_MODEL_caac66d653ba4569a93a99ed2d81dea3"
     }
    },
    "686b3d98c9fd4f77b5bd1f29acd328c7": {
     "model_module": "@jupyter-widgets/controls",
     "model_module_version": "1.5.0",
     "model_name": "DescriptionStyleModel",
     "state": {
      "_model_module": "@jupyter-widgets/controls",
      "_model_module_version": "1.5.0",
      "_model_name": "DescriptionStyleModel",
      "_view_count": null,
      "_view_module": "@jupyter-widgets/base",
      "_view_module_version": "1.2.0",
      "_view_name": "StyleView",
      "description_width": ""
     }
    },
    "697e7b22a2874a509b8c4f8a28adfe6d": {
     "model_module": "@jupyter-widgets/controls",
     "model_module_version": "1.5.0",
     "model_name": "ProgressStyleModel",
     "state": {
      "_model_module": "@jupyter-widgets/controls",
      "_model_module_version": "1.5.0",
      "_model_name": "ProgressStyleModel",
      "_view_count": null,
      "_view_module": "@jupyter-widgets/base",
      "_view_module_version": "1.2.0",
      "_view_name": "StyleView",
      "bar_color": null,
      "description_width": ""
     }
    },
    "6b3bfd58ebaf4582a4f203eebbef28c2": {
     "model_module": "@jupyter-widgets/base",
     "model_module_version": "1.2.0",
     "model_name": "LayoutModel",
     "state": {
      "_model_module": "@jupyter-widgets/base",
      "_model_module_version": "1.2.0",
      "_model_name": "LayoutModel",
      "_view_count": null,
      "_view_module": "@jupyter-widgets/base",
      "_view_module_version": "1.2.0",
      "_view_name": "LayoutView",
      "align_content": null,
      "align_items": null,
      "align_self": null,
      "border": null,
      "bottom": null,
      "display": null,
      "flex": null,
      "flex_flow": null,
      "grid_area": null,
      "grid_auto_columns": null,
      "grid_auto_flow": null,
      "grid_auto_rows": null,
      "grid_column": null,
      "grid_gap": null,
      "grid_row": null,
      "grid_template_areas": null,
      "grid_template_columns": null,
      "grid_template_rows": null,
      "height": null,
      "justify_content": null,
      "justify_items": null,
      "left": null,
      "margin": null,
      "max_height": null,
      "max_width": null,
      "min_height": null,
      "min_width": null,
      "object_fit": null,
      "object_position": null,
      "order": null,
      "overflow": null,
      "overflow_x": null,
      "overflow_y": null,
      "padding": null,
      "right": null,
      "top": null,
      "visibility": null,
      "width": null
     }
    },
    "707af47d24814cda92254bc0d5b0829d": {
     "model_module": "@jupyter-widgets/controls",
     "model_module_version": "1.5.0",
     "model_name": "HTMLModel",
     "state": {
      "_dom_classes": [],
      "_model_module": "@jupyter-widgets/controls",
      "_model_module_version": "1.5.0",
      "_model_name": "HTMLModel",
      "_view_count": null,
      "_view_module": "@jupyter-widgets/controls",
      "_view_module_version": "1.5.0",
      "_view_name": "HTMLView",
      "description": "",
      "description_tooltip": null,
      "layout": "IPY_MODEL_0b88ca6bae95407fa037749e9158f14a",
      "placeholder": "​",
      "style": "IPY_MODEL_daeb8d654133463aa5040e6e82c99dc4",
      "value": "Downloading (…)lve/main/config.json: 100%"
     }
    },
    "710eeac0715441aaaa4eeecafadee09b": {
     "model_module": "@jupyter-widgets/base",
     "model_module_version": "1.2.0",
     "model_name": "LayoutModel",
     "state": {
      "_model_module": "@jupyter-widgets/base",
      "_model_module_version": "1.2.0",
      "_model_name": "LayoutModel",
      "_view_count": null,
      "_view_module": "@jupyter-widgets/base",
      "_view_module_version": "1.2.0",
      "_view_name": "LayoutView",
      "align_content": null,
      "align_items": null,
      "align_self": null,
      "border": null,
      "bottom": null,
      "display": null,
      "flex": null,
      "flex_flow": null,
      "grid_area": null,
      "grid_auto_columns": null,
      "grid_auto_flow": null,
      "grid_auto_rows": null,
      "grid_column": null,
      "grid_gap": null,
      "grid_row": null,
      "grid_template_areas": null,
      "grid_template_columns": null,
      "grid_template_rows": null,
      "height": null,
      "justify_content": null,
      "justify_items": null,
      "left": null,
      "margin": null,
      "max_height": null,
      "max_width": null,
      "min_height": null,
      "min_width": null,
      "object_fit": null,
      "object_position": null,
      "order": null,
      "overflow": null,
      "overflow_x": null,
      "overflow_y": null,
      "padding": null,
      "right": null,
      "top": null,
      "visibility": null,
      "width": null
     }
    },
    "76293d449e3d4079afe8cbb61b557f1c": {
     "model_module": "@jupyter-widgets/controls",
     "model_module_version": "1.5.0",
     "model_name": "HTMLModel",
     "state": {
      "_dom_classes": [],
      "_model_module": "@jupyter-widgets/controls",
      "_model_module_version": "1.5.0",
      "_model_name": "HTMLModel",
      "_view_count": null,
      "_view_module": "@jupyter-widgets/controls",
      "_view_module_version": "1.5.0",
      "_view_name": "HTMLView",
      "description": "",
      "description_tooltip": null,
      "layout": "IPY_MODEL_135bd910db8343b098434946aca60ba6",
      "placeholder": "​",
      "style": "IPY_MODEL_d6671c9ae5124706acba20857aa940f5",
      "value": " 718/718 [00:00&lt;00:00, 26.0kB/s]"
     }
    },
    "78958bdbc32f4dce81ff6a4d85bce59c": {
     "model_module": "@jupyter-widgets/controls",
     "model_module_version": "1.5.0",
     "model_name": "DescriptionStyleModel",
     "state": {
      "_model_module": "@jupyter-widgets/controls",
      "_model_module_version": "1.5.0",
      "_model_name": "DescriptionStyleModel",
      "_view_count": null,
      "_view_module": "@jupyter-widgets/base",
      "_view_module_version": "1.2.0",
      "_view_name": "StyleView",
      "description_width": ""
     }
    },
    "7b61089478354ca1b107cf52e14fe3f4": {
     "model_module": "@jupyter-widgets/controls",
     "model_module_version": "1.5.0",
     "model_name": "ProgressStyleModel",
     "state": {
      "_model_module": "@jupyter-widgets/controls",
      "_model_module_version": "1.5.0",
      "_model_name": "ProgressStyleModel",
      "_view_count": null,
      "_view_module": "@jupyter-widgets/base",
      "_view_module_version": "1.2.0",
      "_view_name": "StyleView",
      "bar_color": null,
      "description_width": ""
     }
    },
    "80b566f67f6140fdaf35fc37444e3244": {
     "model_module": "@jupyter-widgets/controls",
     "model_module_version": "1.5.0",
     "model_name": "HTMLModel",
     "state": {
      "_dom_classes": [],
      "_model_module": "@jupyter-widgets/controls",
      "_model_module_version": "1.5.0",
      "_model_name": "HTMLModel",
      "_view_count": null,
      "_view_module": "@jupyter-widgets/controls",
      "_view_module_version": "1.5.0",
      "_view_name": "HTMLView",
      "description": "",
      "description_tooltip": null,
      "layout": "IPY_MODEL_60b59cb0e02c425fa9a3c8797d3e7737",
      "placeholder": "​",
      "style": "IPY_MODEL_2b9a40748c8d4db3b95ff1ee8a9c6997",
      "value": "Downloading (…)olve/main/merges.txt: 100%"
     }
    },
    "81d56e5f6e2d47248349024f10ccff48": {
     "model_module": "@jupyter-widgets/base",
     "model_module_version": "1.2.0",
     "model_name": "LayoutModel",
     "state": {
      "_model_module": "@jupyter-widgets/base",
      "_model_module_version": "1.2.0",
      "_model_name": "LayoutModel",
      "_view_count": null,
      "_view_module": "@jupyter-widgets/base",
      "_view_module_version": "1.2.0",
      "_view_name": "LayoutView",
      "align_content": null,
      "align_items": null,
      "align_self": null,
      "border": null,
      "bottom": null,
      "display": null,
      "flex": null,
      "flex_flow": null,
      "grid_area": null,
      "grid_auto_columns": null,
      "grid_auto_flow": null,
      "grid_auto_rows": null,
      "grid_column": null,
      "grid_gap": null,
      "grid_row": null,
      "grid_template_areas": null,
      "grid_template_columns": null,
      "grid_template_rows": null,
      "height": null,
      "justify_content": null,
      "justify_items": null,
      "left": null,
      "margin": null,
      "max_height": null,
      "max_width": null,
      "min_height": null,
      "min_width": null,
      "object_fit": null,
      "object_position": null,
      "order": null,
      "overflow": null,
      "overflow_x": null,
      "overflow_y": null,
      "padding": null,
      "right": null,
      "top": null,
      "visibility": null,
      "width": null
     }
    },
    "827561765d7d449d88e4e081f29ecf94": {
     "model_module": "@jupyter-widgets/controls",
     "model_module_version": "1.5.0",
     "model_name": "DescriptionStyleModel",
     "state": {
      "_model_module": "@jupyter-widgets/controls",
      "_model_module_version": "1.5.0",
      "_model_name": "DescriptionStyleModel",
      "_view_count": null,
      "_view_module": "@jupyter-widgets/base",
      "_view_module_version": "1.2.0",
      "_view_name": "StyleView",
      "description_width": ""
     }
    },
    "8481548a099b418eb75c2a58bf1c0392": {
     "model_module": "@jupyter-widgets/base",
     "model_module_version": "1.2.0",
     "model_name": "LayoutModel",
     "state": {
      "_model_module": "@jupyter-widgets/base",
      "_model_module_version": "1.2.0",
      "_model_name": "LayoutModel",
      "_view_count": null,
      "_view_module": "@jupyter-widgets/base",
      "_view_module_version": "1.2.0",
      "_view_name": "LayoutView",
      "align_content": null,
      "align_items": null,
      "align_self": null,
      "border": null,
      "bottom": null,
      "display": null,
      "flex": null,
      "flex_flow": null,
      "grid_area": null,
      "grid_auto_columns": null,
      "grid_auto_flow": null,
      "grid_auto_rows": null,
      "grid_column": null,
      "grid_gap": null,
      "grid_row": null,
      "grid_template_areas": null,
      "grid_template_columns": null,
      "grid_template_rows": null,
      "height": null,
      "justify_content": null,
      "justify_items": null,
      "left": null,
      "margin": null,
      "max_height": null,
      "max_width": null,
      "min_height": null,
      "min_width": null,
      "object_fit": null,
      "object_position": null,
      "order": null,
      "overflow": null,
      "overflow_x": null,
      "overflow_y": null,
      "padding": null,
      "right": null,
      "top": null,
      "visibility": null,
      "width": null
     }
    },
    "8d85602bc81d41ac9713f233226b776b": {
     "model_module": "@jupyter-widgets/controls",
     "model_module_version": "1.5.0",
     "model_name": "HBoxModel",
     "state": {
      "_dom_classes": [],
      "_model_module": "@jupyter-widgets/controls",
      "_model_module_version": "1.5.0",
      "_model_name": "HBoxModel",
      "_view_count": null,
      "_view_module": "@jupyter-widgets/controls",
      "_view_module_version": "1.5.0",
      "_view_name": "HBoxView",
      "box_style": "",
      "children": [
       "IPY_MODEL_caf29636500d4d148a8bf040bd09c588",
       "IPY_MODEL_5dade36200974c67bf850860f63da08d",
       "IPY_MODEL_2b578b058aff403087bd91a7cd880f17"
      ],
      "layout": "IPY_MODEL_cd5447878cfa448a92a2e4f7684e6c7a"
     }
    },
    "94215200942f4917a399699009c77e81": {
     "model_module": "@jupyter-widgets/controls",
     "model_module_version": "1.5.0",
     "model_name": "DescriptionStyleModel",
     "state": {
      "_model_module": "@jupyter-widgets/controls",
      "_model_module_version": "1.5.0",
      "_model_name": "DescriptionStyleModel",
      "_view_count": null,
      "_view_module": "@jupyter-widgets/base",
      "_view_module_version": "1.2.0",
      "_view_name": "StyleView",
      "description_width": ""
     }
    },
    "9686d51a82b24193ab6613faa05ca399": {
     "model_module": "@jupyter-widgets/controls",
     "model_module_version": "1.5.0",
     "model_name": "HTMLModel",
     "state": {
      "_dom_classes": [],
      "_model_module": "@jupyter-widgets/controls",
      "_model_module_version": "1.5.0",
      "_model_name": "HTMLModel",
      "_view_count": null,
      "_view_module": "@jupyter-widgets/controls",
      "_view_module_version": "1.5.0",
      "_view_name": "HTMLView",
      "description": "",
      "description_tooltip": null,
      "layout": "IPY_MODEL_fee65605f7b64b3b92202a525f0b0394",
      "placeholder": "​",
      "style": "IPY_MODEL_78958bdbc32f4dce81ff6a4d85bce59c",
      "value": "Downloading (…)olve/main/vocab.json: 100%"
     }
    },
    "aae0c27ef72d4b04b0a1c2350046dd29": {
     "model_module": "@jupyter-widgets/base",
     "model_module_version": "1.2.0",
     "model_name": "LayoutModel",
     "state": {
      "_model_module": "@jupyter-widgets/base",
      "_model_module_version": "1.2.0",
      "_model_name": "LayoutModel",
      "_view_count": null,
      "_view_module": "@jupyter-widgets/base",
      "_view_module_version": "1.2.0",
      "_view_name": "LayoutView",
      "align_content": null,
      "align_items": null,
      "align_self": null,
      "border": null,
      "bottom": null,
      "display": null,
      "flex": null,
      "flex_flow": null,
      "grid_area": null,
      "grid_auto_columns": null,
      "grid_auto_flow": null,
      "grid_auto_rows": null,
      "grid_column": null,
      "grid_gap": null,
      "grid_row": null,
      "grid_template_areas": null,
      "grid_template_columns": null,
      "grid_template_rows": null,
      "height": null,
      "justify_content": null,
      "justify_items": null,
      "left": null,
      "margin": null,
      "max_height": null,
      "max_width": null,
      "min_height": null,
      "min_width": null,
      "object_fit": null,
      "object_position": null,
      "order": null,
      "overflow": null,
      "overflow_x": null,
      "overflow_y": null,
      "padding": null,
      "right": null,
      "top": null,
      "visibility": null,
      "width": null
     }
    },
    "b011ad52d4fd455aabf8da00cf061307": {
     "model_module": "@jupyter-widgets/controls",
     "model_module_version": "1.5.0",
     "model_name": "ProgressStyleModel",
     "state": {
      "_model_module": "@jupyter-widgets/controls",
      "_model_module_version": "1.5.0",
      "_model_name": "ProgressStyleModel",
      "_view_count": null,
      "_view_module": "@jupyter-widgets/base",
      "_view_module_version": "1.2.0",
      "_view_name": "StyleView",
      "bar_color": null,
      "description_width": ""
     }
    },
    "b06f3bcd0e564cd390c352e908b4a155": {
     "model_module": "@jupyter-widgets/controls",
     "model_module_version": "1.5.0",
     "model_name": "FloatProgressModel",
     "state": {
      "_dom_classes": [],
      "_model_module": "@jupyter-widgets/controls",
      "_model_module_version": "1.5.0",
      "_model_name": "FloatProgressModel",
      "_view_count": null,
      "_view_module": "@jupyter-widgets/controls",
      "_view_module_version": "1.5.0",
      "_view_name": "ProgressView",
      "bar_style": "success",
      "description": "",
      "description_tooltip": null,
      "layout": "IPY_MODEL_61ab21f5d60c4c2092341ff865955e0e",
      "max": 124,
      "min": 0,
      "orientation": "horizontal",
      "style": "IPY_MODEL_b011ad52d4fd455aabf8da00cf061307",
      "value": 124
     }
    },
    "b2b282ae9a5440ebac487bfcfb6337f4": {
     "model_module": "@jupyter-widgets/controls",
     "model_module_version": "1.5.0",
     "model_name": "FloatProgressModel",
     "state": {
      "_dom_classes": [],
      "_model_module": "@jupyter-widgets/controls",
      "_model_module_version": "1.5.0",
      "_model_name": "FloatProgressModel",
      "_view_count": null,
      "_view_module": "@jupyter-widgets/controls",
      "_view_module_version": "1.5.0",
      "_view_name": "ProgressView",
      "bar_style": "success",
      "description": "",
      "description_tooltip": null,
      "layout": "IPY_MODEL_de1ad01b632f4ec1b803bac342119631",
      "max": 1042301,
      "min": 0,
      "orientation": "horizontal",
      "style": "IPY_MODEL_be62b88cc7194e40a2dc4459b257e4a1",
      "value": 1042301
     }
    },
    "be62b88cc7194e40a2dc4459b257e4a1": {
     "model_module": "@jupyter-widgets/controls",
     "model_module_version": "1.5.0",
     "model_name": "ProgressStyleModel",
     "state": {
      "_model_module": "@jupyter-widgets/controls",
      "_model_module_version": "1.5.0",
      "_model_name": "ProgressStyleModel",
      "_view_count": null,
      "_view_module": "@jupyter-widgets/base",
      "_view_module_version": "1.2.0",
      "_view_name": "StyleView",
      "bar_color": null,
      "description_width": ""
     }
    },
    "c6cdac8fd1ac4904b1056fc301fa77ff": {
     "model_module": "@jupyter-widgets/controls",
     "model_module_version": "1.5.0",
     "model_name": "DescriptionStyleModel",
     "state": {
      "_model_module": "@jupyter-widgets/controls",
      "_model_module_version": "1.5.0",
      "_model_name": "DescriptionStyleModel",
      "_view_count": null,
      "_view_module": "@jupyter-widgets/base",
      "_view_module_version": "1.2.0",
      "_view_name": "StyleView",
      "description_width": ""
     }
    },
    "c747aeb4e85a48ca85f85df52be4cc16": {
     "model_module": "@jupyter-widgets/controls",
     "model_module_version": "1.5.0",
     "model_name": "HTMLModel",
     "state": {
      "_dom_classes": [],
      "_model_module": "@jupyter-widgets/controls",
      "_model_module_version": "1.5.0",
      "_model_name": "HTMLModel",
      "_view_count": null,
      "_view_module": "@jupyter-widgets/controls",
      "_view_module_version": "1.5.0",
      "_view_name": "HTMLView",
      "description": "",
      "description_tooltip": null,
      "layout": "IPY_MODEL_f8079702d4cc46398b34a25cb9a5043b",
      "placeholder": "​",
      "style": "IPY_MODEL_686b3d98c9fd4f77b5bd1f29acd328c7",
      "value": " 124/124 [00:00&lt;00:00, 1.56kB/s]"
     }
    },
    "caac66d653ba4569a93a99ed2d81dea3": {
     "model_module": "@jupyter-widgets/base",
     "model_module_version": "1.2.0",
     "model_name": "LayoutModel",
     "state": {
      "_model_module": "@jupyter-widgets/base",
      "_model_module_version": "1.2.0",
      "_model_name": "LayoutModel",
      "_view_count": null,
      "_view_module": "@jupyter-widgets/base",
      "_view_module_version": "1.2.0",
      "_view_name": "LayoutView",
      "align_content": null,
      "align_items": null,
      "align_self": null,
      "border": null,
      "bottom": null,
      "display": null,
      "flex": null,
      "flex_flow": null,
      "grid_area": null,
      "grid_auto_columns": null,
      "grid_auto_flow": null,
      "grid_auto_rows": null,
      "grid_column": null,
      "grid_gap": null,
      "grid_row": null,
      "grid_template_areas": null,
      "grid_template_columns": null,
      "grid_template_rows": null,
      "height": null,
      "justify_content": null,
      "justify_items": null,
      "left": null,
      "margin": null,
      "max_height": null,
      "max_width": null,
      "min_height": null,
      "min_width": null,
      "object_fit": null,
      "object_position": null,
      "order": null,
      "overflow": null,
      "overflow_x": null,
      "overflow_y": null,
      "padding": null,
      "right": null,
      "top": null,
      "visibility": null,
      "width": null
     }
    },
    "caf29636500d4d148a8bf040bd09c588": {
     "model_module": "@jupyter-widgets/controls",
     "model_module_version": "1.5.0",
     "model_name": "HTMLModel",
     "state": {
      "_dom_classes": [],
      "_model_module": "@jupyter-widgets/controls",
      "_model_module_version": "1.5.0",
      "_model_name": "HTMLModel",
      "_view_count": null,
      "_view_module": "@jupyter-widgets/controls",
      "_view_module_version": "1.5.0",
      "_view_name": "HTMLView",
      "description": "",
      "description_tooltip": null,
      "layout": "IPY_MODEL_f4b886121757481a9ab643e3078219c0",
      "placeholder": "​",
      "style": "IPY_MODEL_44a8057aed0f4582ba4da9e21627a64e",
      "value": "Downloading (…)/main/tokenizer.json: 100%"
     }
    },
    "cd5447878cfa448a92a2e4f7684e6c7a": {
     "model_module": "@jupyter-widgets/base",
     "model_module_version": "1.2.0",
     "model_name": "LayoutModel",
     "state": {
      "_model_module": "@jupyter-widgets/base",
      "_model_module_version": "1.2.0",
      "_model_name": "LayoutModel",
      "_view_count": null,
      "_view_module": "@jupyter-widgets/base",
      "_view_module_version": "1.2.0",
      "_view_name": "LayoutView",
      "align_content": null,
      "align_items": null,
      "align_self": null,
      "border": null,
      "bottom": null,
      "display": null,
      "flex": null,
      "flex_flow": null,
      "grid_area": null,
      "grid_auto_columns": null,
      "grid_auto_flow": null,
      "grid_auto_rows": null,
      "grid_column": null,
      "grid_gap": null,
      "grid_row": null,
      "grid_template_areas": null,
      "grid_template_columns": null,
      "grid_template_rows": null,
      "height": null,
      "justify_content": null,
      "justify_items": null,
      "left": null,
      "margin": null,
      "max_height": null,
      "max_width": null,
      "min_height": null,
      "min_width": null,
      "object_fit": null,
      "object_position": null,
      "order": null,
      "overflow": null,
      "overflow_x": null,
      "overflow_y": null,
      "padding": null,
      "right": null,
      "top": null,
      "visibility": null,
      "width": null
     }
    },
    "ce7a89c45712483eabdfd726e97b71c5": {
     "model_module": "@jupyter-widgets/controls",
     "model_module_version": "1.5.0",
     "model_name": "ProgressStyleModel",
     "state": {
      "_model_module": "@jupyter-widgets/controls",
      "_model_module_version": "1.5.0",
      "_model_name": "ProgressStyleModel",
      "_view_count": null,
      "_view_module": "@jupyter-widgets/base",
      "_view_module_version": "1.2.0",
      "_view_name": "StyleView",
      "bar_color": null,
      "description_width": ""
     }
    },
    "d060b1abad764e35a04a07cf436ffc11": {
     "model_module": "@jupyter-widgets/base",
     "model_module_version": "1.2.0",
     "model_name": "LayoutModel",
     "state": {
      "_model_module": "@jupyter-widgets/base",
      "_model_module_version": "1.2.0",
      "_model_name": "LayoutModel",
      "_view_count": null,
      "_view_module": "@jupyter-widgets/base",
      "_view_module_version": "1.2.0",
      "_view_name": "LayoutView",
      "align_content": null,
      "align_items": null,
      "align_self": null,
      "border": null,
      "bottom": null,
      "display": null,
      "flex": null,
      "flex_flow": null,
      "grid_area": null,
      "grid_auto_columns": null,
      "grid_auto_flow": null,
      "grid_auto_rows": null,
      "grid_column": null,
      "grid_gap": null,
      "grid_row": null,
      "grid_template_areas": null,
      "grid_template_columns": null,
      "grid_template_rows": null,
      "height": null,
      "justify_content": null,
      "justify_items": null,
      "left": null,
      "margin": null,
      "max_height": null,
      "max_width": null,
      "min_height": null,
      "min_width": null,
      "object_fit": null,
      "object_position": null,
      "order": null,
      "overflow": null,
      "overflow_x": null,
      "overflow_y": null,
      "padding": null,
      "right": null,
      "top": null,
      "visibility": null,
      "width": null
     }
    },
    "d0f58bd18a124c628a1333d087c07f32": {
     "model_module": "@jupyter-widgets/base",
     "model_module_version": "1.2.0",
     "model_name": "LayoutModel",
     "state": {
      "_model_module": "@jupyter-widgets/base",
      "_model_module_version": "1.2.0",
      "_model_name": "LayoutModel",
      "_view_count": null,
      "_view_module": "@jupyter-widgets/base",
      "_view_module_version": "1.2.0",
      "_view_name": "LayoutView",
      "align_content": null,
      "align_items": null,
      "align_self": null,
      "border": null,
      "bottom": null,
      "display": null,
      "flex": null,
      "flex_flow": null,
      "grid_area": null,
      "grid_auto_columns": null,
      "grid_auto_flow": null,
      "grid_auto_rows": null,
      "grid_column": null,
      "grid_gap": null,
      "grid_row": null,
      "grid_template_areas": null,
      "grid_template_columns": null,
      "grid_template_rows": null,
      "height": null,
      "justify_content": null,
      "justify_items": null,
      "left": null,
      "margin": null,
      "max_height": null,
      "max_width": null,
      "min_height": null,
      "min_width": null,
      "object_fit": null,
      "object_position": null,
      "order": null,
      "overflow": null,
      "overflow_x": null,
      "overflow_y": null,
      "padding": null,
      "right": null,
      "top": null,
      "visibility": null,
      "width": null
     }
    },
    "d6671c9ae5124706acba20857aa940f5": {
     "model_module": "@jupyter-widgets/controls",
     "model_module_version": "1.5.0",
     "model_name": "DescriptionStyleModel",
     "state": {
      "_model_module": "@jupyter-widgets/controls",
      "_model_module_version": "1.5.0",
      "_model_name": "DescriptionStyleModel",
      "_view_count": null,
      "_view_module": "@jupyter-widgets/base",
      "_view_module_version": "1.2.0",
      "_view_name": "StyleView",
      "description_width": ""
     }
    },
    "d80051239dcc43b485bc8460876df43a": {
     "model_module": "@jupyter-widgets/controls",
     "model_module_version": "1.5.0",
     "model_name": "HTMLModel",
     "state": {
      "_dom_classes": [],
      "_model_module": "@jupyter-widgets/controls",
      "_model_module_version": "1.5.0",
      "_model_name": "HTMLModel",
      "_view_count": null,
      "_view_module": "@jupyter-widgets/controls",
      "_view_module_version": "1.5.0",
      "_view_name": "HTMLView",
      "description": "",
      "description_tooltip": null,
      "layout": "IPY_MODEL_aae0c27ef72d4b04b0a1c2350046dd29",
      "placeholder": "​",
      "style": "IPY_MODEL_e1a68e49a62f4c828b54ac75acd1c3d4",
      "value": "Downloading (…)neration_config.json: 100%"
     }
    },
    "daeb8d654133463aa5040e6e82c99dc4": {
     "model_module": "@jupyter-widgets/controls",
     "model_module_version": "1.5.0",
     "model_name": "DescriptionStyleModel",
     "state": {
      "_model_module": "@jupyter-widgets/controls",
      "_model_module_version": "1.5.0",
      "_model_name": "DescriptionStyleModel",
      "_view_count": null,
      "_view_module": "@jupyter-widgets/base",
      "_view_module_version": "1.2.0",
      "_view_name": "StyleView",
      "description_width": ""
     }
    },
    "de1ad01b632f4ec1b803bac342119631": {
     "model_module": "@jupyter-widgets/base",
     "model_module_version": "1.2.0",
     "model_name": "LayoutModel",
     "state": {
      "_model_module": "@jupyter-widgets/base",
      "_model_module_version": "1.2.0",
      "_model_name": "LayoutModel",
      "_view_count": null,
      "_view_module": "@jupyter-widgets/base",
      "_view_module_version": "1.2.0",
      "_view_name": "LayoutView",
      "align_content": null,
      "align_items": null,
      "align_self": null,
      "border": null,
      "bottom": null,
      "display": null,
      "flex": null,
      "flex_flow": null,
      "grid_area": null,
      "grid_auto_columns": null,
      "grid_auto_flow": null,
      "grid_auto_rows": null,
      "grid_column": null,
      "grid_gap": null,
      "grid_row": null,
      "grid_template_areas": null,
      "grid_template_columns": null,
      "grid_template_rows": null,
      "height": null,
      "justify_content": null,
      "justify_items": null,
      "left": null,
      "margin": null,
      "max_height": null,
      "max_width": null,
      "min_height": null,
      "min_width": null,
      "object_fit": null,
      "object_position": null,
      "order": null,
      "overflow": null,
      "overflow_x": null,
      "overflow_y": null,
      "padding": null,
      "right": null,
      "top": null,
      "visibility": null,
      "width": null
     }
    },
    "e1a68e49a62f4c828b54ac75acd1c3d4": {
     "model_module": "@jupyter-widgets/controls",
     "model_module_version": "1.5.0",
     "model_name": "DescriptionStyleModel",
     "state": {
      "_model_module": "@jupyter-widgets/controls",
      "_model_module_version": "1.5.0",
      "_model_name": "DescriptionStyleModel",
      "_view_count": null,
      "_view_module": "@jupyter-widgets/base",
      "_view_module_version": "1.2.0",
      "_view_name": "StyleView",
      "description_width": ""
     }
    },
    "e2c13acf5e0c44bc8cca7963557f1612": {
     "model_module": "@jupyter-widgets/controls",
     "model_module_version": "1.5.0",
     "model_name": "HBoxModel",
     "state": {
      "_dom_classes": [],
      "_model_module": "@jupyter-widgets/controls",
      "_model_module_version": "1.5.0",
      "_model_name": "HBoxModel",
      "_view_count": null,
      "_view_module": "@jupyter-widgets/controls",
      "_view_module_version": "1.5.0",
      "_view_name": "HBoxView",
      "box_style": "",
      "children": [
       "IPY_MODEL_d80051239dcc43b485bc8460876df43a",
       "IPY_MODEL_b06f3bcd0e564cd390c352e908b4a155",
       "IPY_MODEL_c747aeb4e85a48ca85f85df52be4cc16"
      ],
      "layout": "IPY_MODEL_81d56e5f6e2d47248349024f10ccff48"
     }
    },
    "e62fc02601724750b6a03cab763a3547": {
     "model_module": "@jupyter-widgets/base",
     "model_module_version": "1.2.0",
     "model_name": "LayoutModel",
     "state": {
      "_model_module": "@jupyter-widgets/base",
      "_model_module_version": "1.2.0",
      "_model_name": "LayoutModel",
      "_view_count": null,
      "_view_module": "@jupyter-widgets/base",
      "_view_module_version": "1.2.0",
      "_view_name": "LayoutView",
      "align_content": null,
      "align_items": null,
      "align_self": null,
      "border": null,
      "bottom": null,
      "display": null,
      "flex": null,
      "flex_flow": null,
      "grid_area": null,
      "grid_auto_columns": null,
      "grid_auto_flow": null,
      "grid_auto_rows": null,
      "grid_column": null,
      "grid_gap": null,
      "grid_row": null,
      "grid_template_areas": null,
      "grid_template_columns": null,
      "grid_template_rows": null,
      "height": null,
      "justify_content": null,
      "justify_items": null,
      "left": null,
      "margin": null,
      "max_height": null,
      "max_width": null,
      "min_height": null,
      "min_width": null,
      "object_fit": null,
      "object_position": null,
      "order": null,
      "overflow": null,
      "overflow_x": null,
      "overflow_y": null,
      "padding": null,
      "right": null,
      "top": null,
      "visibility": null,
      "width": null
     }
    },
    "ea97603c635744e4a43d44f22738925a": {
     "model_module": "@jupyter-widgets/controls",
     "model_module_version": "1.5.0",
     "model_name": "HTMLModel",
     "state": {
      "_dom_classes": [],
      "_model_module": "@jupyter-widgets/controls",
      "_model_module_version": "1.5.0",
      "_model_name": "HTMLModel",
      "_view_count": null,
      "_view_module": "@jupyter-widgets/controls",
      "_view_module_version": "1.5.0",
      "_view_name": "HTMLView",
      "description": "",
      "description_tooltip": null,
      "layout": "IPY_MODEL_310484fc73294461a648893684bcc83f",
      "placeholder": "​",
      "style": "IPY_MODEL_414c8705b70b49d6a185dc571f194a6f",
      "value": " 456k/456k [00:00&lt;00:00, 5.87MB/s]"
     }
    },
    "eca4427e45124269b9ef9897dc030f1f": {
     "model_module": "@jupyter-widgets/controls",
     "model_module_version": "1.5.0",
     "model_name": "ProgressStyleModel",
     "state": {
      "_model_module": "@jupyter-widgets/controls",
      "_model_module_version": "1.5.0",
      "_model_name": "ProgressStyleModel",
      "_view_count": null,
      "_view_module": "@jupyter-widgets/base",
      "_view_module_version": "1.2.0",
      "_view_name": "StyleView",
      "bar_color": null,
      "description_width": ""
     }
    },
    "f4b886121757481a9ab643e3078219c0": {
     "model_module": "@jupyter-widgets/base",
     "model_module_version": "1.2.0",
     "model_name": "LayoutModel",
     "state": {
      "_model_module": "@jupyter-widgets/base",
      "_model_module_version": "1.2.0",
      "_model_name": "LayoutModel",
      "_view_count": null,
      "_view_module": "@jupyter-widgets/base",
      "_view_module_version": "1.2.0",
      "_view_name": "LayoutView",
      "align_content": null,
      "align_items": null,
      "align_self": null,
      "border": null,
      "bottom": null,
      "display": null,
      "flex": null,
      "flex_flow": null,
      "grid_area": null,
      "grid_auto_columns": null,
      "grid_auto_flow": null,
      "grid_auto_rows": null,
      "grid_column": null,
      "grid_gap": null,
      "grid_row": null,
      "grid_template_areas": null,
      "grid_template_columns": null,
      "grid_template_rows": null,
      "height": null,
      "justify_content": null,
      "justify_items": null,
      "left": null,
      "margin": null,
      "max_height": null,
      "max_width": null,
      "min_height": null,
      "min_width": null,
      "object_fit": null,
      "object_position": null,
      "order": null,
      "overflow": null,
      "overflow_x": null,
      "overflow_y": null,
      "padding": null,
      "right": null,
      "top": null,
      "visibility": null,
      "width": null
     }
    },
    "f6dfc55099e94f8bbdb3c2efcdea1fb7": {
     "model_module": "@jupyter-widgets/controls",
     "model_module_version": "1.5.0",
     "model_name": "HTMLModel",
     "state": {
      "_dom_classes": [],
      "_model_module": "@jupyter-widgets/controls",
      "_model_module_version": "1.5.0",
      "_model_name": "HTMLModel",
      "_view_count": null,
      "_view_module": "@jupyter-widgets/controls",
      "_view_module_version": "1.5.0",
      "_view_name": "HTMLView",
      "description": "",
      "description_tooltip": null,
      "layout": "IPY_MODEL_59a0ec026e2f4c38bd465cc698dc7558",
      "placeholder": "​",
      "style": "IPY_MODEL_c6cdac8fd1ac4904b1056fc301fa77ff",
      "value": " 1.52G/1.52G [00:29&lt;00:00, 47.4MB/s]"
     }
    },
    "f8079702d4cc46398b34a25cb9a5043b": {
     "model_module": "@jupyter-widgets/base",
     "model_module_version": "1.2.0",
     "model_name": "LayoutModel",
     "state": {
      "_model_module": "@jupyter-widgets/base",
      "_model_module_version": "1.2.0",
      "_model_name": "LayoutModel",
      "_view_count": null,
      "_view_module": "@jupyter-widgets/base",
      "_view_module_version": "1.2.0",
      "_view_name": "LayoutView",
      "align_content": null,
      "align_items": null,
      "align_self": null,
      "border": null,
      "bottom": null,
      "display": null,
      "flex": null,
      "flex_flow": null,
      "grid_area": null,
      "grid_auto_columns": null,
      "grid_auto_flow": null,
      "grid_auto_rows": null,
      "grid_column": null,
      "grid_gap": null,
      "grid_row": null,
      "grid_template_areas": null,
      "grid_template_columns": null,
      "grid_template_rows": null,
      "height": null,
      "justify_content": null,
      "justify_items": null,
      "left": null,
      "margin": null,
      "max_height": null,
      "max_width": null,
      "min_height": null,
      "min_width": null,
      "object_fit": null,
      "object_position": null,
      "order": null,
      "overflow": null,
      "overflow_x": null,
      "overflow_y": null,
      "padding": null,
      "right": null,
      "top": null,
      "visibility": null,
      "width": null
     }
    },
    "fee65605f7b64b3b92202a525f0b0394": {
     "model_module": "@jupyter-widgets/base",
     "model_module_version": "1.2.0",
     "model_name": "LayoutModel",
     "state": {
      "_model_module": "@jupyter-widgets/base",
      "_model_module_version": "1.2.0",
      "_model_name": "LayoutModel",
      "_view_count": null,
      "_view_module": "@jupyter-widgets/base",
      "_view_module_version": "1.2.0",
      "_view_name": "LayoutView",
      "align_content": null,
      "align_items": null,
      "align_self": null,
      "border": null,
      "bottom": null,
      "display": null,
      "flex": null,
      "flex_flow": null,
      "grid_area": null,
      "grid_auto_columns": null,
      "grid_auto_flow": null,
      "grid_auto_rows": null,
      "grid_column": null,
      "grid_gap": null,
      "grid_row": null,
      "grid_template_areas": null,
      "grid_template_columns": null,
      "grid_template_rows": null,
      "height": null,
      "justify_content": null,
      "justify_items": null,
      "left": null,
      "margin": null,
      "max_height": null,
      "max_width": null,
      "min_height": null,
      "min_width": null,
      "object_fit": null,
      "object_position": null,
      "order": null,
      "overflow": null,
      "overflow_x": null,
      "overflow_y": null,
      "padding": null,
      "right": null,
      "top": null,
      "visibility": null,
      "width": null
     }
    }
   }
  }
 },
 "nbformat": 4,
 "nbformat_minor": 4
}
