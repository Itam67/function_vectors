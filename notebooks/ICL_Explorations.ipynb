{
 "cells": [
  {
   "cell_type": "markdown",
   "metadata": {
    "id": "P5a-Ozy8sMeM"
   },
   "source": [
    "# Setup Code"
   ]
  },
  {
   "cell_type": "code",
   "execution_count": 1,
   "metadata": {
    "id": "-HESnpt3U0-X"
   },
   "outputs": [],
   "source": [
    "import seaborn as sns\n",
    "import json\n",
    "\n",
    "# Plotly needs a different renderer for VSCode/Notebooks vs Colab argh\n",
    "import plotly.io as pio\n",
    "\n",
    "pio.renderers.default = \"png\"\n",
    "\n",
    "# Import stuff\n",
    "import torch\n",
    "import torch.nn as nn\n",
    "import torch.nn.functional as F\n",
    "import torch.optim as optim\n",
    "import numpy as np\n",
    "import einops\n",
    "from fancy_einsum import einsum\n",
    "import tqdm.notebook as tqdm\n",
    "import random\n",
    "from pathlib import Path\n",
    "import plotly.express as px\n",
    "from torch.utils.data import DataLoader\n",
    "import plotly.graph_objects as go\n",
    "import matplotlib.pyplot as plt"
   ]
  },
  {
   "cell_type": "code",
   "execution_count": 2,
   "metadata": {
    "id": "nGjGqwf7GrgA"
   },
   "outputs": [
    {
     "name": "stderr",
     "output_type": "stream",
     "text": [
      "/home/presi/miniconda3/envs/fv/lib/python3.10/site-packages/transformers/utils/hub.py:124: FutureWarning:\n",
      "\n",
      "Using `TRANSFORMERS_CACHE` is deprecated and will be removed in v5 of Transformers. Use `HF_HOME` instead.\n",
      "\n"
     ]
    }
   ],
   "source": [
    "from typing import List, Union, Optional\n",
    "from functools import partial\n",
    "import copy\n",
    "\n",
    "import itertools\n",
    "from transformers import AutoModelForCausalLM, AutoConfig, AutoTokenizer\n",
    "import dataclasses\n",
    "import datasets\n",
    "from IPython.display import HTML\n",
    "\n",
    "\n",
    "import transformer_lens\n",
    "import transformer_lens.utils as utils\n",
    "from transformer_lens.hook_points import (\n",
    "    HookedRootModule,\n",
    "    HookPoint,\n",
    ")  # Hooking utilities\n",
    "from transformer_lens import HookedTransformer, HookedTransformerConfig, FactoredMatrix, ActivationCache\n",
    "\n",
    "# We turn automatic differentiation off, to save GPU memory, as this notebook focuses on model inference not model training.\n",
    "torch.set_grad_enabled(False)\n",
    "\n",
    "\n",
    "## Helper and Visual Functions\n",
    "def imshow(tensor, renderer=None, **kwargs):\n",
    "    px.imshow(utils.to_numpy(tensor), color_continuous_midpoint=0.0, color_continuous_scale=\"RdBu\", **kwargs).show(renderer)\n",
    "\n",
    "def line(tensor, renderer=None, **kwargs):\n",
    "    px.line(y=utils.to_numpy(tensor), **kwargs).show(renderer)\n",
    "\n",
    "def scatter(x, y, xaxis=\"\", yaxis=\"\", caxis=\"\", renderer=None, **kwargs):\n",
    "    x = utils.to_numpy(x)\n",
    "    y = utils.to_numpy(y)\n",
    "    px.scatter(y=y, x=x, labels={\"x\":xaxis, \"y\":yaxis, \"color\":caxis}, **kwargs).show(renderer)"
   ]
  },
  {
   "cell_type": "markdown",
   "metadata": {
    "id": "0vBxb7D4s73R"
   },
   "source": [
    "# Prompt Experimenting"
   ]
  },
  {
   "cell_type": "code",
   "execution_count": 3,
   "metadata": {
    "colab": {
     "base_uri": "https://localhost:8080/",
     "height": 227,
     "referenced_widgets": [
      "4cd9ab6b5c614035b29efb04d9b9d71b",
      "707af47d24814cda92254bc0d5b0829d",
      "2fd09874949c47a79c624b1074ae70ae",
      "76293d449e3d4079afe8cbb61b557f1c",
      "e62fc02601724750b6a03cab763a3547",
      "0b88ca6bae95407fa037749e9158f14a",
      "daeb8d654133463aa5040e6e82c99dc4",
      "0b25769b5a434e11929070628db95c85",
      "eca4427e45124269b9ef9897dc030f1f",
      "135bd910db8343b098434946aca60ba6",
      "d6671c9ae5124706acba20857aa940f5",
      "247b5009504a4b078ee592e4431cc5cc",
      "13cf927cd283441281976fef17f324c6",
      "0357de1638b04191b741d68b91d22716",
      "f6dfc55099e94f8bbdb3c2efcdea1fb7",
      "6b3bfd58ebaf4582a4f203eebbef28c2",
      "d060b1abad764e35a04a07cf436ffc11",
      "011f9dc606734b4e85930977cc566caa",
      "8481548a099b418eb75c2a58bf1c0392",
      "697e7b22a2874a509b8c4f8a28adfe6d",
      "59a0ec026e2f4c38bd465cc698dc7558",
      "c6cdac8fd1ac4904b1056fc301fa77ff",
      "e2c13acf5e0c44bc8cca7963557f1612",
      "d80051239dcc43b485bc8460876df43a",
      "b06f3bcd0e564cd390c352e908b4a155",
      "c747aeb4e85a48ca85f85df52be4cc16",
      "81d56e5f6e2d47248349024f10ccff48",
      "aae0c27ef72d4b04b0a1c2350046dd29",
      "e1a68e49a62f4c828b54ac75acd1c3d4",
      "61ab21f5d60c4c2092341ff865955e0e",
      "b011ad52d4fd455aabf8da00cf061307",
      "f8079702d4cc46398b34a25cb9a5043b",
      "686b3d98c9fd4f77b5bd1f29acd328c7",
      "5203fd81d8714f2eb2381ff0107d90fd",
      "9686d51a82b24193ab6613faa05ca399",
      "b2b282ae9a5440ebac487bfcfb6337f4",
      "2ad2a0ff6006407283d0648bb82062c6",
      "0e3dd9b014904695bd80bdc5725b4281",
      "fee65605f7b64b3b92202a525f0b0394",
      "78958bdbc32f4dce81ff6a4d85bce59c",
      "de1ad01b632f4ec1b803bac342119631",
      "be62b88cc7194e40a2dc4459b257e4a1",
      "1e82faf434d4408e9fe0e999f192a907",
      "94215200942f4917a399699009c77e81",
      "66a2157629b941a7a7d5cbd25a780047",
      "80b566f67f6140fdaf35fc37444e3244",
      "26bfde2260dd4d12b6c2ecf7043859bf",
      "ea97603c635744e4a43d44f22738925a",
      "caac66d653ba4569a93a99ed2d81dea3",
      "60b59cb0e02c425fa9a3c8797d3e7737",
      "2b9a40748c8d4db3b95ff1ee8a9c6997",
      "4e1932fcfe5c48eca76ab685e50cd758",
      "ce7a89c45712483eabdfd726e97b71c5",
      "310484fc73294461a648893684bcc83f",
      "414c8705b70b49d6a185dc571f194a6f",
      "8d85602bc81d41ac9713f233226b776b",
      "caf29636500d4d148a8bf040bd09c588",
      "5dade36200974c67bf850860f63da08d",
      "2b578b058aff403087bd91a7cd880f17",
      "cd5447878cfa448a92a2e4f7684e6c7a",
      "f4b886121757481a9ab643e3078219c0",
      "44a8057aed0f4582ba4da9e21627a64e",
      "710eeac0715441aaaa4eeecafadee09b",
      "7b61089478354ca1b107cf52e14fe3f4",
      "d0f58bd18a124c628a1333d087c07f32",
      "827561765d7d449d88e4e081f29ecf94"
     ]
    },
    "id": "WMSJE-gas9v0",
    "outputId": "09b2634e-1a68-4975-cacf-a0f32ff1a935"
   },
   "outputs": [
    {
     "name": "stdout",
     "output_type": "stream",
     "text": [
      "Loaded pretrained model gpt2-medium into HookedTransformer\n"
     ]
    }
   ],
   "source": [
    "## Load the Models\n",
    "model = HookedTransformer.from_pretrained(\n",
    "    \"gpt2-medium\",\n",
    "    center_unembed=True,\n",
    "    center_writing_weights=True,\n",
    "    fold_ln=True,\n",
    "    refactor_factored_attn_matrices=True,\n",
    ")"
   ]
  },
  {
   "cell_type": "markdown",
   "metadata": {},
   "source": [
    "# Getting Dataset"
   ]
  },
  {
   "cell_type": "code",
   "execution_count": 4,
   "metadata": {},
   "outputs": [],
   "source": [
    "# Opening JSON file containing Examples\n",
    "f = open('../dataset_files/abstractive/antonym.json')\n",
    " \n",
    "# Returns JSON object \n",
    "examples = json.load(f)\n",
    "\n",
    "# Iterate through Examples\n",
    "dataset = []\n",
    "for example in examples:\n",
    "    dataset.append(example[\"input\"]+':'+example[\"output\"])\n",
    "\n",
    "prompts = []\n",
    "answers = []\n",
    "\n",
    "# Split the dataset into prompts and answers with 2 examples per prompt\n",
    "for i in range(0, len(dataset)-5, 5):\n",
    "    prompt = dataset[i]+', '+dataset[i+1]+', '+dataset[i+2]+', '+dataset[i+3]+', '+dataset[i+4]+', '+dataset[i+5].split(':')[0]+':'\n",
    "    prompts.append(prompt)\n",
    "    answers.append(dataset[i+5].split(':')[1])\n"
   ]
  },
  {
   "cell_type": "code",
   "execution_count": 5,
   "metadata": {
    "colab": {
     "base_uri": "https://localhost:8080/",
     "height": 281
    },
    "id": "tRoiJKv6GiCk",
    "outputId": "93892974-2783-4428-88da-2f77e810f794"
   },
   "outputs": [
    {
     "name": "stdout",
     "output_type": "stream",
     "text": [
      "Tokenized prompt: ['fl', 'awed', ':', 'perfect', ',', ' orthodox', ':', 'un', 'orthodox', ',', ' true', ':', 'false', ',', ' daily', ':', 'night', 'ly', ',', ' distribution', ':', 'con', 'cent', 'ration', ',', ' valid', ':']\n",
      "Tokenized answer: [' invalid']\n"
     ]
    },
    {
     "data": {
      "text/html": [
       "<pre style=\"white-space:pre;overflow-x:auto;line-height:normal;font-family:Menlo,'DejaVu Sans Mono',consolas,'Courier New',monospace\">Performance on answer token:\n",
       "<span style=\"font-weight: bold\">Rank: </span><span style=\"color: #008080; text-decoration-color: #008080; font-weight: bold\">813</span><span style=\"font-weight: bold\">      Logit:  </span><span style=\"color: #008080; text-decoration-color: #008080; font-weight: bold\">7.59</span><span style=\"font-weight: bold\"> Prob:  </span><span style=\"color: #008080; text-decoration-color: #008080; font-weight: bold\">0.01</span><span style=\"font-weight: bold\">% Token: | invalid|</span>\n",
       "</pre>\n"
      ],
      "text/plain": [
       "Performance on answer token:\n",
       "\u001b[1mRank: \u001b[0m\u001b[1;36m813\u001b[0m\u001b[1m      Logit:  \u001b[0m\u001b[1;36m7.59\u001b[0m\u001b[1m Prob:  \u001b[0m\u001b[1;36m0.01\u001b[0m\u001b[1m% Token: | invalid|\u001b[0m\n"
      ]
     },
     "metadata": {},
     "output_type": "display_data"
    },
    {
     "name": "stdout",
     "output_type": "stream",
     "text": [
      "Top 0th token. Logit: 15.72 Prob: 22.44% Token: |true|\n",
      "Top 1th token. Logit: 15.61 Prob: 19.97% Token: |valid|\n",
      "Top 2th token. Logit: 13.91 Prob:  3.66% Token: |un|\n",
      "Top 3th token. Logit: 13.89 Prob:  3.58% Token: |not|\n",
      "Top 4th token. Logit: 13.69 Prob:  2.95% Token: |false|\n",
      "Top 5th token. Logit: 12.83 Prob:  1.24% Token: |in|\n",
      "Top 6th token. Logit: 12.70 Prob:  1.09% Token: |correct|\n",
      "Top 7th token. Logit: 12.32 Prob:  0.75% Token: |acc|\n",
      "Top 8th token. Logit: 12.28 Prob:  0.72% Token: |ex|\n",
      "Top 9th token. Logit: 12.02 Prob:  0.56% Token: |f|\n"
     ]
    },
    {
     "data": {
      "text/html": [
       "<pre style=\"white-space:pre;overflow-x:auto;line-height:normal;font-family:Menlo,'DejaVu Sans Mono',consolas,'Courier New',monospace\"><span style=\"font-weight: bold\">Ranks of the answer tokens:</span> <span style=\"font-weight: bold\">[(</span><span style=\"color: #008000; text-decoration-color: #008000\">' invalid'</span>, <span style=\"color: #008080; text-decoration-color: #008080; font-weight: bold\">813</span><span style=\"font-weight: bold\">)]</span>\n",
       "</pre>\n"
      ],
      "text/plain": [
       "\u001b[1mRanks of the answer tokens:\u001b[0m \u001b[1m[\u001b[0m\u001b[1m(\u001b[0m\u001b[32m' invalid'\u001b[0m, \u001b[1;36m813\u001b[0m\u001b[1m)\u001b[0m\u001b[1m]\u001b[0m\n"
      ]
     },
     "metadata": {},
     "output_type": "display_data"
    }
   ],
   "source": [
    "# Investigating when the model can perform ICL\n",
    "\n",
    "index = 0\n",
    "example_prompt = prompts[index]\n",
    "example_answer = answers[index]\n",
    "\n",
    "utils.test_prompt(example_prompt, example_answer, model, prepend_bos=False)"
   ]
  },
  {
   "cell_type": "markdown",
   "metadata": {},
   "source": [
    "# Convert Datset To Tokens"
   ]
  },
  {
   "cell_type": "code",
   "execution_count": 6,
   "metadata": {},
   "outputs": [],
   "source": [
    "prompts_tokens = model.to_tokens(prompts)\n",
    "prompts_tokens = prompts_tokens.cuda()\n",
    "\n",
    "answers_tokens = model.to_tokens(answers, prepend_bos=False)\n",
    "answers_tokens = answers_tokens.cuda()\n",
    "\n",
    "# Get the last non-padded position for each example\n",
    "last_positions = prompts_tokens[:,1:].where(prompts_tokens[:, 1:] == 50256, 0).argmax(dim=1)\n"
   ]
  },
  {
   "cell_type": "markdown",
   "metadata": {},
   "source": [
    "# Run the Model"
   ]
  },
  {
   "cell_type": "code",
   "execution_count": 8,
   "metadata": {},
   "outputs": [],
   "source": [
    "# Run the model and cache all activations\n",
    "logits, cache = model.run_with_cache(prompts_tokens)"
   ]
  },
  {
   "cell_type": "markdown",
   "metadata": {},
   "source": [
    "# Check Accuracy"
   ]
  },
  {
   "cell_type": "code",
   "execution_count": 11,
   "metadata": {},
   "outputs": [],
   "source": [
    "# Get logit at last position\n",
    "logits_at_last_position = logits[torch.arange(logits.shape[0]), last_positions]\n"
   ]
  },
  {
   "cell_type": "code",
   "execution_count": 33,
   "metadata": {},
   "outputs": [
    {
     "name": "stdout",
     "output_type": "stream",
     "text": [
      "tensor(20, device='cuda:0')\n"
     ]
    }
   ],
   "source": [
    "print((logits_at_last_position.argmax(dim=1) == answers_tokens[:, 0]).sum())"
   ]
  },
  {
   "cell_type": "code",
   "execution_count": 51,
   "metadata": {},
   "outputs": [
    {
     "name": "stdout",
     "output_type": "stream",
     "text": [
      "0 :  flawed:perfect, orthodox:unorthodox, true:false, daily:nightly, distribution:concentration, valid: || invalid || ['true']\n",
      "1 :  valid:invalid, expand:contract, practical:impractical, privilege:disadvantage, mammoth:tiny, unrelated: || related || ['not']\n",
      "2 :  unrelated:related, overnight:daytime, other:same, square:circle, hollow:solid, difficult: || easy || ['diff']\n",
      "3 :  difficult:easy, luxury:poverty, stimulate:inhibit, proceed:halt, fertile:infertile, empirical: || theoretical || ['ex']\n",
      "4 :  empirical:theoretical, pretty:ugly, clinical:emotional, lucky:unlucky, tail:head, privacy: || publicity || ['priv']\n",
      "5 :  privacy:publicity, undergraduate:graduate, encourage:discourage, insecure:secure, professional:amateur, rapid: || slow || ['quick']\n",
      "6 :  rapid:slow, worthless:valuable, compressed:expanded, prose:poetry, watch:ignore, beast: || beauty || ['be']\n",
      "7 :  beast:beauty, pro:con, silent:noisy, inflammatory:anti-inflammatory, remain:leave, wrong: || right || ['wrong']\n",
      "8 :  wrong:right, whisper:shout, sentimental:unemotional, fascism:democracy, super:inferior, uncle: || aunt || ['uncle']\n",
      "9 :  uncle:aunt, exit:entry, matter:antimatter, prominence:obscurity, demise:birth, secular: || religious || ['death']\n",
      "10 :  secular:religious, departure:arrival, bear:deer, figure:ground, conspicuous:inconspicuous, boom: || whisper || ['bo']\n",
      "11 :  boom:whisper, cloudy:clear, unreasonable:reasonable, forward:backward, wide:narrow, relent: || persist || ['re']\n",
      "12 :  relent:persist, disappoint:satisfy, durable:fragile, loaded:empty, big:small, avoid: || seek || ['avoid']\n",
      "13 :  avoid:seek, invent:destroy, falsehood:truth, learn:forget, out:in, naked: || clothed || ['un']\n",
      "14 :  naked:clothed, sink:float, quarrel:peace, antidote:poison, genuine:fake, furious: || calm || ['f']\n",
      "15 :  furious:calm, trust:distrust, vague:specific, grandmother:grandfather, ignore:pay attention, foul: || fair || ['dis']\n",
      "16 :  foul:fair, south:north, laugh:cry, indistinguishable:distinguishable, red:blue, disable: || enable || ['disable']\n",
      "17 :  disable:enable, visible:invisible, restore:destroy, unconscious:conscious, prosecution:defense, daylight: || nighttime || ['dark']\n",
      "18 :  daylight:nighttime, appearance:disappearance, lessen:increase, wealthy:poor, bisexual:monosexual, anal: || oral || ['an']\n",
      "19 :  anal:oral, merit:demerit, authorized:unauthorized, undesirable:desirable, unequal:equal, inflation: || deflation || ['in']\n",
      "20 :  inflation:deflation, unfold:fold, express:suppress, northwestern:southeastern, majority:minority, applied: || theoretical || ['app']\n",
      "21 :  applied:theoretical, explosive:stable, spare:occupied, seasoned:unseasoned, distribute:collect, celestial: || terrestrial || ['un']\n",
      "22 :  celestial:terrestrial, robust:fragile, dysfunction:function, knockout:revival, spiral:straight, mainland: || island || ['straight']\n",
      "23 :  mainland:island, penalty:reward, colored:colorless, defunct:operational, arithmetic:algebra, faulty: || flawless || ['un']\n",
      "24 :  faulty:flawless, legislative:executive, distance:proximity, cut:heal, postpone:advance, record: || erase || ['record']\n",
      "25 :  record:erase, disregard:consider, borrow:lend, previous:next, reliable:unreliable, regress: || progress || ['re']\n",
      "26 :  regress:progress, exacerbate:alleviate, dangerous:safe, blessed:cursed, opposite:similar, west: || east || ['east']\n",
      "27 :  west:east, unemployment:employment, cow:bull, first:last, possibility:impossibility, foreground: || background || ['background']\n",
      "28 :  foreground:background, illustrious:unknown, barbaric:civilized, longtime:short time, indifferent:passionate, unlimited: || limited || ['un']\n",
      "29 :  unlimited:limited, breach:comply, frontal:rear;, only:many, limited:unlimited, dotted: || solid || ['d']\n",
      "30 :  dotted:solid, contingent:inevitable, straight:curved, summer:winter, unlikely:likely, old: || new || ['old']\n",
      "31 :  old:new, earthly:celestial, observational:theoretical, centrist:extremist, view:blindness, medial: || lateral || ['m']\n",
      "32 :  medial:lateral, extraordinary:ordinary, abolish:establish, cry:laugh, undo:do, cheer: || jeer || ['h']\n",
      "33 :  cheer:jeer, force:gentleness, hooked:unhooked, mistaken:correct, eldest:youngest, fried: || raw || ['fried']\n",
      "34 :  fried:raw, classify:disorganize, loosen:tighten, broaden:narrow, approval:disapproval, eastern: || western || ['east']\n",
      "35 :  eastern:western, polar:equatorial, unbelievable:believable, temporal:eternal, link:unlink, detain: || release || ['det']\n",
      "36 :  detain:release, outgoing:introverted, barren:fertile, white:black, intuitive:counterintuitive, outlaw: || law-abiding citizen || ['criminal']\n",
      "37 :  outlaw:law-abiding citizen, illegal:legal, concept:reality, authorize:prohibit, intelligent:unintelligent, undue: || due || ['un']\n",
      "38 :  undue:due, contrast:similarity, absent:present, convergence:divergence, shy:outgoing, mixed: || pure || ['in']\n",
      "39 :  mixed:pure, head:tail, contemporary:traditional, shameful:honorable, supreme:inferior, procedural: || conceptual || ['non']\n",
      "40 :  procedural:conceptual, ancestor:descendant, segregation:integration, give:take, marginal:central, bent: || straight || ['b']\n",
      "41 :  bent:straight, tomorrow:yesterday, lower:upper, permanent:temporary, lend:borrow, civil: || uncivilized || ['contract']\n",
      "42 :  civil:uncivilized, fictitious:real, dormant:active, employment:unemployment, complexity:simplicity, defy: || comply || ['def']\n",
      "43 :  defy:comply, conventional:unconventional, expected:unexpected, automated:manual, bra:panties, include: || exclude || ['all']\n",
      "44 :  include:exclude, pride:humility, outcome:input, obey:disobey, destroy:create, deduct: || add || ['remove']\n",
      "45 :  deduct:add, lesbian:straight, unlucky:lucky, specialize:generalize, unable:able, superhuman: || human || ['super']\n",
      "46 :  superhuman:human, inverse:direct, least:most, irrational:rational, stale:fresh, exclusive: || inclusive || ['exclusive']\n",
      "47 :  exclusive:inclusive, sturdy:fragile, literary:illiterate, regular:irregular, align:misalign, impossible: || possible || ['un']\n",
      "48 :  impossible:possible, martial:civilian, frustrated:satisfied, fake:real, veto:approve, approximate: || exact || ['app']\n",
      "49 :  approximate:exact, gradual:sudden, impractical:practical, smile:frown, legitimate:illegitimate, limp: || stiff || ['l']\n",
      "50 :  limp:stiff, improbable:probable, commence:conclude, put:take, cover:uncover, lightweight: || heavyweight || ['light']\n",
      "51 :  lightweight:heavyweight, acceptance:rejection, permission:prohibition, manned:unmanned, numerous:few;, divest: || invest || ['dis']\n",
      "52 :  divest:invest, tropical:polar, likely:unlikely, worsen:improve, decode:encode, excessive: || insufficient || ['over']\n",
      "53 :  excessive:insufficient, defend:attack, southeastern:northwestern, predictive:reactive, divergence:convergence, intensive: || relaxed || ['int']\n",
      "54 :  intensive:relaxed, abandon:keep, fore:aft, criticize:praise, used:new, childbirth: || death || ['birth']\n",
      "55 :  childbirth:death, hope:despair, extant:extinct, complex:simple, tacit:explicit, nighttime: || daytime || ['night']\n",
      "56 :  nighttime:daytime, premature:mature, comic:tragic, personal:impersonal, weak:strong, invisible: || visible || ['visible']\n",
      "57 :  invisible:visible, taxable:nontaxable, leading:following, lord:servant, advance:retreat, intense: || mild || ['int']\n",
      "58 :  intense:mild, definite:indefinite, rectangular:circular, mortal:immortal, inward:outward, excess: || deficiency || ['over']\n",
      "59 :  excess:deficiency, folly:wisdom, question:answer, violate:comply, digital:analog, intensify: || diminish || ['enh']\n",
      "60 :  intensify:diminish, like:dislike, short:long, mean:kind, jam:jelly, all: || none || ['all']\n",
      "61 :  all:none, disinfect:contaminate, longitudinal:latitudinal, redundant:essential, simplify:complicate, external: || internal || ['external']\n",
      "62 :  external:internal, interesting:boring, muscular:frail, stalk:root, establish:dismantle, displeasure: || pleasure || ['dis']\n",
      "63 :  displeasure:pleasure, appear:disappear, convenient:inconvenient, cease:continue, insignificant:significant, borrower: || lender || ['bor']\n",
      "64 :  borrower:lender, imaginative:practical, slow:fast, united:divided, park:home, float: || sink || ['flo']\n",
      "65 :  float:sink, solitary:social, frog:toad, rear:front, naughty:nice, eccentric: || conventional || ['d']\n",
      "66 :  eccentric:conventional, sinister:benevolent, hit:miss, tragedy:comedy, conservative:liberal, same: || different || ['same']\n",
      "67 :  same:different, idle:busy, end:beginning, proactive:reactive, counterfeit:genuine, plateau: || valley || ['point']\n",
      "68 :  plateau:valley, collect:disperse, problem:solution, unavailable:available, visceral:cerebral, dramatic: || subtle || ['d']\n",
      "69 :  dramatic:subtle, risky:safe, revolutionary:traditional, central:peripheral, varied:uniform, unmanned: || manned || ['un']\n",
      "70 :  unmanned:manned, disadvantaged:advantaged, infrared:ultraviolet, weakness:strength, epidemic:endemic, slowing: || speeding || ['slow']\n",
      "71 :  slowing:speeding, bare:covered, contradict:agree, draw:erase, squat:stand;, garner: || squander || ['stand']\n",
      "72 :  garner:squander, strike:spare, show:hide, loss:gain, ambiguous:clear, leftist: || rightist || ['left']\n",
      "73 :  leftist:rightist, upstream:downstream, infinite:finite, desirable:undesirable, pure:impure, opacity: || transparency || ['op']\n",
      "74 :  opacity:transparency, inland:coastal, harmful:beneficial, notice:ignore, brave:cowardly, ongoing: || completed || ['contin']\n",
      "75 :  ongoing:completed, advantage:disadvantage, contiguous:disjointed, main:secondary, pleasure:pain, noise: || silence || ['no']\n",
      "76 :  noise:silence, wise:foolish, convoluted:straightforward, refuse:accept, solder:desolder, transmitter: || receiver || ['trans']\n",
      "77 :  transmitter:receiver, petty:significant, numerical:non-numerical, instability:stability, install:uninstall, simplistic: || complex || ['simple']\n",
      "78 :  simplistic:complex, lodge:shelter, employ:unemploy, decline:increase, top:bottom, compatible: || incompatible || ['compatible']\n",
      "79 :  compatible:incompatible, geographic:non-geographic, preliminary:final, fugitive:law-abiding citizen, joy:sorrow, calm: || agitated || ['s']\n",
      "80 :  calm:agitated, need:have, background:foreground, forfeit:claim, concrete:abstract, widespread: || limited || ['over']\n",
      "81 :  widespread:limited, quantitative:qualitative, clear:cloudy, kind:cruel, melody:discord, obsolete: || modern || ['un']\n",
      "82 :  obsolete:modern, competition:cooperation, able:unable, endless:finite, inaction:action, indicate: || conceal || ['not']\n",
      "83 :  indicate:conceal, legalize:criminalize, reciprocal:direct, southern:northern, rising:falling, recession: || boom || ['re']\n",
      "84 :  recession:boom, payment:receipt, official:unofficial, safety:danger, column:row, authoritarian: || libertarian || ['dict']\n",
      "85 :  authoritarian:libertarian, wreck:preserve, constant:variable, explicit:implicit, sob:laugh, freeze: || melt || ['st']\n",
      "86 :  freeze:melt, proponent:opponent, defective:functional, immoral:moral, various:uniform, bald: || hairy || ['un']\n",
      "87 :  bald:hairy, contract:expand, mature:immature, separate:together, refined:crude, strengthen: || weaken || ['strong']\n",
      "88 :  strengthen:weaken, prohibition:permission, narrowing:widening, heterosexual:homosexual, reverse:forward, coloured: || monochrome || ['black']\n",
      "89 :  coloured:monochrome, speedy:lethargic, invalid:valid, inappropriate:appropriate, regulated:unregulated, kick: || catch || ['kick']\n",
      "90 :  kick:catch, suitable:unsuitable, cruelty:kindness, aboriginal:non-aboriginal, terrible:wonderful, mother: || father || ['mother']\n",
      "91 :  mother:father, massive:tiny, inquiry:response, unspecified:specified, absurd:sensible, birth: || death || ['birth']\n",
      "92 :  birth:death, static:dynamic, female:male, agricultural:industrial, accustomed:unaccustomed, verbal: || nonverbal || ['verb']\n",
      "93 :  verbal:nonverbal, conception:birth, next:previous, immortality:mortality, transient:permanent, moist: || dry || ['m']\n",
      "94 :  moist:dry, heated:cooled, independent:dependent, evasion:confrontation, observe:ignore, fact: || fiction || ['fact']\n",
      "95 :  fact:fiction, insertion:removal, borrowing:lending, surgical:non-surgical, contraction:expansion, liberal: || conservative || ['liberal']\n",
      "96 :  liberal:conservative, murky:clear, arise:settle, traitor:loyalist, distrust:trust, disbelief: || belief || ['bel']\n",
      "97 :  disbelief:belief, gritty:smooth, psychological:physical, favorite:least favorite, confirm:deny, major: || minor || ['major']\n",
      "98 :  major:minor, granddaughter:grandfather, descend:ascend, recommend:discourage, absorb:release, swift: || sluggish || ['release']\n",
      "99 :  swift:sluggish, satisfy:dissatisfy, enlarge:shrink, software:hardware, total:partial, bomb: || disarm || ['expl']\n"
     ]
    }
   ],
   "source": [
    "correct_examples = (logits_at_last_position.argmax(dim=1) == answers_tokens[:, 0]).nonzero()\n",
    "for i in correct_examples:\n",
    "    print(i, ': ', prompts[i],\"||\", answers[i], \"||\", model.to_str_tokens(logits_at_last_position[i].argmax(dim=-1)))"
   ]
  },
  {
   "cell_type": "markdown",
   "metadata": {
    "id": "qkM_mnKpSv09"
   },
   "source": [
    "# Logit Lens"
   ]
  },
  {
   "cell_type": "markdown",
   "metadata": {
    "id": "EqJPVRjTSynF"
   },
   "source": [
    "### Value of answer logit across different layers at last token pos"
   ]
  },
  {
   "cell_type": "code",
   "execution_count": 49,
   "metadata": {},
   "outputs": [],
   "source": [
    "# Select which prompt\n",
    "prompt_num = 0"
   ]
  },
  {
   "cell_type": "code",
   "execution_count": 51,
   "metadata": {
    "colab": {
     "base_uri": "https://localhost:8080/"
    },
    "id": "p2Co6RpnUvf7",
    "outputId": "476d9fee-2d11-4852-8fc7-de67b3e6d85d"
   },
   "outputs": [
    {
     "name": "stdout",
     "output_type": "stream",
     "text": [
      "torch.Size([97, 270, 1600])\n"
     ]
    },
    {
     "data": {
      "image/png": "[encoded data removed]"
     },
     "metadata": {},
     "output_type": "display_data"
    }
   ],
   "source": [
    "# Returns the accumulated residual stream at each layer/sub-layer and apply_ln applies final layer norm\n",
    "accumulated_residual, labels = cache.accumulated_resid(\n",
    "    layer=-1, incl_mid=True, pos_slice=-1, apply_ln=True, return_labels=True\n",
    ")\n",
    "print(accumulated_residual.shape)\n",
    "\n",
    "#Project each layer residual at last token onto vocab space\n",
    "projection_vocab = einsum(\"layer d_model, d_model d_vocab --> layer d_vocab\", accumulated_residual[:,prompt_num,:], model.W_U)\n",
    "\n",
    "\n",
    "line(\n",
    "    projection_vocab[:,answers_tokens.flatten()[prompt_num]].flatten(),\n",
    "    hover_name=labels,\n",
    "    title=\"Value of Correct Answer Logit\",\n",
    ")\n"
   ]
  },
  {
   "cell_type": "markdown",
   "metadata": {
    "id": "FYj-DbtzVRX4"
   },
   "source": [
    "### Look at top 1 token of projected residual stream and associated logit value"
   ]
  },
  {
   "cell_type": "code",
   "execution_count": 52,
   "metadata": {
    "colab": {
     "base_uri": "https://localhost:8080/"
    },
    "id": "eQSPfWFDTz3A",
    "outputId": "ed90b04c-81bd-47db-b704-13eeaa456bf6"
   },
   "outputs": [
    {
     "ename": "OutOfMemoryError",
     "evalue": "CUDA out of memory. Tried to allocate 3.28 GiB. GPU 0 has a total capacty of 44.35 GiB of which 1.05 GiB is free. Including non-PyTorch memory, this process has 43.28 GiB memory in use. Of the allocated memory 41.27 GiB is allocated by PyTorch, and 1.70 GiB is reserved by PyTorch but unallocated. If reserved but unallocated memory is large try setting max_split_size_mb to avoid fragmentation.  See documentation for Memory Management and PYTORCH_CUDA_ALLOC_CONF",
     "output_type": "error",
     "traceback": [
      "\u001b[0;31m---------------------------------------------------------------------------\u001b[0m",
      "\u001b[0;31mOutOfMemoryError\u001b[0m                          Traceback (most recent call last)",
      "Cell \u001b[0;32mIn[52], line 6\u001b[0m\n\u001b[1;32m      2\u001b[0m \u001b[38;5;28;01mimport\u001b[39;00m \u001b[38;5;21;01mnumpy\u001b[39;00m \u001b[38;5;28;01mas\u001b[39;00m \u001b[38;5;21;01mnp\u001b[39;00m\n\u001b[1;32m      5\u001b[0m \u001b[38;5;66;03m# Returns the accumulated residual stream at each layer/sub-layer and apply_ln applies final layer norm\u001b[39;00m\n\u001b[0;32m----> 6\u001b[0m accumulated_residual, labels \u001b[38;5;241m=\u001b[39m \u001b[43mcache\u001b[49m\u001b[38;5;241;43m.\u001b[39;49m\u001b[43maccumulated_resid\u001b[49m\u001b[43m(\u001b[49m\n\u001b[1;32m      7\u001b[0m \u001b[43m    \u001b[49m\u001b[43mlayer\u001b[49m\u001b[38;5;241;43m=\u001b[39;49m\u001b[38;5;241;43m-\u001b[39;49m\u001b[38;5;241;43m1\u001b[39;49m\u001b[43m,\u001b[49m\u001b[43m \u001b[49m\u001b[43mincl_mid\u001b[49m\u001b[38;5;241;43m=\u001b[39;49m\u001b[38;5;28;43;01mTrue\u001b[39;49;00m\u001b[43m,\u001b[49m\u001b[43m \u001b[49m\u001b[43mapply_ln\u001b[49m\u001b[38;5;241;43m=\u001b[39;49m\u001b[38;5;28;43;01mTrue\u001b[39;49;00m\u001b[43m,\u001b[49m\u001b[43m \u001b[49m\u001b[43mreturn_labels\u001b[49m\u001b[38;5;241;43m=\u001b[39;49m\u001b[38;5;28;43;01mTrue\u001b[39;49;00m\n\u001b[1;32m      8\u001b[0m \u001b[43m)\u001b[49m\n\u001b[1;32m      9\u001b[0m \u001b[38;5;28mprint\u001b[39m(accumulated_residual\u001b[38;5;241m.\u001b[39mshape)\n\u001b[1;32m     11\u001b[0m \u001b[38;5;66;03m# Project each layer and each position onto vocab space\u001b[39;00m\n",
      "File \u001b[0;32m~/miniconda3/envs/fv/lib/python3.10/site-packages/transformer_lens/ActivationCache.py:455\u001b[0m, in \u001b[0;36mActivationCache.accumulated_resid\u001b[0;34m(self, layer, incl_mid, apply_ln, pos_slice, mlp_input, return_labels)\u001b[0m\n\u001b[1;32m    453\u001b[0m components \u001b[38;5;241m=\u001b[39m torch\u001b[38;5;241m.\u001b[39mstack(components, dim\u001b[38;5;241m=\u001b[39m\u001b[38;5;241m0\u001b[39m)\n\u001b[1;32m    454\u001b[0m \u001b[38;5;28;01mif\u001b[39;00m apply_ln:\n\u001b[0;32m--> 455\u001b[0m     components \u001b[38;5;241m=\u001b[39m \u001b[38;5;28;43mself\u001b[39;49m\u001b[38;5;241;43m.\u001b[39;49m\u001b[43mapply_ln_to_stack\u001b[49m\u001b[43m(\u001b[49m\n\u001b[1;32m    456\u001b[0m \u001b[43m        \u001b[49m\u001b[43mcomponents\u001b[49m\u001b[43m,\u001b[49m\u001b[43m \u001b[49m\u001b[43mlayer\u001b[49m\u001b[43m,\u001b[49m\u001b[43m \u001b[49m\u001b[43mpos_slice\u001b[49m\u001b[38;5;241;43m=\u001b[39;49m\u001b[43mpos_slice\u001b[49m\u001b[43m,\u001b[49m\u001b[43m \u001b[49m\u001b[43mmlp_input\u001b[49m\u001b[38;5;241;43m=\u001b[39;49m\u001b[43mmlp_input\u001b[49m\n\u001b[1;32m    457\u001b[0m \u001b[43m    \u001b[49m\u001b[43m)\u001b[49m\n\u001b[1;32m    458\u001b[0m \u001b[38;5;28;01mif\u001b[39;00m return_labels:\n\u001b[1;32m    459\u001b[0m     \u001b[38;5;28;01mreturn\u001b[39;00m components, labels\n",
      "File \u001b[0;32m~/miniconda3/envs/fv/lib/python3.10/site-packages/transformer_lens/ActivationCache.py:1008\u001b[0m, in \u001b[0;36mActivationCache.apply_ln_to_stack\u001b[0;34m(self, residual_stack, layer, mlp_input, pos_slice, batch_slice, has_batch_dim)\u001b[0m\n\u001b[1;32m   1005\u001b[0m     residual_stack \u001b[38;5;241m=\u001b[39m batch_slice\u001b[38;5;241m.\u001b[39mapply(residual_stack, dim\u001b[38;5;241m=\u001b[39m\u001b[38;5;241m1\u001b[39m)\n\u001b[1;32m   1007\u001b[0m \u001b[38;5;66;03m# Center the stack\u001b[39;00m\n\u001b[0;32m-> 1008\u001b[0m residual_stack \u001b[38;5;241m=\u001b[39m \u001b[43mresidual_stack\u001b[49m\u001b[43m \u001b[49m\u001b[38;5;241;43m-\u001b[39;49m\u001b[43m \u001b[49m\u001b[43mresidual_stack\u001b[49m\u001b[38;5;241;43m.\u001b[39;49m\u001b[43mmean\u001b[49m\u001b[43m(\u001b[49m\u001b[43mdim\u001b[49m\u001b[38;5;241;43m=\u001b[39;49m\u001b[38;5;241;43m-\u001b[39;49m\u001b[38;5;241;43m1\u001b[39;49m\u001b[43m,\u001b[49m\u001b[43m \u001b[49m\u001b[43mkeepdim\u001b[49m\u001b[38;5;241;43m=\u001b[39;49m\u001b[38;5;28;43;01mTrue\u001b[39;49;00m\u001b[43m)\u001b[49m\n\u001b[1;32m   1010\u001b[0m \u001b[38;5;28;01mif\u001b[39;00m layer \u001b[38;5;241m==\u001b[39m \u001b[38;5;28mself\u001b[39m\u001b[38;5;241m.\u001b[39mmodel\u001b[38;5;241m.\u001b[39mcfg\u001b[38;5;241m.\u001b[39mn_layers \u001b[38;5;129;01mor\u001b[39;00m layer \u001b[38;5;129;01mis\u001b[39;00m \u001b[38;5;28;01mNone\u001b[39;00m:\n\u001b[1;32m   1011\u001b[0m     scale \u001b[38;5;241m=\u001b[39m \u001b[38;5;28mself\u001b[39m[\u001b[38;5;124m\"\u001b[39m\u001b[38;5;124mln_final.hook_scale\u001b[39m\u001b[38;5;124m\"\u001b[39m]\n",
      "\u001b[0;31mOutOfMemoryError\u001b[0m: CUDA out of memory. Tried to allocate 3.28 GiB. GPU 0 has a total capacty of 44.35 GiB of which 1.05 GiB is free. Including non-PyTorch memory, this process has 43.28 GiB memory in use. Of the allocated memory 41.27 GiB is allocated by PyTorch, and 1.70 GiB is reserved by PyTorch but unallocated. If reserved but unallocated memory is large try setting max_split_size_mb to avoid fragmentation.  See documentation for Memory Management and PYTORCH_CUDA_ALLOC_CONF"
     ]
    }
   ],
   "source": [
    "from matplotlib import pyplot as plt\n",
    "import numpy as np\n",
    "\n",
    "\n",
    "# Returns the accumulated residual stream at each layer/sub-layer and apply_ln applies final layer norm\n",
    "accumulated_residual, labels = cache.accumulated_resid(\n",
    "    layer=-1, incl_mid=True, apply_ln=True, return_labels=True\n",
    ")\n",
    "print(accumulated_residual.shape)\n",
    "\n",
    "# Project each layer and each position onto vocab space\n",
    "projection_vocab = einsum(\"layer pos d_model, d_model d_vocab --> layer pos d_vocab\", accumulated_residual[:,0,:,:], model.W_U)\n",
    "\n",
    "print(projection_vocab.shape)\n",
    "\n",
    "# Get maximum logit at each layer\n",
    "max_logit, max_index = projection_vocab.max(-1)\n",
    "\n",
    "# Convert max index tokens to strings\n",
    "top_preds = [model.to_str_tokens(layer) for layer in max_index]\n",
    "\n",
    "# Plot\n",
    "plt.figure(figsize=(12, 10))\n",
    "sns.heatmap(max_logit.cpu(), annot=top_preds, fmt = '', cmap='hot')"
   ]
  },
  {
   "cell_type": "code",
   "execution_count": 53,
   "metadata": {
    "colab": {
     "base_uri": "https://localhost:8080/"
    },
    "id": "oz0x6cbJezlV",
    "outputId": "f69c12bf-5785-4e27-af00-6223fb6146ed"
   },
   "outputs": [
    {
     "ename": "OutOfMemoryError",
     "evalue": "CUDA out of memory. Tried to allocate 3.31 GiB. GPU 0 has a total capacty of 44.35 GiB of which 1.05 GiB is free. Including non-PyTorch memory, this process has 43.28 GiB memory in use. Of the allocated memory 41.27 GiB is allocated by PyTorch, and 1.71 GiB is reserved by PyTorch but unallocated. If reserved but unallocated memory is large try setting max_split_size_mb to avoid fragmentation.  See documentation for Memory Management and PYTORCH_CUDA_ALLOC_CONF",
     "output_type": "error",
     "traceback": [
      "\u001b[0;31m---------------------------------------------------------------------------\u001b[0m",
      "\u001b[0;31mOutOfMemoryError\u001b[0m                          Traceback (most recent call last)",
      "Cell \u001b[0;32mIn[53], line 1\u001b[0m\n\u001b[0;32m----> 1\u001b[0m decomposed_residual, labels \u001b[38;5;241m=\u001b[39m \u001b[43mcache\u001b[49m\u001b[38;5;241;43m.\u001b[39;49m\u001b[43mdecompose_resid\u001b[49m\u001b[43m(\u001b[49m\n\u001b[1;32m      2\u001b[0m \u001b[43m    \u001b[49m\u001b[43mlayer\u001b[49m\u001b[38;5;241;43m=\u001b[39;49m\u001b[38;5;241;43m-\u001b[39;49m\u001b[38;5;241;43m1\u001b[39;49m\u001b[43m,\u001b[49m\u001b[43m \u001b[49m\u001b[43mapply_ln\u001b[49m\u001b[38;5;241;43m=\u001b[39;49m\u001b[38;5;28;43;01mTrue\u001b[39;49;00m\u001b[43m,\u001b[49m\u001b[43m \u001b[49m\u001b[43mreturn_labels\u001b[49m\u001b[38;5;241;43m=\u001b[39;49m\u001b[38;5;28;43;01mTrue\u001b[39;49;00m\n\u001b[1;32m      3\u001b[0m \u001b[43m)\u001b[49m\n\u001b[1;32m      5\u001b[0m \u001b[38;5;66;03m# Project each layer and each position onto vocab space\u001b[39;00m\n\u001b[1;32m      6\u001b[0m correct_dot \u001b[38;5;241m=\u001b[39m einsum(\u001b[38;5;124m\"\u001b[39m\u001b[38;5;124mlayer pos d_model, d_model --> layer pos\u001b[39m\u001b[38;5;124m\"\u001b[39m, decomposed_residual[:,prompt_num,:,:], model\u001b[38;5;241m.\u001b[39mW_U[:, answers_tokens\u001b[38;5;241m.\u001b[39mflatten()[prompt_num]])\n",
      "File \u001b[0;32m~/miniconda3/envs/fv/lib/python3.10/site-packages/transformer_lens/ActivationCache.py:666\u001b[0m, in \u001b[0;36mActivationCache.decompose_resid\u001b[0;34m(self, layer, mlp_input, mode, apply_ln, pos_slice, incl_embeds, return_labels)\u001b[0m\n\u001b[1;32m    664\u001b[0m     labels\u001b[38;5;241m.\u001b[39mappend(\u001b[38;5;124mf\u001b[39m\u001b[38;5;124m\"\u001b[39m\u001b[38;5;132;01m{\u001b[39;00mlayer\u001b[38;5;132;01m}\u001b[39;00m\u001b[38;5;124m_attn_out\u001b[39m\u001b[38;5;124m\"\u001b[39m)\n\u001b[1;32m    665\u001b[0m components \u001b[38;5;241m=\u001b[39m [pos_slice\u001b[38;5;241m.\u001b[39mapply(c, dim\u001b[38;5;241m=\u001b[39m\u001b[38;5;241m-\u001b[39m\u001b[38;5;241m2\u001b[39m) \u001b[38;5;28;01mfor\u001b[39;00m c \u001b[38;5;129;01min\u001b[39;00m components]\n\u001b[0;32m--> 666\u001b[0m components \u001b[38;5;241m=\u001b[39m \u001b[43mtorch\u001b[49m\u001b[38;5;241;43m.\u001b[39;49m\u001b[43mstack\u001b[49m\u001b[43m(\u001b[49m\u001b[43mcomponents\u001b[49m\u001b[43m,\u001b[49m\u001b[43m \u001b[49m\u001b[43mdim\u001b[49m\u001b[38;5;241;43m=\u001b[39;49m\u001b[38;5;241;43m0\u001b[39;49m\u001b[43m)\u001b[49m\n\u001b[1;32m    667\u001b[0m \u001b[38;5;28;01mif\u001b[39;00m apply_ln:\n\u001b[1;32m    668\u001b[0m     components \u001b[38;5;241m=\u001b[39m \u001b[38;5;28mself\u001b[39m\u001b[38;5;241m.\u001b[39mapply_ln_to_stack(\n\u001b[1;32m    669\u001b[0m         components, layer, pos_slice\u001b[38;5;241m=\u001b[39mpos_slice, mlp_input\u001b[38;5;241m=\u001b[39mmlp_input\n\u001b[1;32m    670\u001b[0m     )\n",
      "\u001b[0;31mOutOfMemoryError\u001b[0m: CUDA out of memory. Tried to allocate 3.31 GiB. GPU 0 has a total capacty of 44.35 GiB of which 1.05 GiB is free. Including non-PyTorch memory, this process has 43.28 GiB memory in use. Of the allocated memory 41.27 GiB is allocated by PyTorch, and 1.71 GiB is reserved by PyTorch but unallocated. If reserved but unallocated memory is large try setting max_split_size_mb to avoid fragmentation.  See documentation for Memory Management and PYTORCH_CUDA_ALLOC_CONF"
     ]
    }
   ],
   "source": [
    "decomposed_residual, labels = cache.decompose_resid(\n",
    "    layer=-1, apply_ln=True, return_labels=True\n",
    ")\n",
    "\n",
    "# Project each layer and each position onto vocab space\n",
    "correct_dot = einsum(\"layer pos d_model, d_model --> layer pos\", decomposed_residual[:,prompt_num,:,:], model.W_U[:, answers_tokens.flatten()[prompt_num]])\n",
    "\n",
    "\n",
    "line(\n",
    "    correct_dot[:, -1].flatten(),\n",
    "    hover_name=labels,\n",
    "    x=labels,\n",
    "    title=\"Component Contribution to Correct Answer Logit\",\n",
    ")"
   ]
  },
  {
   "cell_type": "markdown",
   "metadata": {},
   "source": [
    "# Get the specific components that contribute most"
   ]
  },
  {
   "cell_type": "code",
   "execution_count": null,
   "metadata": {
    "colab": {
     "base_uri": "https://localhost:8080/"
    },
    "id": "OQd_eWQgqLkY",
    "outputId": "de625d9f-d2a4-4cbd-df81-d29b0882694b"
   },
   "outputs": [
    {
     "name": "stdout",
     "output_type": "stream",
     "text": [
      "0 13_attn_out 2.1737051010131836\n",
      "1 17_attn_out 2.030968427658081\n",
      "2 21_mlp_out 1.8970786333084106\n",
      "3 20_mlp_out 1.6212023496627808\n",
      "4 16_mlp_out 1.5243083238601685\n",
      "5 15_attn_out 1.4860551357269287\n",
      "6 21_attn_out 1.4415091276168823\n",
      "7 19_mlp_out 1.3836383819580078\n",
      "8 14_attn_out 1.1006298065185547\n",
      "9 10_attn_out 0.9858373403549194\n"
     ]
    }
   ],
   "source": [
    "for i, x in enumerate(correct_dot[:,-1].topk(10).indices):\n",
    "   print(i, labels[x], correct_dot[x,-1].item())"
   ]
  },
  {
   "cell_type": "code",
   "execution_count": null,
   "metadata": {},
   "outputs": [
    {
     "data": {
      "image/png": "[encoded data removed]"
     },
     "metadata": {},
     "output_type": "display_data"
    }
   ],
   "source": [
    "# Get head residuals\n",
    "per_head_residual, labels = cache.stack_head_results(\n",
    "    layer=-1, pos_slice=-1, apply_ln=True, return_labels=True\n",
    ")\n",
    "\n",
    "# Get the dot product of these with correct answer token\n",
    "per_head_dot = einsum(\"head d_model, d_model -> head\", per_head_residual[:,prompt_num,:], model.W_U[:,answer_tokens.flatten()[prompt_num]])\n",
    "\n",
    "# Store top 10 heads\n",
    "top_heads = per_head_dot.topk(10).indices\n",
    "\n",
    "# Rearrange for plotting\\\n",
    "per_head_dot = einops.rearrange(\n",
    "    per_head_dot,\n",
    "    \"(layer head_index) -> layer head_index\",\n",
    "    layer=model.cfg.n_layers,\n",
    "    head_index=model.cfg.n_heads,\n",
    ")\n",
    "imshow(\n",
    "    per_head_dot,\n",
    "    labels={\"x\": \"Head\", \"y\": \"Layer\"},\n",
    "    title=\"Logit Difference From Each Head\",\n",
    ")"
   ]
  },
  {
   "cell_type": "code",
   "execution_count": null,
   "metadata": {},
   "outputs": [
    {
     "data": {
      "image/png": "[encoded data removed]"
     },
     "metadata": {},
     "output_type": "display_data"
    },
    {
     "name": "stdout",
     "output_type": "stream",
     "text": [
      "Layer 15, Head 5\n",
      "['<|endoftext|>', 'incre', 'ase', ':', 'dec', 're', 'ase', ',', ' good', ':', 'bad', ',', ' fast', ':']\n"
     ]
    },
    {
     "data": {
      "image/png": "[encoded data removed]"
     },
     "metadata": {},
     "output_type": "display_data"
    },
    {
     "name": "stdout",
     "output_type": "stream",
     "text": [
      "Layer 13, Head 2\n",
      "['<|endoftext|>', 'incre', 'ase', ':', 'dec', 're', 'ase', ',', ' good', ':', 'bad', ',', ' fast', ':']\n"
     ]
    },
    {
     "data": {
      "image/png": "[encoded data removed]"
     },
     "metadata": {},
     "output_type": "display_data"
    },
    {
     "name": "stdout",
     "output_type": "stream",
     "text": [
      "Layer 21, Head 0\n",
      "['<|endoftext|>', 'incre', 'ase', ':', 'dec', 're', 'ase', ',', ' good', ':', 'bad', ',', ' fast', ':']\n"
     ]
    },
    {
     "data": {
      "image/png": "[encoded data removed]"
     },
     "metadata": {},
     "output_type": "display_data"
    },
    {
     "name": "stdout",
     "output_type": "stream",
     "text": [
      "Layer 20, Head 11\n",
      "['<|endoftext|>', 'incre', 'ase', ':', 'dec', 're', 'ase', ',', ' good', ':', 'bad', ',', ' fast', ':']\n"
     ]
    },
    {
     "data": {
      "image/png": "[encoded data removed]"
     },
     "metadata": {},
     "output_type": "display_data"
    },
    {
     "name": "stdout",
     "output_type": "stream",
     "text": [
      "Layer 17, Head 1\n",
      "['<|endoftext|>', 'incre', 'ase', ':', 'dec', 're', 'ase', ',', ' good', ':', 'bad', ',', ' fast', ':']\n"
     ]
    },
    {
     "data": {
      "image/png": "[encoded data removed]"
     },
     "metadata": {},
     "output_type": "display_data"
    },
    {
     "name": "stdout",
     "output_type": "stream",
     "text": [
      "Layer 17, Head 2\n",
      "['<|endoftext|>', 'incre', 'ase', ':', 'dec', 're', 'ase', ',', ' good', ':', 'bad', ',', ' fast', ':']\n"
     ]
    },
    {
     "data": {
      "image/png": "[encoded data removed]"
     },
     "metadata": {},
     "output_type": "display_data"
    },
    {
     "name": "stdout",
     "output_type": "stream",
     "text": [
      "Layer 13, Head 12\n",
      "['<|endoftext|>', 'incre', 'ase', ':', 'dec', 're', 'ase', ',', ' good', ':', 'bad', ',', ' fast', ':']\n"
     ]
    },
    {
     "data": {
      "image/png": "[encoded data removed]"
     },
     "metadata": {},
     "output_type": "display_data"
    },
    {
     "name": "stdout",
     "output_type": "stream",
     "text": [
      "Layer 18, Head 1\n",
      "['<|endoftext|>', 'incre', 'ase', ':', 'dec', 're', 'ase', ',', ' good', ':', 'bad', ',', ' fast', ':']\n"
     ]
    },
    {
     "data": {
      "image/png": "[encoded data removed]"
     },
     "metadata": {},
     "output_type": "display_data"
    },
    {
     "name": "stdout",
     "output_type": "stream",
     "text": [
      "Layer 12, Head 15\n",
      "['<|endoftext|>', 'incre', 'ase', ':', 'dec', 're', 'ase', ',', ' good', ':', 'bad', ',', ' fast', ':']\n"
     ]
    },
    {
     "data": {
      "image/png": "[encoded data removed]"
     },
     "metadata": {},
     "output_type": "display_data"
    },
    {
     "name": "stdout",
     "output_type": "stream",
     "text": [
      "Layer 13, Head 3\n",
      "['<|endoftext|>', 'incre', 'ase', ':', 'dec', 're', 'ase', ',', ' good', ':', 'bad', ',', ' fast', ':']\n"
     ]
    }
   ],
   "source": [
    "for i in range(10):\n",
    "    layer = top_heads[i]//model.cfg.n_heads\n",
    "    index = top_heads[i]%model.cfg.n_heads\n",
    "    imshow(cache[f'blocks.{layer}.attn.hook_pattern'][prompt_num][index])\n",
    "    labels={\"x\": \"Head\", \"y\": \"Layer\"}\n",
    "    print(f\"Layer {layer}, Head {index}\")\n",
    "    print(model.to_str_tokens(tokens[prompt_num]))"
   ]
  },
  {
   "cell_type": "markdown",
   "metadata": {},
   "source": [
    "# Looking at the top MLPs"
   ]
  },
  {
   "cell_type": "code",
   "execution_count": null,
   "metadata": {},
   "outputs": [
    {
     "name": "stdout",
     "output_type": "stream",
     "text": [
      "['<|endoftext|>', 'incre', 'ase', ':', 'dec', 're', 'ase', ',', ' good', ':', 'bad', ',', ' fast', ':']\n",
      "__________16__________\n",
      "Neuron:  1643 Contribution:  3.348935842514038\n",
      "[' inability', ' insufficient', 'failed', ' ineffective', ' failed', ' failures', ' unable', ' lackluster', ' lacks', ' lose']\n",
      "Neuron:  591 Contribution:  2.997021436691284\n",
      "['National', 'Ent', 'Strong', 'Individual', 'Member', 'Hall', 'Elect', 'Church', 'Trans', 'Tax']\n",
      "Neuron:  2924 Contribution:  2.8960635662078857\n",
      "[' negatively', 'appropriately', ' cautiously', ' differently', ' creatively', ' responsibly', ' objectively', ' wisely', ' positively', ' offensively']\n",
      "Neuron:  486 Contribution:  2.8068737983703613\n",
      "[' ardu', ' tedious', ' painstaking', ' costly', 'intensive', 'expensive', ' labor', 'cost', ' exhausting', 'requires']\n",
      "Neuron:  3524 Contribution:  2.6780171394348145\n",
      "['_', '@', 'kid', 'boss', 'Mex', 'Mc', 'oft', '1992', 'Dr', '1986']\n",
      "Neuron:  3950 Contribution:  2.586076498031616\n",
      "['prem', 'dec', 'positive', 'custom', 'educ', 'matter', 'those', 'imm', 'prov', 'obs']\n",
      "Neuron:  2634 Contribution:  2.1820485591888428\n",
      "['gener', 'del', 'prom', 'changed', 'sn', 'kind', 'supported', 'concept', 'default', 'classified']\n",
      "Neuron:  2850 Contribution:  2.1238763332366943\n",
      "['Rated', 'span', 'Steam', 'leaf', '00200000', 'north', 'Cold', 'Spr', 'Ban', 'spl']\n",
      "Neuron:  507 Contribution:  2.121302604675293\n",
      "['meet', 'cle', 'physical', '�', 'conserv', 'forward', 'pres', 'Physical', 'uria', 'mens']\n",
      "Neuron:  2296 Contribution:  2.0238616466522217\n",
      "['Pokémon', ' pokemon', ' Poké', 'Poké', ' EVs', ' Pokémon', 'Magikarp', 'oké', 'Pokemon', 'lvl']\n",
      "__________20__________\n",
      "Neuron:  2352 Contribution:  4.958651065826416\n",
      "['specific', 'carry', 'great', 'turned', 'straight', 'first', 'large', 'dep', 'prem', 'susp']\n",
      "Neuron:  370 Contribution:  4.913480758666992\n",
      "['H', 'O', 'B', 'W', 'w', 'K', 'J', 'X', 'V', 'F']\n",
      "Neuron:  1211 Contribution:  4.157751560211182\n",
      "['advertising', 'Advertisement', 'Spoiler', 'favorite', 'Premium', 'Advertisements', 'Contribut', 'Offline', 'Cert', 'advertisement']\n",
      "Neuron:  2951 Contribution:  3.7721269130706787\n",
      "['fast', ' fast', 'hot', 'high', 'low', 'big', ' quick', ' Fast', 'Slow', ' HIGH']\n",
      "Neuron:  2376 Contribution:  3.008261203765869\n",
      "[' careful', ' keen', ' intense', ' steady', ' accurate', ' rigorous', ' sturdy', ' robust', ' speedy', ' thorough']\n",
      "Neuron:  1960 Contribution:  2.8091371059417725\n",
      "['pull', 'properties', 'analy', 'selected', 'input', 'iframe', 'annot', 'pattern', 'gradient', 'method']\n",
      "Neuron:  2579 Contribution:  2.659097909927368\n",
      "['ts', 'sw', 'y', 'product', 'dh', 'sche', 'meal', 'sen', 'tem', 'nation']\n",
      "Neuron:  2867 Contribution:  2.627462863922119\n",
      "['merce', 'Austral', 'ombo', 'orth', 'verty', 'ELD', 'ovi', 'itzer', 'onder', 'chio']\n",
      "Neuron:  1310 Contribution:  2.452979564666748\n",
      "['over', 'tg', 'ride', 'OTUS', 'oliath', 'rail', 'anting', 'zee', 'court', 'chell']\n",
      "Neuron:  1448 Contribution:  2.443237543106079\n",
      "['2016', 'Family', '2017', '2014', '2013', '2018', 'Reply', 'Death', 'Important', 'Chall']\n",
      "__________21__________\n",
      "Neuron:  868 Contribution:  5.240795135498047\n",
      "['s', 'a', 'inventory', 'gar', 'source', 'some', 'sky', 'save', 'code', 'new']\n",
      "Neuron:  3758 Contribution:  4.281700611114502\n",
      "['Austral', 'Statistics', 'Spanish', 'Franc', 'Emb', 'Fel', 'Liverpool', 'Against', 'Rober', 'Redd']\n",
      "Neuron:  238 Contribution:  3.5610594749450684\n",
      "['¯¯¯¯', '¯¯', ' 神', ' CHR', ' 4090', 'gest', 'older', '¯', '*=-', ' DRAGON']\n",
      "Neuron:  2765 Contribution:  3.310861587524414\n",
      "['rim', 'sc', 'sh', 'sy', 'sw', 'qu', 'n', 'op', 'ew', 'ker']\n",
      "Neuron:  2096 Contribution:  2.9358842372894287\n",
      "['vor', 'cher', 'lock', 'l', 'c', 'nor', 'nel', 'rans', 'ched', 'cs']\n",
      "Neuron:  3876 Contribution:  2.5708935260772705\n",
      "['CO', 'Kal', 'ajor', 'pace', 'Kn', 'rogen', 'Dynamic', 'BRE', 'ELF', 'overe']\n",
      "Neuron:  2962 Contribution:  2.530151128768921\n",
      "['ESE', 'CHO', 'CHA', 'uj', 'GR', 'dj', 'ARCH', 'ends', 'dark', ' Hayden']\n",
      "Neuron:  4006 Contribution:  2.5003886222839355\n",
      "['paralle', 'cest', ' suspic', 'sing', ' Situation', 'uay', 'National', 'turn', 'secure', 'Campaign']\n",
      "Neuron:  3714 Contribution:  2.496466875076294\n",
      "['osh', 'iel', 'ona', 'avis', 'ora', 'oh', 'ovan', 'rod', 'ius', 'orio']\n",
      "Neuron:  1705 Contribution:  2.4806811809539795\n",
      "[' aug', 'croft', ' veter', 'Uncommon', '�', 'tons', ' Agric', '50', 'imedia', 'icably']\n"
     ]
    }
   ],
   "source": [
    "# Print the prompt\n",
    "print(model.to_str_tokens(tokens[prompt_num]))\n",
    "\n",
    "# Taken from figure\n",
    "top_mlp_layers = [16, 20, 21]\n",
    "\n",
    "# Iterate over top contributing MLP Layers\n",
    "for layer in top_mlp_layers:\n",
    "    # For each layer, get the top contributing neurons\n",
    "    neuron_contr = einsum('d_mlp d_model, d_model -> d_mlp', model.blocks[layer].mlp.W_out.detach(), model.W_U[:,answer_tokens.flatten()[prompt_num]])\n",
    "    top_neurons = neuron_contr.topk(10).indices\n",
    "\n",
    "    # Project the top contributing neurons onto the vocab space\n",
    "    projected_val = einsum('top d_model, d_model d_vocab-> top d_vocab', model.blocks[layer].mlp.W_out[top_neurons, :].detach(), model.W_U)\n",
    "\n",
    "    print(f\"__________{layer}__________\")\n",
    "    for x in range(10):\n",
    "        # Print the vocab projection of the top contributing neurons\n",
    "        print(\"Neuron: \", top_neurons[x].item(), \"Contribution: \",neuron_contr[top_neurons[x]].item())\n",
    "        print(model.to_str_tokens(projected_val[x, :].topk(10).indices))\n",
    "              "
   ]
  },
  {
   "cell_type": "markdown",
   "metadata": {},
   "source": [
    "# Looking at Function Vectors Causal Impact"
   ]
  },
  {
   "cell_type": "code",
   "execution_count": null,
   "metadata": {},
   "outputs": [],
   "source": [
    "# Zero shot prompt\n",
    "prompt = \"increase:\"\n",
    "\n",
    "# Retrieve Function Vectors\n",
    "FV = np.load(\"Antonym_FV.npy\", allow_pickle=True)\n",
    "\n",
    "# Find the layer of most impact\n"
   ]
  },
  {
   "cell_type": "code",
   "execution_count": null,
   "metadata": {},
   "outputs": [],
   "source": [
    "# "
   ]
  }
 ],
 "metadata": {
  "accelerator": "GPU",
  "colab": {
   "collapsed_sections": [
    "P5a-Ozy8sMeM",
    "0vBxb7D4s73R",
    "qkM_mnKpSv09"
   ],
   "provenance": []
  },
  "gpuClass": "standard",
  "kernelspec": {
   "display_name": "fv",
   "language": "python",
   "name": "fv"
  },
  "language_info": {
   "codemirror_mode": {
    "name": "ipython",
    "version": 3
   },
   "file_extension": ".py",
   "mimetype": "text/x-python",
   "name": "python",
   "nbconvert_exporter": "python",
   "pygments_lexer": "ipython3",
   "version": "3.10.13"
  },
  "widgets": {
   "application/vnd.jupyter.widget-state+json": {
    "011f9dc606734b4e85930977cc566caa": {
     "model_module": "@jupyter-widgets/controls",
     "model_module_version": "1.5.0",
     "model_name": "DescriptionStyleModel",
     "state": {
      "_model_module": "@jupyter-widgets/controls",
      "_model_module_version": "1.5.0",
      "_model_name": "DescriptionStyleModel",
      "_view_count": null,
      "_view_module": "@jupyter-widgets/base",
      "_view_module_version": "1.2.0",
      "_view_name": "StyleView",
      "description_width": ""
     }
    },
    "0357de1638b04191b741d68b91d22716": {
     "model_module": "@jupyter-widgets/controls",
     "model_module_version": "1.5.0",
     "model_name": "FloatProgressModel",
     "state": {
      "_dom_classes": [],
      "_model_module": "@jupyter-widgets/controls",
      "_model_module_version": "1.5.0",
      "_model_name": "FloatProgressModel",
      "_view_count": null,
      "_view_module": "@jupyter-widgets/controls",
      "_view_module_version": "1.5.0",
      "_view_name": "ProgressView",
      "bar_style": "success",
      "description": "",
      "description_tooltip": null,
      "layout": "IPY_MODEL_8481548a099b418eb75c2a58bf1c0392",
      "max": 1519984962,
      "min": 0,
      "orientation": "horizontal",
      "style": "IPY_MODEL_697e7b22a2874a509b8c4f8a28adfe6d",
      "value": 1519984962
     }
    },
    "0b25769b5a434e11929070628db95c85": {
     "model_module": "@jupyter-widgets/base",
     "model_module_version": "1.2.0",
     "model_name": "LayoutModel",
     "state": {
      "_model_module": "@jupyter-widgets/base",
      "_model_module_version": "1.2.0",
      "_model_name": "LayoutModel",
      "_view_count": null,
      "_view_module": "@jupyter-widgets/base",
      "_view_module_version": "1.2.0",
      "_view_name": "LayoutView",
      "align_content": null,
      "align_items": null,
      "align_self": null,
      "border": null,
      "bottom": null,
      "display": null,
      "flex": null,
      "flex_flow": null,
      "grid_area": null,
      "grid_auto_columns": null,
      "grid_auto_flow": null,
      "grid_auto_rows": null,
      "grid_column": null,
      "grid_gap": null,
      "grid_row": null,
      "grid_template_areas": null,
      "grid_template_columns": null,
      "grid_template_rows": null,
      "height": null,
      "justify_content": null,
      "justify_items": null,
      "left": null,
      "margin": null,
      "max_height": null,
      "max_width": null,
      "min_height": null,
      "min_width": null,
      "object_fit": null,
      "object_position": null,
      "order": null,
      "overflow": null,
      "overflow_x": null,
      "overflow_y": null,
      "padding": null,
      "right": null,
      "top": null,
      "visibility": null,
      "width": null
     }
    },
    "0b88ca6bae95407fa037749e9158f14a": {
     "model_module": "@jupyter-widgets/base",
     "model_module_version": "1.2.0",
     "model_name": "LayoutModel",
     "state": {
      "_model_module": "@jupyter-widgets/base",
      "_model_module_version": "1.2.0",
      "_model_name": "LayoutModel",
      "_view_count": null,
      "_view_module": "@jupyter-widgets/base",
      "_view_module_version": "1.2.0",
      "_view_name": "LayoutView",
      "align_content": null,
      "align_items": null,
      "align_self": null,
      "border": null,
      "bottom": null,
      "display": null,
      "flex": null,
      "flex_flow": null,
      "grid_area": null,
      "grid_auto_columns": null,
      "grid_auto_flow": null,
      "grid_auto_rows": null,
      "grid_column": null,
      "grid_gap": null,
      "grid_row": null,
      "grid_template_areas": null,
      "grid_template_columns": null,
      "grid_template_rows": null,
      "height": null,
      "justify_content": null,
      "justify_items": null,
      "left": null,
      "margin": null,
      "max_height": null,
      "max_width": null,
      "min_height": null,
      "min_width": null,
      "object_fit": null,
      "object_position": null,
      "order": null,
      "overflow": null,
      "overflow_x": null,
      "overflow_y": null,
      "padding": null,
      "right": null,
      "top": null,
      "visibility": null,
      "width": null
     }
    },
    "0e3dd9b014904695bd80bdc5725b4281": {
     "model_module": "@jupyter-widgets/base",
     "model_module_version": "1.2.0",
     "model_name": "LayoutModel",
     "state": {
      "_model_module": "@jupyter-widgets/base",
      "_model_module_version": "1.2.0",
      "_model_name": "LayoutModel",
      "_view_count": null,
      "_view_module": "@jupyter-widgets/base",
      "_view_module_version": "1.2.0",
      "_view_name": "LayoutView",
      "align_content": null,
      "align_items": null,
      "align_self": null,
      "border": null,
      "bottom": null,
      "display": null,
      "flex": null,
      "flex_flow": null,
      "grid_area": null,
      "grid_auto_columns": null,
      "grid_auto_flow": null,
      "grid_auto_rows": null,
      "grid_column": null,
      "grid_gap": null,
      "grid_row": null,
      "grid_template_areas": null,
      "grid_template_columns": null,
      "grid_template_rows": null,
      "height": null,
      "justify_content": null,
      "justify_items": null,
      "left": null,
      "margin": null,
      "max_height": null,
      "max_width": null,
      "min_height": null,
      "min_width": null,
      "object_fit": null,
      "object_position": null,
      "order": null,
      "overflow": null,
      "overflow_x": null,
      "overflow_y": null,
      "padding": null,
      "right": null,
      "top": null,
      "visibility": null,
      "width": null
     }
    },
    "135bd910db8343b098434946aca60ba6": {
     "model_module": "@jupyter-widgets/base",
     "model_module_version": "1.2.0",
     "model_name": "LayoutModel",
     "state": {
      "_model_module": "@jupyter-widgets/base",
      "_model_module_version": "1.2.0",
      "_model_name": "LayoutModel",
      "_view_count": null,
      "_view_module": "@jupyter-widgets/base",
      "_view_module_version": "1.2.0",
      "_view_name": "LayoutView",
      "align_content": null,
      "align_items": null,
      "align_self": null,
      "border": null,
      "bottom": null,
      "display": null,
      "flex": null,
      "flex_flow": null,
      "grid_area": null,
      "grid_auto_columns": null,
      "grid_auto_flow": null,
      "grid_auto_rows": null,
      "grid_column": null,
      "grid_gap": null,
      "grid_row": null,
      "grid_template_areas": null,
      "grid_template_columns": null,
      "grid_template_rows": null,
      "height": null,
      "justify_content": null,
      "justify_items": null,
      "left": null,
      "margin": null,
      "max_height": null,
      "max_width": null,
      "min_height": null,
      "min_width": null,
      "object_fit": null,
      "object_position": null,
      "order": null,
      "overflow": null,
      "overflow_x": null,
      "overflow_y": null,
      "padding": null,
      "right": null,
      "top": null,
      "visibility": null,
      "width": null
     }
    },
    "13cf927cd283441281976fef17f324c6": {
     "model_module": "@jupyter-widgets/controls",
     "model_module_version": "1.5.0",
     "model_name": "HTMLModel",
     "state": {
      "_dom_classes": [],
      "_model_module": "@jupyter-widgets/controls",
      "_model_module_version": "1.5.0",
      "_model_name": "HTMLModel",
      "_view_count": null,
      "_view_module": "@jupyter-widgets/controls",
      "_view_module_version": "1.5.0",
      "_view_name": "HTMLView",
      "description": "",
      "description_tooltip": null,
      "layout": "IPY_MODEL_d060b1abad764e35a04a07cf436ffc11",
      "placeholder": "​",
      "style": "IPY_MODEL_011f9dc606734b4e85930977cc566caa",
      "value": "Downloading model.safetensors: 100%"
     }
    },
    "1e82faf434d4408e9fe0e999f192a907": {
     "model_module": "@jupyter-widgets/base",
     "model_module_version": "1.2.0",
     "model_name": "LayoutModel",
     "state": {
      "_model_module": "@jupyter-widgets/base",
      "_model_module_version": "1.2.0",
      "_model_name": "LayoutModel",
      "_view_count": null,
      "_view_module": "@jupyter-widgets/base",
      "_view_module_version": "1.2.0",
      "_view_name": "LayoutView",
      "align_content": null,
      "align_items": null,
      "align_self": null,
      "border": null,
      "bottom": null,
      "display": null,
      "flex": null,
      "flex_flow": null,
      "grid_area": null,
      "grid_auto_columns": null,
      "grid_auto_flow": null,
      "grid_auto_rows": null,
      "grid_column": null,
      "grid_gap": null,
      "grid_row": null,
      "grid_template_areas": null,
      "grid_template_columns": null,
      "grid_template_rows": null,
      "height": null,
      "justify_content": null,
      "justify_items": null,
      "left": null,
      "margin": null,
      "max_height": null,
      "max_width": null,
      "min_height": null,
      "min_width": null,
      "object_fit": null,
      "object_position": null,
      "order": null,
      "overflow": null,
      "overflow_x": null,
      "overflow_y": null,
      "padding": null,
      "right": null,
      "top": null,
      "visibility": null,
      "width": null
     }
    },
    "247b5009504a4b078ee592e4431cc5cc": {
     "model_module": "@jupyter-widgets/controls",
     "model_module_version": "1.5.0",
     "model_name": "HBoxModel",
     "state": {
      "_dom_classes": [],
      "_model_module": "@jupyter-widgets/controls",
      "_model_module_version": "1.5.0",
      "_model_name": "HBoxModel",
      "_view_count": null,
      "_view_module": "@jupyter-widgets/controls",
      "_view_module_version": "1.5.0",
      "_view_name": "HBoxView",
      "box_style": "",
      "children": [
       "IPY_MODEL_13cf927cd283441281976fef17f324c6",
       "IPY_MODEL_0357de1638b04191b741d68b91d22716",
       "IPY_MODEL_f6dfc55099e94f8bbdb3c2efcdea1fb7"
      ],
      "layout": "IPY_MODEL_6b3bfd58ebaf4582a4f203eebbef28c2"
     }
    },
    "26bfde2260dd4d12b6c2ecf7043859bf": {
     "model_module": "@jupyter-widgets/controls",
     "model_module_version": "1.5.0",
     "model_name": "FloatProgressModel",
     "state": {
      "_dom_classes": [],
      "_model_module": "@jupyter-widgets/controls",
      "_model_module_version": "1.5.0",
      "_model_name": "FloatProgressModel",
      "_view_count": null,
      "_view_module": "@jupyter-widgets/controls",
      "_view_module_version": "1.5.0",
      "_view_name": "ProgressView",
      "bar_style": "success",
      "description": "",
      "description_tooltip": null,
      "layout": "IPY_MODEL_4e1932fcfe5c48eca76ab685e50cd758",
      "max": 456318,
      "min": 0,
      "orientation": "horizontal",
      "style": "IPY_MODEL_ce7a89c45712483eabdfd726e97b71c5",
      "value": 456318
     }
    },
    "2ad2a0ff6006407283d0648bb82062c6": {
     "model_module": "@jupyter-widgets/controls",
     "model_module_version": "1.5.0",
     "model_name": "HTMLModel",
     "state": {
      "_dom_classes": [],
      "_model_module": "@jupyter-widgets/controls",
      "_model_module_version": "1.5.0",
      "_model_name": "HTMLModel",
      "_view_count": null,
      "_view_module": "@jupyter-widgets/controls",
      "_view_module_version": "1.5.0",
      "_view_name": "HTMLView",
      "description": "",
      "description_tooltip": null,
      "layout": "IPY_MODEL_1e82faf434d4408e9fe0e999f192a907",
      "placeholder": "​",
      "style": "IPY_MODEL_94215200942f4917a399699009c77e81",
      "value": " 1.04M/1.04M [00:00&lt;00:00, 6.39MB/s]"
     }
    },
    "2b578b058aff403087bd91a7cd880f17": {
     "model_module": "@jupyter-widgets/controls",
     "model_module_version": "1.5.0",
     "model_name": "HTMLModel",
     "state": {
      "_dom_classes": [],
      "_model_module": "@jupyter-widgets/controls",
      "_model_module_version": "1.5.0",
      "_model_name": "HTMLModel",
      "_view_count": null,
      "_view_module": "@jupyter-widgets/controls",
      "_view_module_version": "1.5.0",
      "_view_name": "HTMLView",
      "description": "",
      "description_tooltip": null,
      "layout": "IPY_MODEL_d0f58bd18a124c628a1333d087c07f32",
      "placeholder": "​",
      "style": "IPY_MODEL_827561765d7d449d88e4e081f29ecf94",
      "value": " 1.36M/1.36M [00:00&lt;00:00, 24.3MB/s]"
     }
    },
    "2b9a40748c8d4db3b95ff1ee8a9c6997": {
     "model_module": "@jupyter-widgets/controls",
     "model_module_version": "1.5.0",
     "model_name": "DescriptionStyleModel",
     "state": {
      "_model_module": "@jupyter-widgets/controls",
      "_model_module_version": "1.5.0",
      "_model_name": "DescriptionStyleModel",
      "_view_count": null,
      "_view_module": "@jupyter-widgets/base",
      "_view_module_version": "1.2.0",
      "_view_name": "StyleView",
      "description_width": ""
     }
    },
    "2fd09874949c47a79c624b1074ae70ae": {
     "model_module": "@jupyter-widgets/controls",
     "model_module_version": "1.5.0",
     "model_name": "FloatProgressModel",
     "state": {
      "_dom_classes": [],
      "_model_module": "@jupyter-widgets/controls",
      "_model_module_version": "1.5.0",
      "_model_name": "FloatProgressModel",
      "_view_count": null,
      "_view_module": "@jupyter-widgets/controls",
      "_view_module_version": "1.5.0",
      "_view_name": "ProgressView",
      "bar_style": "success",
      "description": "",
      "description_tooltip": null,
      "layout": "IPY_MODEL_0b25769b5a434e11929070628db95c85",
      "max": 718,
      "min": 0,
      "orientation": "horizontal",
      "style": "IPY_MODEL_eca4427e45124269b9ef9897dc030f1f",
      "value": 718
     }
    },
    "310484fc73294461a648893684bcc83f": {
     "model_module": "@jupyter-widgets/base",
     "model_module_version": "1.2.0",
     "model_name": "LayoutModel",
     "state": {
      "_model_module": "@jupyter-widgets/base",
      "_model_module_version": "1.2.0",
      "_model_name": "LayoutModel",
      "_view_count": null,
      "_view_module": "@jupyter-widgets/base",
      "_view_module_version": "1.2.0",
      "_view_name": "LayoutView",
      "align_content": null,
      "align_items": null,
      "align_self": null,
      "border": null,
      "bottom": null,
      "display": null,
      "flex": null,
      "flex_flow": null,
      "grid_area": null,
      "grid_auto_columns": null,
      "grid_auto_flow": null,
      "grid_auto_rows": null,
      "grid_column": null,
      "grid_gap": null,
      "grid_row": null,
      "grid_template_areas": null,
      "grid_template_columns": null,
      "grid_template_rows": null,
      "height": null,
      "justify_content": null,
      "justify_items": null,
      "left": null,
      "margin": null,
      "max_height": null,
      "max_width": null,
      "min_height": null,
      "min_width": null,
      "object_fit": null,
      "object_position": null,
      "order": null,
      "overflow": null,
      "overflow_x": null,
      "overflow_y": null,
      "padding": null,
      "right": null,
      "top": null,
      "visibility": null,
      "width": null
     }
    },
    "414c8705b70b49d6a185dc571f194a6f": {
     "model_module": "@jupyter-widgets/controls",
     "model_module_version": "1.5.0",
     "model_name": "DescriptionStyleModel",
     "state": {
      "_model_module": "@jupyter-widgets/controls",
      "_model_module_version": "1.5.0",
      "_model_name": "DescriptionStyleModel",
      "_view_count": null,
      "_view_module": "@jupyter-widgets/base",
      "_view_module_version": "1.2.0",
      "_view_name": "StyleView",
      "description_width": ""
     }
    },
    "44a8057aed0f4582ba4da9e21627a64e": {
     "model_module": "@jupyter-widgets/controls",
     "model_module_version": "1.5.0",
     "model_name": "DescriptionStyleModel",
     "state": {
      "_model_module": "@jupyter-widgets/controls",
      "_model_module_version": "1.5.0",
      "_model_name": "DescriptionStyleModel",
      "_view_count": null,
      "_view_module": "@jupyter-widgets/base",
      "_view_module_version": "1.2.0",
      "_view_name": "StyleView",
      "description_width": ""
     }
    },
    "4cd9ab6b5c614035b29efb04d9b9d71b": {
     "model_module": "@jupyter-widgets/controls",
     "model_module_version": "1.5.0",
     "model_name": "HBoxModel",
     "state": {
      "_dom_classes": [],
      "_model_module": "@jupyter-widgets/controls",
      "_model_module_version": "1.5.0",
      "_model_name": "HBoxModel",
      "_view_count": null,
      "_view_module": "@jupyter-widgets/controls",
      "_view_module_version": "1.5.0",
      "_view_name": "HBoxView",
      "box_style": "",
      "children": [
       "IPY_MODEL_707af47d24814cda92254bc0d5b0829d",
       "IPY_MODEL_2fd09874949c47a79c624b1074ae70ae",
       "IPY_MODEL_76293d449e3d4079afe8cbb61b557f1c"
      ],
      "layout": "IPY_MODEL_e62fc02601724750b6a03cab763a3547"
     }
    },
    "4e1932fcfe5c48eca76ab685e50cd758": {
     "model_module": "@jupyter-widgets/base",
     "model_module_version": "1.2.0",
     "model_name": "LayoutModel",
     "state": {
      "_model_module": "@jupyter-widgets/base",
      "_model_module_version": "1.2.0",
      "_model_name": "LayoutModel",
      "_view_count": null,
      "_view_module": "@jupyter-widgets/base",
      "_view_module_version": "1.2.0",
      "_view_name": "LayoutView",
      "align_content": null,
      "align_items": null,
      "align_self": null,
      "border": null,
      "bottom": null,
      "display": null,
      "flex": null,
      "flex_flow": null,
      "grid_area": null,
      "grid_auto_columns": null,
      "grid_auto_flow": null,
      "grid_auto_rows": null,
      "grid_column": null,
      "grid_gap": null,
      "grid_row": null,
      "grid_template_areas": null,
      "grid_template_columns": null,
      "grid_template_rows": null,
      "height": null,
      "justify_content": null,
      "justify_items": null,
      "left": null,
      "margin": null,
      "max_height": null,
      "max_width": null,
      "min_height": null,
      "min_width": null,
      "object_fit": null,
      "object_position": null,
      "order": null,
      "overflow": null,
      "overflow_x": null,
      "overflow_y": null,
      "padding": null,
      "right": null,
      "top": null,
      "visibility": null,
      "width": null
     }
    },
    "5203fd81d8714f2eb2381ff0107d90fd": {
     "model_module": "@jupyter-widgets/controls",
     "model_module_version": "1.5.0",
     "model_name": "HBoxModel",
     "state": {
      "_dom_classes": [],
      "_model_module": "@jupyter-widgets/controls",
      "_model_module_version": "1.5.0",
      "_model_name": "HBoxModel",
      "_view_count": null,
      "_view_module": "@jupyter-widgets/controls",
      "_view_module_version": "1.5.0",
      "_view_name": "HBoxView",
      "box_style": "",
      "children": [
       "IPY_MODEL_9686d51a82b24193ab6613faa05ca399",
       "IPY_MODEL_b2b282ae9a5440ebac487bfcfb6337f4",
       "IPY_MODEL_2ad2a0ff6006407283d0648bb82062c6"
      ],
      "layout": "IPY_MODEL_0e3dd9b014904695bd80bdc5725b4281"
     }
    },
    "59a0ec026e2f4c38bd465cc698dc7558": {
     "model_module": "@jupyter-widgets/base",
     "model_module_version": "1.2.0",
     "model_name": "LayoutModel",
     "state": {
      "_model_module": "@jupyter-widgets/base",
      "_model_module_version": "1.2.0",
      "_model_name": "LayoutModel",
      "_view_count": null,
      "_view_module": "@jupyter-widgets/base",
      "_view_module_version": "1.2.0",
      "_view_name": "LayoutView",
      "align_content": null,
      "align_items": null,
      "align_self": null,
      "border": null,
      "bottom": null,
      "display": null,
      "flex": null,
      "flex_flow": null,
      "grid_area": null,
      "grid_auto_columns": null,
      "grid_auto_flow": null,
      "grid_auto_rows": null,
      "grid_column": null,
      "grid_gap": null,
      "grid_row": null,
      "grid_template_areas": null,
      "grid_template_columns": null,
      "grid_template_rows": null,
      "height": null,
      "justify_content": null,
      "justify_items": null,
      "left": null,
      "margin": null,
      "max_height": null,
      "max_width": null,
      "min_height": null,
      "min_width": null,
      "object_fit": null,
      "object_position": null,
      "order": null,
      "overflow": null,
      "overflow_x": null,
      "overflow_y": null,
      "padding": null,
      "right": null,
      "top": null,
      "visibility": null,
      "width": null
     }
    },
    "5dade36200974c67bf850860f63da08d": {
     "model_module": "@jupyter-widgets/controls",
     "model_module_version": "1.5.0",
     "model_name": "FloatProgressModel",
     "state": {
      "_dom_classes": [],
      "_model_module": "@jupyter-widgets/controls",
      "_model_module_version": "1.5.0",
      "_model_name": "FloatProgressModel",
      "_view_count": null,
      "_view_module": "@jupyter-widgets/controls",
      "_view_module_version": "1.5.0",
      "_view_name": "ProgressView",
      "bar_style": "success",
      "description": "",
      "description_tooltip": null,
      "layout": "IPY_MODEL_710eeac0715441aaaa4eeecafadee09b",
      "max": 1355256,
      "min": 0,
      "orientation": "horizontal",
      "style": "IPY_MODEL_7b61089478354ca1b107cf52e14fe3f4",
      "value": 1355256
     }
    },
    "60b59cb0e02c425fa9a3c8797d3e7737": {
     "model_module": "@jupyter-widgets/base",
     "model_module_version": "1.2.0",
     "model_name": "LayoutModel",
     "state": {
      "_model_module": "@jupyter-widgets/base",
      "_model_module_version": "1.2.0",
      "_model_name": "LayoutModel",
      "_view_count": null,
      "_view_module": "@jupyter-widgets/base",
      "_view_module_version": "1.2.0",
      "_view_name": "LayoutView",
      "align_content": null,
      "align_items": null,
      "align_self": null,
      "border": null,
      "bottom": null,
      "display": null,
      "flex": null,
      "flex_flow": null,
      "grid_area": null,
      "grid_auto_columns": null,
      "grid_auto_flow": null,
      "grid_auto_rows": null,
      "grid_column": null,
      "grid_gap": null,
      "grid_row": null,
      "grid_template_areas": null,
      "grid_template_columns": null,
      "grid_template_rows": null,
      "height": null,
      "justify_content": null,
      "justify_items": null,
      "left": null,
      "margin": null,
      "max_height": null,
      "max_width": null,
      "min_height": null,
      "min_width": null,
      "object_fit": null,
      "object_position": null,
      "order": null,
      "overflow": null,
      "overflow_x": null,
      "overflow_y": null,
      "padding": null,
      "right": null,
      "top": null,
      "visibility": null,
      "width": null
     }
    },
    "61ab21f5d60c4c2092341ff865955e0e": {
     "model_module": "@jupyter-widgets/base",
     "model_module_version": "1.2.0",
     "model_name": "LayoutModel",
     "state": {
      "_model_module": "@jupyter-widgets/base",
      "_model_module_version": "1.2.0",
      "_model_name": "LayoutModel",
      "_view_count": null,
      "_view_module": "@jupyter-widgets/base",
      "_view_module_version": "1.2.0",
      "_view_name": "LayoutView",
      "align_content": null,
      "align_items": null,
      "align_self": null,
      "border": null,
      "bottom": null,
      "display": null,
      "flex": null,
      "flex_flow": null,
      "grid_area": null,
      "grid_auto_columns": null,
      "grid_auto_flow": null,
      "grid_auto_rows": null,
      "grid_column": null,
      "grid_gap": null,
      "grid_row": null,
      "grid_template_areas": null,
      "grid_template_columns": null,
      "grid_template_rows": null,
      "height": null,
      "justify_content": null,
      "justify_items": null,
      "left": null,
      "margin": null,
      "max_height": null,
      "max_width": null,
      "min_height": null,
      "min_width": null,
      "object_fit": null,
      "object_position": null,
      "order": null,
      "overflow": null,
      "overflow_x": null,
      "overflow_y": null,
      "padding": null,
      "right": null,
      "top": null,
      "visibility": null,
      "width": null
     }
    },
    "66a2157629b941a7a7d5cbd25a780047": {
     "model_module": "@jupyter-widgets/controls",
     "model_module_version": "1.5.0",
     "model_name": "HBoxModel",
     "state": {
      "_dom_classes": [],
      "_model_module": "@jupyter-widgets/controls",
      "_model_module_version": "1.5.0",
      "_model_name": "HBoxModel",
      "_view_count": null,
      "_view_module": "@jupyter-widgets/controls",
      "_view_module_version": "1.5.0",
      "_view_name": "HBoxView",
      "box_style": "",
      "children": [
       "IPY_MODEL_80b566f67f6140fdaf35fc37444e3244",
       "IPY_MODEL_26bfde2260dd4d12b6c2ecf7043859bf",
       "IPY_MODEL_ea97603c635744e4a43d44f22738925a"
      ],
      "layout": "IPY_MODEL_caac66d653ba4569a93a99ed2d81dea3"
     }
    },
    "686b3d98c9fd4f77b5bd1f29acd328c7": {
     "model_module": "@jupyter-widgets/controls",
     "model_module_version": "1.5.0",
     "model_name": "DescriptionStyleModel",
     "state": {
      "_model_module": "@jupyter-widgets/controls",
      "_model_module_version": "1.5.0",
      "_model_name": "DescriptionStyleModel",
      "_view_count": null,
      "_view_module": "@jupyter-widgets/base",
      "_view_module_version": "1.2.0",
      "_view_name": "StyleView",
      "description_width": ""
     }
    },
    "697e7b22a2874a509b8c4f8a28adfe6d": {
     "model_module": "@jupyter-widgets/controls",
     "model_module_version": "1.5.0",
     "model_name": "ProgressStyleModel",
     "state": {
      "_model_module": "@jupyter-widgets/controls",
      "_model_module_version": "1.5.0",
      "_model_name": "ProgressStyleModel",
      "_view_count": null,
      "_view_module": "@jupyter-widgets/base",
      "_view_module_version": "1.2.0",
      "_view_name": "StyleView",
      "bar_color": null,
      "description_width": ""
     }
    },
    "6b3bfd58ebaf4582a4f203eebbef28c2": {
     "model_module": "@jupyter-widgets/base",
     "model_module_version": "1.2.0",
     "model_name": "LayoutModel",
     "state": {
      "_model_module": "@jupyter-widgets/base",
      "_model_module_version": "1.2.0",
      "_model_name": "LayoutModel",
      "_view_count": null,
      "_view_module": "@jupyter-widgets/base",
      "_view_module_version": "1.2.0",
      "_view_name": "LayoutView",
      "align_content": null,
      "align_items": null,
      "align_self": null,
      "border": null,
      "bottom": null,
      "display": null,
      "flex": null,
      "flex_flow": null,
      "grid_area": null,
      "grid_auto_columns": null,
      "grid_auto_flow": null,
      "grid_auto_rows": null,
      "grid_column": null,
      "grid_gap": null,
      "grid_row": null,
      "grid_template_areas": null,
      "grid_template_columns": null,
      "grid_template_rows": null,
      "height": null,
      "justify_content": null,
      "justify_items": null,
      "left": null,
      "margin": null,
      "max_height": null,
      "max_width": null,
      "min_height": null,
      "min_width": null,
      "object_fit": null,
      "object_position": null,
      "order": null,
      "overflow": null,
      "overflow_x": null,
      "overflow_y": null,
      "padding": null,
      "right": null,
      "top": null,
      "visibility": null,
      "width": null
     }
    },
    "707af47d24814cda92254bc0d5b0829d": {
     "model_module": "@jupyter-widgets/controls",
     "model_module_version": "1.5.0",
     "model_name": "HTMLModel",
     "state": {
      "_dom_classes": [],
      "_model_module": "@jupyter-widgets/controls",
      "_model_module_version": "1.5.0",
      "_model_name": "HTMLModel",
      "_view_count": null,
      "_view_module": "@jupyter-widgets/controls",
      "_view_module_version": "1.5.0",
      "_view_name": "HTMLView",
      "description": "",
      "description_tooltip": null,
      "layout": "IPY_MODEL_0b88ca6bae95407fa037749e9158f14a",
      "placeholder": "​",
      "style": "IPY_MODEL_daeb8d654133463aa5040e6e82c99dc4",
      "value": "Downloading (…)lve/main/config.json: 100%"
     }
    },
    "710eeac0715441aaaa4eeecafadee09b": {
     "model_module": "@jupyter-widgets/base",
     "model_module_version": "1.2.0",
     "model_name": "LayoutModel",
     "state": {
      "_model_module": "@jupyter-widgets/base",
      "_model_module_version": "1.2.0",
      "_model_name": "LayoutModel",
      "_view_count": null,
      "_view_module": "@jupyter-widgets/base",
      "_view_module_version": "1.2.0",
      "_view_name": "LayoutView",
      "align_content": null,
      "align_items": null,
      "align_self": null,
      "border": null,
      "bottom": null,
      "display": null,
      "flex": null,
      "flex_flow": null,
      "grid_area": null,
      "grid_auto_columns": null,
      "grid_auto_flow": null,
      "grid_auto_rows": null,
      "grid_column": null,
      "grid_gap": null,
      "grid_row": null,
      "grid_template_areas": null,
      "grid_template_columns": null,
      "grid_template_rows": null,
      "height": null,
      "justify_content": null,
      "justify_items": null,
      "left": null,
      "margin": null,
      "max_height": null,
      "max_width": null,
      "min_height": null,
      "min_width": null,
      "object_fit": null,
      "object_position": null,
      "order": null,
      "overflow": null,
      "overflow_x": null,
      "overflow_y": null,
      "padding": null,
      "right": null,
      "top": null,
      "visibility": null,
      "width": null
     }
    },
    "76293d449e3d4079afe8cbb61b557f1c": {
     "model_module": "@jupyter-widgets/controls",
     "model_module_version": "1.5.0",
     "model_name": "HTMLModel",
     "state": {
      "_dom_classes": [],
      "_model_module": "@jupyter-widgets/controls",
      "_model_module_version": "1.5.0",
      "_model_name": "HTMLModel",
      "_view_count": null,
      "_view_module": "@jupyter-widgets/controls",
      "_view_module_version": "1.5.0",
      "_view_name": "HTMLView",
      "description": "",
      "description_tooltip": null,
      "layout": "IPY_MODEL_135bd910db8343b098434946aca60ba6",
      "placeholder": "​",
      "style": "IPY_MODEL_d6671c9ae5124706acba20857aa940f5",
      "value": " 718/718 [00:00&lt;00:00, 26.0kB/s]"
     }
    },
    "78958bdbc32f4dce81ff6a4d85bce59c": {
     "model_module": "@jupyter-widgets/controls",
     "model_module_version": "1.5.0",
     "model_name": "DescriptionStyleModel",
     "state": {
      "_model_module": "@jupyter-widgets/controls",
      "_model_module_version": "1.5.0",
      "_model_name": "DescriptionStyleModel",
      "_view_count": null,
      "_view_module": "@jupyter-widgets/base",
      "_view_module_version": "1.2.0",
      "_view_name": "StyleView",
      "description_width": ""
     }
    },
    "7b61089478354ca1b107cf52e14fe3f4": {
     "model_module": "@jupyter-widgets/controls",
     "model_module_version": "1.5.0",
     "model_name": "ProgressStyleModel",
     "state": {
      "_model_module": "@jupyter-widgets/controls",
      "_model_module_version": "1.5.0",
      "_model_name": "ProgressStyleModel",
      "_view_count": null,
      "_view_module": "@jupyter-widgets/base",
      "_view_module_version": "1.2.0",
      "_view_name": "StyleView",
      "bar_color": null,
      "description_width": ""
     }
    },
    "80b566f67f6140fdaf35fc37444e3244": {
     "model_module": "@jupyter-widgets/controls",
     "model_module_version": "1.5.0",
     "model_name": "HTMLModel",
     "state": {
      "_dom_classes": [],
      "_model_module": "@jupyter-widgets/controls",
      "_model_module_version": "1.5.0",
      "_model_name": "HTMLModel",
      "_view_count": null,
      "_view_module": "@jupyter-widgets/controls",
      "_view_module_version": "1.5.0",
      "_view_name": "HTMLView",
      "description": "",
      "description_tooltip": null,
      "layout": "IPY_MODEL_60b59cb0e02c425fa9a3c8797d3e7737",
      "placeholder": "​",
      "style": "IPY_MODEL_2b9a40748c8d4db3b95ff1ee8a9c6997",
      "value": "Downloading (…)olve/main/merges.txt: 100%"
     }
    },
    "81d56e5f6e2d47248349024f10ccff48": {
     "model_module": "@jupyter-widgets/base",
     "model_module_version": "1.2.0",
     "model_name": "LayoutModel",
     "state": {
      "_model_module": "@jupyter-widgets/base",
      "_model_module_version": "1.2.0",
      "_model_name": "LayoutModel",
      "_view_count": null,
      "_view_module": "@jupyter-widgets/base",
      "_view_module_version": "1.2.0",
      "_view_name": "LayoutView",
      "align_content": null,
      "align_items": null,
      "align_self": null,
      "border": null,
      "bottom": null,
      "display": null,
      "flex": null,
      "flex_flow": null,
      "grid_area": null,
      "grid_auto_columns": null,
      "grid_auto_flow": null,
      "grid_auto_rows": null,
      "grid_column": null,
      "grid_gap": null,
      "grid_row": null,
      "grid_template_areas": null,
      "grid_template_columns": null,
      "grid_template_rows": null,
      "height": null,
      "justify_content": null,
      "justify_items": null,
      "left": null,
      "margin": null,
      "max_height": null,
      "max_width": null,
      "min_height": null,
      "min_width": null,
      "object_fit": null,
      "object_position": null,
      "order": null,
      "overflow": null,
      "overflow_x": null,
      "overflow_y": null,
      "padding": null,
      "right": null,
      "top": null,
      "visibility": null,
      "width": null
     }
    },
    "827561765d7d449d88e4e081f29ecf94": {
     "model_module": "@jupyter-widgets/controls",
     "model_module_version": "1.5.0",
     "model_name": "DescriptionStyleModel",
     "state": {
      "_model_module": "@jupyter-widgets/controls",
      "_model_module_version": "1.5.0",
      "_model_name": "DescriptionStyleModel",
      "_view_count": null,
      "_view_module": "@jupyter-widgets/base",
      "_view_module_version": "1.2.0",
      "_view_name": "StyleView",
      "description_width": ""
     }
    },
    "8481548a099b418eb75c2a58bf1c0392": {
     "model_module": "@jupyter-widgets/base",
     "model_module_version": "1.2.0",
     "model_name": "LayoutModel",
     "state": {
      "_model_module": "@jupyter-widgets/base",
      "_model_module_version": "1.2.0",
      "_model_name": "LayoutModel",
      "_view_count": null,
      "_view_module": "@jupyter-widgets/base",
      "_view_module_version": "1.2.0",
      "_view_name": "LayoutView",
      "align_content": null,
      "align_items": null,
      "align_self": null,
      "border": null,
      "bottom": null,
      "display": null,
      "flex": null,
      "flex_flow": null,
      "grid_area": null,
      "grid_auto_columns": null,
      "grid_auto_flow": null,
      "grid_auto_rows": null,
      "grid_column": null,
      "grid_gap": null,
      "grid_row": null,
      "grid_template_areas": null,
      "grid_template_columns": null,
      "grid_template_rows": null,
      "height": null,
      "justify_content": null,
      "justify_items": null,
      "left": null,
      "margin": null,
      "max_height": null,
      "max_width": null,
      "min_height": null,
      "min_width": null,
      "object_fit": null,
      "object_position": null,
      "order": null,
      "overflow": null,
      "overflow_x": null,
      "overflow_y": null,
      "padding": null,
      "right": null,
      "top": null,
      "visibility": null,
      "width": null
     }
    },
    "8d85602bc81d41ac9713f233226b776b": {
     "model_module": "@jupyter-widgets/controls",
     "model_module_version": "1.5.0",
     "model_name": "HBoxModel",
     "state": {
      "_dom_classes": [],
      "_model_module": "@jupyter-widgets/controls",
      "_model_module_version": "1.5.0",
      "_model_name": "HBoxModel",
      "_view_count": null,
      "_view_module": "@jupyter-widgets/controls",
      "_view_module_version": "1.5.0",
      "_view_name": "HBoxView",
      "box_style": "",
      "children": [
       "IPY_MODEL_caf29636500d4d148a8bf040bd09c588",
       "IPY_MODEL_5dade36200974c67bf850860f63da08d",
       "IPY_MODEL_2b578b058aff403087bd91a7cd880f17"
      ],
      "layout": "IPY_MODEL_cd5447878cfa448a92a2e4f7684e6c7a"
     }
    },
    "94215200942f4917a399699009c77e81": {
     "model_module": "@jupyter-widgets/controls",
     "model_module_version": "1.5.0",
     "model_name": "DescriptionStyleModel",
     "state": {
      "_model_module": "@jupyter-widgets/controls",
      "_model_module_version": "1.5.0",
      "_model_name": "DescriptionStyleModel",
      "_view_count": null,
      "_view_module": "@jupyter-widgets/base",
      "_view_module_version": "1.2.0",
      "_view_name": "StyleView",
      "description_width": ""
     }
    },
    "9686d51a82b24193ab6613faa05ca399": {
     "model_module": "@jupyter-widgets/controls",
     "model_module_version": "1.5.0",
     "model_name": "HTMLModel",
     "state": {
      "_dom_classes": [],
      "_model_module": "@jupyter-widgets/controls",
      "_model_module_version": "1.5.0",
      "_model_name": "HTMLModel",
      "_view_count": null,
      "_view_module": "@jupyter-widgets/controls",
      "_view_module_version": "1.5.0",
      "_view_name": "HTMLView",
      "description": "",
      "description_tooltip": null,
      "layout": "IPY_MODEL_fee65605f7b64b3b92202a525f0b0394",
      "placeholder": "​",
      "style": "IPY_MODEL_78958bdbc32f4dce81ff6a4d85bce59c",
      "value": "Downloading (…)olve/main/vocab.json: 100%"
     }
    },
    "aae0c27ef72d4b04b0a1c2350046dd29": {
     "model_module": "@jupyter-widgets/base",
     "model_module_version": "1.2.0",
     "model_name": "LayoutModel",
     "state": {
      "_model_module": "@jupyter-widgets/base",
      "_model_module_version": "1.2.0",
      "_model_name": "LayoutModel",
      "_view_count": null,
      "_view_module": "@jupyter-widgets/base",
      "_view_module_version": "1.2.0",
      "_view_name": "LayoutView",
      "align_content": null,
      "align_items": null,
      "align_self": null,
      "border": null,
      "bottom": null,
      "display": null,
      "flex": null,
      "flex_flow": null,
      "grid_area": null,
      "grid_auto_columns": null,
      "grid_auto_flow": null,
      "grid_auto_rows": null,
      "grid_column": null,
      "grid_gap": null,
      "grid_row": null,
      "grid_template_areas": null,
      "grid_template_columns": null,
      "grid_template_rows": null,
      "height": null,
      "justify_content": null,
      "justify_items": null,
      "left": null,
      "margin": null,
      "max_height": null,
      "max_width": null,
      "min_height": null,
      "min_width": null,
      "object_fit": null,
      "object_position": null,
      "order": null,
      "overflow": null,
      "overflow_x": null,
      "overflow_y": null,
      "padding": null,
      "right": null,
      "top": null,
      "visibility": null,
      "width": null
     }
    },
    "b011ad52d4fd455aabf8da00cf061307": {
     "model_module": "@jupyter-widgets/controls",
     "model_module_version": "1.5.0",
     "model_name": "ProgressStyleModel",
     "state": {
      "_model_module": "@jupyter-widgets/controls",
      "_model_module_version": "1.5.0",
      "_model_name": "ProgressStyleModel",
      "_view_count": null,
      "_view_module": "@jupyter-widgets/base",
      "_view_module_version": "1.2.0",
      "_view_name": "StyleView",
      "bar_color": null,
      "description_width": ""
     }
    },
    "b06f3bcd0e564cd390c352e908b4a155": {
     "model_module": "@jupyter-widgets/controls",
     "model_module_version": "1.5.0",
     "model_name": "FloatProgressModel",
     "state": {
      "_dom_classes": [],
      "_model_module": "@jupyter-widgets/controls",
      "_model_module_version": "1.5.0",
      "_model_name": "FloatProgressModel",
      "_view_count": null,
      "_view_module": "@jupyter-widgets/controls",
      "_view_module_version": "1.5.0",
      "_view_name": "ProgressView",
      "bar_style": "success",
      "description": "",
      "description_tooltip": null,
      "layout": "IPY_MODEL_61ab21f5d60c4c2092341ff865955e0e",
      "max": 124,
      "min": 0,
      "orientation": "horizontal",
      "style": "IPY_MODEL_b011ad52d4fd455aabf8da00cf061307",
      "value": 124
     }
    },
    "b2b282ae9a5440ebac487bfcfb6337f4": {
     "model_module": "@jupyter-widgets/controls",
     "model_module_version": "1.5.0",
     "model_name": "FloatProgressModel",
     "state": {
      "_dom_classes": [],
      "_model_module": "@jupyter-widgets/controls",
      "_model_module_version": "1.5.0",
      "_model_name": "FloatProgressModel",
      "_view_count": null,
      "_view_module": "@jupyter-widgets/controls",
      "_view_module_version": "1.5.0",
      "_view_name": "ProgressView",
      "bar_style": "success",
      "description": "",
      "description_tooltip": null,
      "layout": "IPY_MODEL_de1ad01b632f4ec1b803bac342119631",
      "max": 1042301,
      "min": 0,
      "orientation": "horizontal",
      "style": "IPY_MODEL_be62b88cc7194e40a2dc4459b257e4a1",
      "value": 1042301
     }
    },
    "be62b88cc7194e40a2dc4459b257e4a1": {
     "model_module": "@jupyter-widgets/controls",
     "model_module_version": "1.5.0",
     "model_name": "ProgressStyleModel",
     "state": {
      "_model_module": "@jupyter-widgets/controls",
      "_model_module_version": "1.5.0",
      "_model_name": "ProgressStyleModel",
      "_view_count": null,
      "_view_module": "@jupyter-widgets/base",
      "_view_module_version": "1.2.0",
      "_view_name": "StyleView",
      "bar_color": null,
      "description_width": ""
     }
    },
    "c6cdac8fd1ac4904b1056fc301fa77ff": {
     "model_module": "@jupyter-widgets/controls",
     "model_module_version": "1.5.0",
     "model_name": "DescriptionStyleModel",
     "state": {
      "_model_module": "@jupyter-widgets/controls",
      "_model_module_version": "1.5.0",
      "_model_name": "DescriptionStyleModel",
      "_view_count": null,
      "_view_module": "@jupyter-widgets/base",
      "_view_module_version": "1.2.0",
      "_view_name": "StyleView",
      "description_width": ""
     }
    },
    "c747aeb4e85a48ca85f85df52be4cc16": {
     "model_module": "@jupyter-widgets/controls",
     "model_module_version": "1.5.0",
     "model_name": "HTMLModel",
     "state": {
      "_dom_classes": [],
      "_model_module": "@jupyter-widgets/controls",
      "_model_module_version": "1.5.0",
      "_model_name": "HTMLModel",
      "_view_count": null,
      "_view_module": "@jupyter-widgets/controls",
      "_view_module_version": "1.5.0",
      "_view_name": "HTMLView",
      "description": "",
      "description_tooltip": null,
      "layout": "IPY_MODEL_f8079702d4cc46398b34a25cb9a5043b",
      "placeholder": "​",
      "style": "IPY_MODEL_686b3d98c9fd4f77b5bd1f29acd328c7",
      "value": " 124/124 [00:00&lt;00:00, 1.56kB/s]"
     }
    },
    "caac66d653ba4569a93a99ed2d81dea3": {
     "model_module": "@jupyter-widgets/base",
     "model_module_version": "1.2.0",
     "model_name": "LayoutModel",
     "state": {
      "_model_module": "@jupyter-widgets/base",
      "_model_module_version": "1.2.0",
      "_model_name": "LayoutModel",
      "_view_count": null,
      "_view_module": "@jupyter-widgets/base",
      "_view_module_version": "1.2.0",
      "_view_name": "LayoutView",
      "align_content": null,
      "align_items": null,
      "align_self": null,
      "border": null,
      "bottom": null,
      "display": null,
      "flex": null,
      "flex_flow": null,
      "grid_area": null,
      "grid_auto_columns": null,
      "grid_auto_flow": null,
      "grid_auto_rows": null,
      "grid_column": null,
      "grid_gap": null,
      "grid_row": null,
      "grid_template_areas": null,
      "grid_template_columns": null,
      "grid_template_rows": null,
      "height": null,
      "justify_content": null,
      "justify_items": null,
      "left": null,
      "margin": null,
      "max_height": null,
      "max_width": null,
      "min_height": null,
      "min_width": null,
      "object_fit": null,
      "object_position": null,
      "order": null,
      "overflow": null,
      "overflow_x": null,
      "overflow_y": null,
      "padding": null,
      "right": null,
      "top": null,
      "visibility": null,
      "width": null
     }
    },
    "caf29636500d4d148a8bf040bd09c588": {
     "model_module": "@jupyter-widgets/controls",
     "model_module_version": "1.5.0",
     "model_name": "HTMLModel",
     "state": {
      "_dom_classes": [],
      "_model_module": "@jupyter-widgets/controls",
      "_model_module_version": "1.5.0",
      "_model_name": "HTMLModel",
      "_view_count": null,
      "_view_module": "@jupyter-widgets/controls",
      "_view_module_version": "1.5.0",
      "_view_name": "HTMLView",
      "description": "",
      "description_tooltip": null,
      "layout": "IPY_MODEL_f4b886121757481a9ab643e3078219c0",
      "placeholder": "​",
      "style": "IPY_MODEL_44a8057aed0f4582ba4da9e21627a64e",
      "value": "Downloading (…)/main/tokenizer.json: 100%"
     }
    },
    "cd5447878cfa448a92a2e4f7684e6c7a": {
     "model_module": "@jupyter-widgets/base",
     "model_module_version": "1.2.0",
     "model_name": "LayoutModel",
     "state": {
      "_model_module": "@jupyter-widgets/base",
      "_model_module_version": "1.2.0",
      "_model_name": "LayoutModel",
      "_view_count": null,
      "_view_module": "@jupyter-widgets/base",
      "_view_module_version": "1.2.0",
      "_view_name": "LayoutView",
      "align_content": null,
      "align_items": null,
      "align_self": null,
      "border": null,
      "bottom": null,
      "display": null,
      "flex": null,
      "flex_flow": null,
      "grid_area": null,
      "grid_auto_columns": null,
      "grid_auto_flow": null,
      "grid_auto_rows": null,
      "grid_column": null,
      "grid_gap": null,
      "grid_row": null,
      "grid_template_areas": null,
      "grid_template_columns": null,
      "grid_template_rows": null,
      "height": null,
      "justify_content": null,
      "justify_items": null,
      "left": null,
      "margin": null,
      "max_height": null,
      "max_width": null,
      "min_height": null,
      "min_width": null,
      "object_fit": null,
      "object_position": null,
      "order": null,
      "overflow": null,
      "overflow_x": null,
      "overflow_y": null,
      "padding": null,
      "right": null,
      "top": null,
      "visibility": null,
      "width": null
     }
    },
    "ce7a89c45712483eabdfd726e97b71c5": {
     "model_module": "@jupyter-widgets/controls",
     "model_module_version": "1.5.0",
     "model_name": "ProgressStyleModel",
     "state": {
      "_model_module": "@jupyter-widgets/controls",
      "_model_module_version": "1.5.0",
      "_model_name": "ProgressStyleModel",
      "_view_count": null,
      "_view_module": "@jupyter-widgets/base",
      "_view_module_version": "1.2.0",
      "_view_name": "StyleView",
      "bar_color": null,
      "description_width": ""
     }
    },
    "d060b1abad764e35a04a07cf436ffc11": {
     "model_module": "@jupyter-widgets/base",
     "model_module_version": "1.2.0",
     "model_name": "LayoutModel",
     "state": {
      "_model_module": "@jupyter-widgets/base",
      "_model_module_version": "1.2.0",
      "_model_name": "LayoutModel",
      "_view_count": null,
      "_view_module": "@jupyter-widgets/base",
      "_view_module_version": "1.2.0",
      "_view_name": "LayoutView",
      "align_content": null,
      "align_items": null,
      "align_self": null,
      "border": null,
      "bottom": null,
      "display": null,
      "flex": null,
      "flex_flow": null,
      "grid_area": null,
      "grid_auto_columns": null,
      "grid_auto_flow": null,
      "grid_auto_rows": null,
      "grid_column": null,
      "grid_gap": null,
      "grid_row": null,
      "grid_template_areas": null,
      "grid_template_columns": null,
      "grid_template_rows": null,
      "height": null,
      "justify_content": null,
      "justify_items": null,
      "left": null,
      "margin": null,
      "max_height": null,
      "max_width": null,
      "min_height": null,
      "min_width": null,
      "object_fit": null,
      "object_position": null,
      "order": null,
      "overflow": null,
      "overflow_x": null,
      "overflow_y": null,
      "padding": null,
      "right": null,
      "top": null,
      "visibility": null,
      "width": null
     }
    },
    "d0f58bd18a124c628a1333d087c07f32": {
     "model_module": "@jupyter-widgets/base",
     "model_module_version": "1.2.0",
     "model_name": "LayoutModel",
     "state": {
      "_model_module": "@jupyter-widgets/base",
      "_model_module_version": "1.2.0",
      "_model_name": "LayoutModel",
      "_view_count": null,
      "_view_module": "@jupyter-widgets/base",
      "_view_module_version": "1.2.0",
      "_view_name": "LayoutView",
      "align_content": null,
      "align_items": null,
      "align_self": null,
      "border": null,
      "bottom": null,
      "display": null,
      "flex": null,
      "flex_flow": null,
      "grid_area": null,
      "grid_auto_columns": null,
      "grid_auto_flow": null,
      "grid_auto_rows": null,
      "grid_column": null,
      "grid_gap": null,
      "grid_row": null,
      "grid_template_areas": null,
      "grid_template_columns": null,
      "grid_template_rows": null,
      "height": null,
      "justify_content": null,
      "justify_items": null,
      "left": null,
      "margin": null,
      "max_height": null,
      "max_width": null,
      "min_height": null,
      "min_width": null,
      "object_fit": null,
      "object_position": null,
      "order": null,
      "overflow": null,
      "overflow_x": null,
      "overflow_y": null,
      "padding": null,
      "right": null,
      "top": null,
      "visibility": null,
      "width": null
     }
    },
    "d6671c9ae5124706acba20857aa940f5": {
     "model_module": "@jupyter-widgets/controls",
     "model_module_version": "1.5.0",
     "model_name": "DescriptionStyleModel",
     "state": {
      "_model_module": "@jupyter-widgets/controls",
      "_model_module_version": "1.5.0",
      "_model_name": "DescriptionStyleModel",
      "_view_count": null,
      "_view_module": "@jupyter-widgets/base",
      "_view_module_version": "1.2.0",
      "_view_name": "StyleView",
      "description_width": ""
     }
    },
    "d80051239dcc43b485bc8460876df43a": {
     "model_module": "@jupyter-widgets/controls",
     "model_module_version": "1.5.0",
     "model_name": "HTMLModel",
     "state": {
      "_dom_classes": [],
      "_model_module": "@jupyter-widgets/controls",
      "_model_module_version": "1.5.0",
      "_model_name": "HTMLModel",
      "_view_count": null,
      "_view_module": "@jupyter-widgets/controls",
      "_view_module_version": "1.5.0",
      "_view_name": "HTMLView",
      "description": "",
      "description_tooltip": null,
      "layout": "IPY_MODEL_aae0c27ef72d4b04b0a1c2350046dd29",
      "placeholder": "​",
      "style": "IPY_MODEL_e1a68e49a62f4c828b54ac75acd1c3d4",
      "value": "Downloading (…)neration_config.json: 100%"
     }
    },
    "daeb8d654133463aa5040e6e82c99dc4": {
     "model_module": "@jupyter-widgets/controls",
     "model_module_version": "1.5.0",
     "model_name": "DescriptionStyleModel",
     "state": {
      "_model_module": "@jupyter-widgets/controls",
      "_model_module_version": "1.5.0",
      "_model_name": "DescriptionStyleModel",
      "_view_count": null,
      "_view_module": "@jupyter-widgets/base",
      "_view_module_version": "1.2.0",
      "_view_name": "StyleView",
      "description_width": ""
     }
    },
    "de1ad01b632f4ec1b803bac342119631": {
     "model_module": "@jupyter-widgets/base",
     "model_module_version": "1.2.0",
     "model_name": "LayoutModel",
     "state": {
      "_model_module": "@jupyter-widgets/base",
      "_model_module_version": "1.2.0",
      "_model_name": "LayoutModel",
      "_view_count": null,
      "_view_module": "@jupyter-widgets/base",
      "_view_module_version": "1.2.0",
      "_view_name": "LayoutView",
      "align_content": null,
      "align_items": null,
      "align_self": null,
      "border": null,
      "bottom": null,
      "display": null,
      "flex": null,
      "flex_flow": null,
      "grid_area": null,
      "grid_auto_columns": null,
      "grid_auto_flow": null,
      "grid_auto_rows": null,
      "grid_column": null,
      "grid_gap": null,
      "grid_row": null,
      "grid_template_areas": null,
      "grid_template_columns": null,
      "grid_template_rows": null,
      "height": null,
      "justify_content": null,
      "justify_items": null,
      "left": null,
      "margin": null,
      "max_height": null,
      "max_width": null,
      "min_height": null,
      "min_width": null,
      "object_fit": null,
      "object_position": null,
      "order": null,
      "overflow": null,
      "overflow_x": null,
      "overflow_y": null,
      "padding": null,
      "right": null,
      "top": null,
      "visibility": null,
      "width": null
     }
    },
    "e1a68e49a62f4c828b54ac75acd1c3d4": {
     "model_module": "@jupyter-widgets/controls",
     "model_module_version": "1.5.0",
     "model_name": "DescriptionStyleModel",
     "state": {
      "_model_module": "@jupyter-widgets/controls",
      "_model_module_version": "1.5.0",
      "_model_name": "DescriptionStyleModel",
      "_view_count": null,
      "_view_module": "@jupyter-widgets/base",
      "_view_module_version": "1.2.0",
      "_view_name": "StyleView",
      "description_width": ""
     }
    },
    "e2c13acf5e0c44bc8cca7963557f1612": {
     "model_module": "@jupyter-widgets/controls",
     "model_module_version": "1.5.0",
     "model_name": "HBoxModel",
     "state": {
      "_dom_classes": [],
      "_model_module": "@jupyter-widgets/controls",
      "_model_module_version": "1.5.0",
      "_model_name": "HBoxModel",
      "_view_count": null,
      "_view_module": "@jupyter-widgets/controls",
      "_view_module_version": "1.5.0",
      "_view_name": "HBoxView",
      "box_style": "",
      "children": [
       "IPY_MODEL_d80051239dcc43b485bc8460876df43a",
       "IPY_MODEL_b06f3bcd0e564cd390c352e908b4a155",
       "IPY_MODEL_c747aeb4e85a48ca85f85df52be4cc16"
      ],
      "layout": "IPY_MODEL_81d56e5f6e2d47248349024f10ccff48"
     }
    },
    "e62fc02601724750b6a03cab763a3547": {
     "model_module": "@jupyter-widgets/base",
     "model_module_version": "1.2.0",
     "model_name": "LayoutModel",
     "state": {
      "_model_module": "@jupyter-widgets/base",
      "_model_module_version": "1.2.0",
      "_model_name": "LayoutModel",
      "_view_count": null,
      "_view_module": "@jupyter-widgets/base",
      "_view_module_version": "1.2.0",
      "_view_name": "LayoutView",
      "align_content": null,
      "align_items": null,
      "align_self": null,
      "border": null,
      "bottom": null,
      "display": null,
      "flex": null,
      "flex_flow": null,
      "grid_area": null,
      "grid_auto_columns": null,
      "grid_auto_flow": null,
      "grid_auto_rows": null,
      "grid_column": null,
      "grid_gap": null,
      "grid_row": null,
      "grid_template_areas": null,
      "grid_template_columns": null,
      "grid_template_rows": null,
      "height": null,
      "justify_content": null,
      "justify_items": null,
      "left": null,
      "margin": null,
      "max_height": null,
      "max_width": null,
      "min_height": null,
      "min_width": null,
      "object_fit": null,
      "object_position": null,
      "order": null,
      "overflow": null,
      "overflow_x": null,
      "overflow_y": null,
      "padding": null,
      "right": null,
      "top": null,
      "visibility": null,
      "width": null
     }
    },
    "ea97603c635744e4a43d44f22738925a": {
     "model_module": "@jupyter-widgets/controls",
     "model_module_version": "1.5.0",
     "model_name": "HTMLModel",
     "state": {
      "_dom_classes": [],
      "_model_module": "@jupyter-widgets/controls",
      "_model_module_version": "1.5.0",
      "_model_name": "HTMLModel",
      "_view_count": null,
      "_view_module": "@jupyter-widgets/controls",
      "_view_module_version": "1.5.0",
      "_view_name": "HTMLView",
      "description": "",
      "description_tooltip": null,
      "layout": "IPY_MODEL_310484fc73294461a648893684bcc83f",
      "placeholder": "​",
      "style": "IPY_MODEL_414c8705b70b49d6a185dc571f194a6f",
      "value": " 456k/456k [00:00&lt;00:00, 5.87MB/s]"
     }
    },
    "eca4427e45124269b9ef9897dc030f1f": {
     "model_module": "@jupyter-widgets/controls",
     "model_module_version": "1.5.0",
     "model_name": "ProgressStyleModel",
     "state": {
      "_model_module": "@jupyter-widgets/controls",
      "_model_module_version": "1.5.0",
      "_model_name": "ProgressStyleModel",
      "_view_count": null,
      "_view_module": "@jupyter-widgets/base",
      "_view_module_version": "1.2.0",
      "_view_name": "StyleView",
      "bar_color": null,
      "description_width": ""
     }
    },
    "f4b886121757481a9ab643e3078219c0": {
     "model_module": "@jupyter-widgets/base",
     "model_module_version": "1.2.0",
     "model_name": "LayoutModel",
     "state": {
      "_model_module": "@jupyter-widgets/base",
      "_model_module_version": "1.2.0",
      "_model_name": "LayoutModel",
      "_view_count": null,
      "_view_module": "@jupyter-widgets/base",
      "_view_module_version": "1.2.0",
      "_view_name": "LayoutView",
      "align_content": null,
      "align_items": null,
      "align_self": null,
      "border": null,
      "bottom": null,
      "display": null,
      "flex": null,
      "flex_flow": null,
      "grid_area": null,
      "grid_auto_columns": null,
      "grid_auto_flow": null,
      "grid_auto_rows": null,
      "grid_column": null,
      "grid_gap": null,
      "grid_row": null,
      "grid_template_areas": null,
      "grid_template_columns": null,
      "grid_template_rows": null,
      "height": null,
      "justify_content": null,
      "justify_items": null,
      "left": null,
      "margin": null,
      "max_height": null,
      "max_width": null,
      "min_height": null,
      "min_width": null,
      "object_fit": null,
      "object_position": null,
      "order": null,
      "overflow": null,
      "overflow_x": null,
      "overflow_y": null,
      "padding": null,
      "right": null,
      "top": null,
      "visibility": null,
      "width": null
     }
    },
    "f6dfc55099e94f8bbdb3c2efcdea1fb7": {
     "model_module": "@jupyter-widgets/controls",
     "model_module_version": "1.5.0",
     "model_name": "HTMLModel",
     "state": {
      "_dom_classes": [],
      "_model_module": "@jupyter-widgets/controls",
      "_model_module_version": "1.5.0",
      "_model_name": "HTMLModel",
      "_view_count": null,
      "_view_module": "@jupyter-widgets/controls",
      "_view_module_version": "1.5.0",
      "_view_name": "HTMLView",
      "description": "",
      "description_tooltip": null,
      "layout": "IPY_MODEL_59a0ec026e2f4c38bd465cc698dc7558",
      "placeholder": "​",
      "style": "IPY_MODEL_c6cdac8fd1ac4904b1056fc301fa77ff",
      "value": " 1.52G/1.52G [00:29&lt;00:00, 47.4MB/s]"
     }
    },
    "f8079702d4cc46398b34a25cb9a5043b": {
     "model_module": "@jupyter-widgets/base",
     "model_module_version": "1.2.0",
     "model_name": "LayoutModel",
     "state": {
      "_model_module": "@jupyter-widgets/base",
      "_model_module_version": "1.2.0",
      "_model_name": "LayoutModel",
      "_view_count": null,
      "_view_module": "@jupyter-widgets/base",
      "_view_module_version": "1.2.0",
      "_view_name": "LayoutView",
      "align_content": null,
      "align_items": null,
      "align_self": null,
      "border": null,
      "bottom": null,
      "display": null,
      "flex": null,
      "flex_flow": null,
      "grid_area": null,
      "grid_auto_columns": null,
      "grid_auto_flow": null,
      "grid_auto_rows": null,
      "grid_column": null,
      "grid_gap": null,
      "grid_row": null,
      "grid_template_areas": null,
      "grid_template_columns": null,
      "grid_template_rows": null,
      "height": null,
      "justify_content": null,
      "justify_items": null,
      "left": null,
      "margin": null,
      "max_height": null,
      "max_width": null,
      "min_height": null,
      "min_width": null,
      "object_fit": null,
      "object_position": null,
      "order": null,
      "overflow": null,
      "overflow_x": null,
      "overflow_y": null,
      "padding": null,
      "right": null,
      "top": null,
      "visibility": null,
      "width": null
     }
    },
    "fee65605f7b64b3b92202a525f0b0394": {
     "model_module": "@jupyter-widgets/base",
     "model_module_version": "1.2.0",
     "model_name": "LayoutModel",
     "state": {
      "_model_module": "@jupyter-widgets/base",
      "_model_module_version": "1.2.0",
      "_model_name": "LayoutModel",
      "_view_count": null,
      "_view_module": "@jupyter-widgets/base",
      "_view_module_version": "1.2.0",
      "_view_name": "LayoutView",
      "align_content": null,
      "align_items": null,
      "align_self": null,
      "border": null,
      "bottom": null,
      "display": null,
      "flex": null,
      "flex_flow": null,
      "grid_area": null,
      "grid_auto_columns": null,
      "grid_auto_flow": null,
      "grid_auto_rows": null,
      "grid_column": null,
      "grid_gap": null,
      "grid_row": null,
      "grid_template_areas": null,
      "grid_template_columns": null,
      "grid_template_rows": null,
      "height": null,
      "justify_content": null,
      "justify_items": null,
      "left": null,
      "margin": null,
      "max_height": null,
      "max_width": null,
      "min_height": null,
      "min_width": null,
      "object_fit": null,
      "object_position": null,
      "order": null,
      "overflow": null,
      "overflow_x": null,
      "overflow_y": null,
      "padding": null,
      "right": null,
      "top": null,
      "visibility": null,
      "width": null
     }
    }
   }
  }
 },
 "nbformat": 4,
 "nbformat_minor": 4
}
